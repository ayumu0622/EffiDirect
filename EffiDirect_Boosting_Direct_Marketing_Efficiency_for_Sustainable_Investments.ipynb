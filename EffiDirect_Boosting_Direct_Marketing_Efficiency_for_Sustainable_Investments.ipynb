{
  "nbformat": 4,
  "nbformat_minor": 0,
  "metadata": {
    "colab": {
      "provenance": []
    },
    "kernelspec": {
      "name": "python3",
      "display_name": "Python 3"
    },
    "language_info": {
      "name": "python"
    }
  },
  "cells": [
    {
      "cell_type": "markdown",
      "source": [
        "# Welcome to the Personal Project - EffiDirect: Boosting Direct Marketing Efficiency for Sustainable Investments\n",
        "\n",
        "\n",
        "Hello! I'm Ayumu Justin Ueda, a Data Science student at UC Berkeley. You can find my profile on (https://www.linkedin.com/in/ayumu-ueda-ab1879224/).\n",
        "\n",
        "In this project, I'm serving as a data scientist at an investment company, tasked with enhancing the effectiveness of our direct marketing for our new sustainable energy fund. Before joining the company, they attempted to promote a different type of fund to customers. I have been provided with data records detailing each customer's age, job, education, etc., along with whether they purchased those fund through our direct marketing efforts.\n",
        "\n",
        "## Objective:\n",
        "\n",
        "The primary objective is to enhance the KPI, specifically the purchasing rate of the sustainable energy fund.\n",
        "\n",
        "-----\n",
        "## Project Overview:\n",
        "### 1. Identifying Customer Attributes Influencing Marketing Engagement (Regression Analysis):\n",
        "\n",
        "**Skills Applied:**\n",
        "- Data Analysis\n",
        "- Logistic Regression Analysis\n",
        "- Statistical Inference (Z-test)\n",
        "\n",
        "**Conclusion for this section:**\n",
        "- Individuals with higher levels of education show a stronger inclination towards investment banking and are more likely to purchase our fund.\n",
        "- Jobless or retired individuals tend to consider investing for the future, making them a valuable target demographic.\n",
        "- Singles display a higher interest in investing compared to divorced individuals.\n",
        "- Participants from previous marketing efforts are likely to engage in future campaigns.\n",
        "- It's advisable to limit the number of phone calls to 4 to 5 times, as beyond this point, the likelihood of making a purchase significantly decreases.\n",
        "\n",
        "**Suggestions:**\n",
        "\n",
        "Target individuals with higher education, retirees, and singles for phone calls. Prioritize those who engaged in previous marketing. Exercise caution, ensuring the number of contacts remains below 5, unless specific reasons dictate otherwise. This is crucial, as 95% of customer decided to purchase within 4 attempts.\n",
        "\n",
        "\n",
        "### 2. Predicting the Likelihood of Marketing Engagement (Machine Learning Modeling):\n",
        "\n",
        "**Skills Applied:**\n",
        "- Data preprocessing\n",
        "- Machine learning modeling for binary classification\n",
        "- Hyperparameter tuning with Optuna\n",
        "- Model interpretation\n",
        "\n",
        "**Conclusion for this section:**\n",
        "\n",
        "- In the test dataset, our initial approach involved making phone calls to 1569 people, resulting in 367 purchases. With the integration of this model for predictive analysis prior to calling, we only needed to reach out to 288 individuals, and 194 of them made a purchase. This led to a remarkable 80% reduction in our efforts.\n",
        "\n",
        "- The LightGBM classifier, when applied to the test data, successfully pinpointed 53% of individuals who purchased. Following this identification, a 67% purchase rate was observed.\n",
        "\n",
        "- Recognize the potential for a 47% loss in sales opportunities.\n",
        "\n",
        "\n",
        "**Suggestions:**\n",
        "- If minimizing the risk of losing potential customers is a top priority, reconsider using this model. However, if our marketing strategy involves multiple channels, and phone direct marketing is just one component, integrating this model can help trim down inefficiencies in phone calls. The resources saved can then be redirected to other channels, optimizing our overall marketing strategy.\n",
        "\n",
        "----"
      ],
      "metadata": {
        "id": "WCkOuvKZmyB0"
      }
    },
    {
      "cell_type": "markdown",
      "source": [
        "### 0. Importing libraries"
      ],
      "metadata": {
        "id": "EEqpfJJdqY_x"
      }
    },
    {
      "cell_type": "code",
      "source": [
        "!pip install ucimlrepo\n",
        "!pip install optuna\n",
        "import pandas as pd\n",
        "import matplotlib.pyplot as plt\n",
        "import sklearn\n",
        "import seaborn as sns\n",
        "import numpy as np\n",
        "import statsmodels.api as sm\n",
        "import scipy.stats as stats\n",
        "from ucimlrepo import fetch_ucirepo\n",
        "from sklearn.preprocessing import StandardScaler\n",
        "from scipy.stats import chi2_contingency\n",
        "from sklearn.model_selection import train_test_split\n",
        "from sklearn.preprocessing import MinMaxScaler\n",
        "from sklearn.ensemble import RandomForestClassifier\n",
        "from sklearn.metrics import RocCurveDisplay\n",
        "from sklearn.metrics import classification_report\n",
        "from sklearn.svm import SVC\n",
        "from sklearn.linear_model import LogisticRegression\n",
        "from sklearn.neighbors import KNeighborsClassifier\n",
        "import lightgbm as lgb\n",
        "from sklearn.metrics import confusion_matrix, ConfusionMatrixDisplay\n",
        "from sklearn.pipeline import make_pipeline\n",
        "from sklearn.ensemble import  VotingClassifier\n",
        "from sklearn.model_selection import StratifiedKFold\n",
        "from sklearn.metrics import roc_curve, auc, recall_score, f1_score, accuracy_score\n",
        "import optuna\n",
        "from optuna.samplers import RandomSampler\n",
        "import warnings\n",
        "warnings.filterwarnings(\"ignore\")"
      ],
      "metadata": {
        "id": "D5GMypQSqtXf",
        "colab": {
          "base_uri": "https://localhost:8080/"
        },
        "outputId": "35761add-b8c8-4387-bb0e-a41e6b984cfa"
      },
      "execution_count": null,
      "outputs": [
        {
          "output_type": "stream",
          "name": "stdout",
          "text": [
            "Collecting ucimlrepo\n",
            "  Downloading ucimlrepo-0.0.3-py3-none-any.whl (7.0 kB)\n",
            "Installing collected packages: ucimlrepo\n",
            "Successfully installed ucimlrepo-0.0.3\n",
            "Collecting optuna\n",
            "  Downloading optuna-3.5.0-py3-none-any.whl (413 kB)\n",
            "\u001b[2K     \u001b[90m━━━━━━━━━━━━━━━━━━━━━━━━━━━━━━━━━━━━━━━━\u001b[0m \u001b[32m413.4/413.4 kB\u001b[0m \u001b[31m2.9 MB/s\u001b[0m eta \u001b[36m0:00:00\u001b[0m\n",
            "\u001b[?25hCollecting alembic>=1.5.0 (from optuna)\n",
            "  Downloading alembic-1.13.1-py3-none-any.whl (233 kB)\n",
            "\u001b[2K     \u001b[90m━━━━━━━━━━━━━━━━━━━━━━━━━━━━━━━━━━━━━━━━\u001b[0m \u001b[32m233.4/233.4 kB\u001b[0m \u001b[31m13.4 MB/s\u001b[0m eta \u001b[36m0:00:00\u001b[0m\n",
            "\u001b[?25hCollecting colorlog (from optuna)\n",
            "  Downloading colorlog-6.8.0-py3-none-any.whl (11 kB)\n",
            "Requirement already satisfied: numpy in /usr/local/lib/python3.10/dist-packages (from optuna) (1.23.5)\n",
            "Requirement already satisfied: packaging>=20.0 in /usr/local/lib/python3.10/dist-packages (from optuna) (23.2)\n",
            "Requirement already satisfied: sqlalchemy>=1.3.0 in /usr/local/lib/python3.10/dist-packages (from optuna) (2.0.23)\n",
            "Requirement already satisfied: tqdm in /usr/local/lib/python3.10/dist-packages (from optuna) (4.66.1)\n",
            "Requirement already satisfied: PyYAML in /usr/local/lib/python3.10/dist-packages (from optuna) (6.0.1)\n",
            "Collecting Mako (from alembic>=1.5.0->optuna)\n",
            "  Downloading Mako-1.3.0-py3-none-any.whl (78 kB)\n",
            "\u001b[2K     \u001b[90m━━━━━━━━━━━━━━━━━━━━━━━━━━━━━━━━━━━━━━━━\u001b[0m \u001b[32m78.6/78.6 kB\u001b[0m \u001b[31m9.5 MB/s\u001b[0m eta \u001b[36m0:00:00\u001b[0m\n",
            "\u001b[?25hRequirement already satisfied: typing-extensions>=4 in /usr/local/lib/python3.10/dist-packages (from alembic>=1.5.0->optuna) (4.5.0)\n",
            "Requirement already satisfied: greenlet!=0.4.17 in /usr/local/lib/python3.10/dist-packages (from sqlalchemy>=1.3.0->optuna) (3.0.2)\n",
            "Requirement already satisfied: MarkupSafe>=0.9.2 in /usr/local/lib/python3.10/dist-packages (from Mako->alembic>=1.5.0->optuna) (2.1.3)\n",
            "Installing collected packages: Mako, colorlog, alembic, optuna\n",
            "Successfully installed Mako-1.3.0 alembic-1.13.1 colorlog-6.8.0 optuna-3.5.0\n"
          ]
        }
      ]
    },
    {
      "cell_type": "markdown",
      "source": [
        "----"
      ],
      "metadata": {
        "id": "nMzOv_i0H3et"
      }
    },
    {
      "cell_type": "markdown",
      "source": [
        "### **Dataset Information for Reference:**"
      ],
      "metadata": {
        "id": "MxoQMVTk-fl1"
      }
    },
    {
      "cell_type": "markdown",
      "source": [
        "| Column      | Type    | Description                                           |\n",
        "|-------------|---------|-------------------------------------------------------|\n",
        "| age         | Integer | Age                                                   |\n",
        "| job         | Categorical | Occupation type of job                                |\n",
        "| marital     | Categorical | Marital Status                                        |\n",
        "| education   | Categorical | Education Level                                       |\n",
        "| default     | Binary  | Has credit in default?                                |\n",
        "| balance     | Integer | Average yearly balance (euros)                        |\n",
        "| contact     | Categorical | Contact communication type                           |\n",
        "| day_of_week | Date    | Last contact day of the week                          |\n",
        "| month       | Date    | Last contact month of the year                        |\n",
        "| campaign    | Integer | Number of contacts performed during this campaign for this client |\n",
        "| pdays       | Integer | Number of days since the client was last contacted from a previous campaign (-1 means not contacted) |\n",
        "| previous    | Integer | Number of contacts performed before this campaign for this client |\n",
        "| poutcome    | Categorical | Outcome of Previous Campaign                          |\n",
        "| y           | Binary  | whether they purchased our product through this campaign|\n"
      ],
      "metadata": {
        "id": "oSyYjr9W-GD5"
      }
    },
    {
      "cell_type": "markdown",
      "source": [
        "----"
      ],
      "metadata": {
        "id": "kFXuSNkdH8IB"
      }
    },
    {
      "cell_type": "markdown",
      "source": [
        "### 1. **Identifying Customer Attributes Influencing Marketing Engagement (Regression Analysis):**"
      ],
      "metadata": {
        "id": "nHvC7KbIquC5"
      }
    },
    {
      "cell_type": "code",
      "source": [
        "# fetch dataset\n",
        "bank_marketing = fetch_ucirepo(id=222)\n",
        "# data (as pandas dataframes)\n",
        "X = bank_marketing.data.features\n",
        "y = bank_marketing.data.targets\n",
        "X = X.dropna()\n",
        "X = X.join(y)\n",
        "X = X.reset_index(drop=True)\n",
        "y = X[['y']]\n",
        "X = X.drop('y', axis=1)\n",
        "dump_list = ['housing', 'loan', 'duration']\n",
        "X = X.drop(dump_list, axis=1)\n",
        "y['conversion'] = y['y'].apply(lambda x:1 if x=='yes' else 0)\n",
        "y = y.drop('y', axis=1)"
      ],
      "metadata": {
        "id": "2Mxm-83cTew8"
      },
      "execution_count": null,
      "outputs": []
    },
    {
      "cell_type": "code",
      "source": [
        "X.head()"
      ],
      "metadata": {
        "colab": {
          "base_uri": "https://localhost:8080/",
          "height": 206
        },
        "id": "4eBqo1SbTjkh",
        "outputId": "bcc09a00-cf91-4cef-b534-e63df5d37354"
      },
      "execution_count": null,
      "outputs": [
        {
          "output_type": "execute_result",
          "data": {
            "text/plain": [
              "   age         job  marital  education default  balance    contact  \\\n",
              "0   33      admin.  married   tertiary      no      882  telephone   \n",
              "1   42      admin.   single  secondary      no     -247  telephone   \n",
              "2   33    services  married  secondary      no     3444  telephone   \n",
              "3   36  management  married   tertiary      no     2415  telephone   \n",
              "4   36  management  married   tertiary      no        0  telephone   \n",
              "\n",
              "   day_of_week month  campaign  pdays  previous poutcome  \n",
              "0           21   oct         1    151         3  failure  \n",
              "1           21   oct         1    166         1    other  \n",
              "2           21   oct         1     91         4  failure  \n",
              "3           22   oct         1     86         4    other  \n",
              "4           23   oct         1    143         3  failure  "
            ],
            "text/html": [
              "\n",
              "  <div id=\"df-bf4a6244-4966-42b1-9926-22689d8bc329\" class=\"colab-df-container\">\n",
              "    <div>\n",
              "<style scoped>\n",
              "    .dataframe tbody tr th:only-of-type {\n",
              "        vertical-align: middle;\n",
              "    }\n",
              "\n",
              "    .dataframe tbody tr th {\n",
              "        vertical-align: top;\n",
              "    }\n",
              "\n",
              "    .dataframe thead th {\n",
              "        text-align: right;\n",
              "    }\n",
              "</style>\n",
              "<table border=\"1\" class=\"dataframe\">\n",
              "  <thead>\n",
              "    <tr style=\"text-align: right;\">\n",
              "      <th></th>\n",
              "      <th>age</th>\n",
              "      <th>job</th>\n",
              "      <th>marital</th>\n",
              "      <th>education</th>\n",
              "      <th>default</th>\n",
              "      <th>balance</th>\n",
              "      <th>contact</th>\n",
              "      <th>day_of_week</th>\n",
              "      <th>month</th>\n",
              "      <th>campaign</th>\n",
              "      <th>pdays</th>\n",
              "      <th>previous</th>\n",
              "      <th>poutcome</th>\n",
              "    </tr>\n",
              "  </thead>\n",
              "  <tbody>\n",
              "    <tr>\n",
              "      <th>0</th>\n",
              "      <td>33</td>\n",
              "      <td>admin.</td>\n",
              "      <td>married</td>\n",
              "      <td>tertiary</td>\n",
              "      <td>no</td>\n",
              "      <td>882</td>\n",
              "      <td>telephone</td>\n",
              "      <td>21</td>\n",
              "      <td>oct</td>\n",
              "      <td>1</td>\n",
              "      <td>151</td>\n",
              "      <td>3</td>\n",
              "      <td>failure</td>\n",
              "    </tr>\n",
              "    <tr>\n",
              "      <th>1</th>\n",
              "      <td>42</td>\n",
              "      <td>admin.</td>\n",
              "      <td>single</td>\n",
              "      <td>secondary</td>\n",
              "      <td>no</td>\n",
              "      <td>-247</td>\n",
              "      <td>telephone</td>\n",
              "      <td>21</td>\n",
              "      <td>oct</td>\n",
              "      <td>1</td>\n",
              "      <td>166</td>\n",
              "      <td>1</td>\n",
              "      <td>other</td>\n",
              "    </tr>\n",
              "    <tr>\n",
              "      <th>2</th>\n",
              "      <td>33</td>\n",
              "      <td>services</td>\n",
              "      <td>married</td>\n",
              "      <td>secondary</td>\n",
              "      <td>no</td>\n",
              "      <td>3444</td>\n",
              "      <td>telephone</td>\n",
              "      <td>21</td>\n",
              "      <td>oct</td>\n",
              "      <td>1</td>\n",
              "      <td>91</td>\n",
              "      <td>4</td>\n",
              "      <td>failure</td>\n",
              "    </tr>\n",
              "    <tr>\n",
              "      <th>3</th>\n",
              "      <td>36</td>\n",
              "      <td>management</td>\n",
              "      <td>married</td>\n",
              "      <td>tertiary</td>\n",
              "      <td>no</td>\n",
              "      <td>2415</td>\n",
              "      <td>telephone</td>\n",
              "      <td>22</td>\n",
              "      <td>oct</td>\n",
              "      <td>1</td>\n",
              "      <td>86</td>\n",
              "      <td>4</td>\n",
              "      <td>other</td>\n",
              "    </tr>\n",
              "    <tr>\n",
              "      <th>4</th>\n",
              "      <td>36</td>\n",
              "      <td>management</td>\n",
              "      <td>married</td>\n",
              "      <td>tertiary</td>\n",
              "      <td>no</td>\n",
              "      <td>0</td>\n",
              "      <td>telephone</td>\n",
              "      <td>23</td>\n",
              "      <td>oct</td>\n",
              "      <td>1</td>\n",
              "      <td>143</td>\n",
              "      <td>3</td>\n",
              "      <td>failure</td>\n",
              "    </tr>\n",
              "  </tbody>\n",
              "</table>\n",
              "</div>\n",
              "    <div class=\"colab-df-buttons\">\n",
              "\n",
              "  <div class=\"colab-df-container\">\n",
              "    <button class=\"colab-df-convert\" onclick=\"convertToInteractive('df-bf4a6244-4966-42b1-9926-22689d8bc329')\"\n",
              "            title=\"Convert this dataframe to an interactive table.\"\n",
              "            style=\"display:none;\">\n",
              "\n",
              "  <svg xmlns=\"http://www.w3.org/2000/svg\" height=\"24px\" viewBox=\"0 -960 960 960\">\n",
              "    <path d=\"M120-120v-720h720v720H120Zm60-500h600v-160H180v160Zm220 220h160v-160H400v160Zm0 220h160v-160H400v160ZM180-400h160v-160H180v160Zm440 0h160v-160H620v160ZM180-180h160v-160H180v160Zm440 0h160v-160H620v160Z\"/>\n",
              "  </svg>\n",
              "    </button>\n",
              "\n",
              "  <style>\n",
              "    .colab-df-container {\n",
              "      display:flex;\n",
              "      gap: 12px;\n",
              "    }\n",
              "\n",
              "    .colab-df-convert {\n",
              "      background-color: #E8F0FE;\n",
              "      border: none;\n",
              "      border-radius: 50%;\n",
              "      cursor: pointer;\n",
              "      display: none;\n",
              "      fill: #1967D2;\n",
              "      height: 32px;\n",
              "      padding: 0 0 0 0;\n",
              "      width: 32px;\n",
              "    }\n",
              "\n",
              "    .colab-df-convert:hover {\n",
              "      background-color: #E2EBFA;\n",
              "      box-shadow: 0px 1px 2px rgba(60, 64, 67, 0.3), 0px 1px 3px 1px rgba(60, 64, 67, 0.15);\n",
              "      fill: #174EA6;\n",
              "    }\n",
              "\n",
              "    .colab-df-buttons div {\n",
              "      margin-bottom: 4px;\n",
              "    }\n",
              "\n",
              "    [theme=dark] .colab-df-convert {\n",
              "      background-color: #3B4455;\n",
              "      fill: #D2E3FC;\n",
              "    }\n",
              "\n",
              "    [theme=dark] .colab-df-convert:hover {\n",
              "      background-color: #434B5C;\n",
              "      box-shadow: 0px 1px 3px 1px rgba(0, 0, 0, 0.15);\n",
              "      filter: drop-shadow(0px 1px 2px rgba(0, 0, 0, 0.3));\n",
              "      fill: #FFFFFF;\n",
              "    }\n",
              "  </style>\n",
              "\n",
              "    <script>\n",
              "      const buttonEl =\n",
              "        document.querySelector('#df-bf4a6244-4966-42b1-9926-22689d8bc329 button.colab-df-convert');\n",
              "      buttonEl.style.display =\n",
              "        google.colab.kernel.accessAllowed ? 'block' : 'none';\n",
              "\n",
              "      async function convertToInteractive(key) {\n",
              "        const element = document.querySelector('#df-bf4a6244-4966-42b1-9926-22689d8bc329');\n",
              "        const dataTable =\n",
              "          await google.colab.kernel.invokeFunction('convertToInteractive',\n",
              "                                                    [key], {});\n",
              "        if (!dataTable) return;\n",
              "\n",
              "        const docLinkHtml = 'Like what you see? Visit the ' +\n",
              "          '<a target=\"_blank\" href=https://colab.research.google.com/notebooks/data_table.ipynb>data table notebook</a>'\n",
              "          + ' to learn more about interactive tables.';\n",
              "        element.innerHTML = '';\n",
              "        dataTable['output_type'] = 'display_data';\n",
              "        await google.colab.output.renderOutput(dataTable, element);\n",
              "        const docLink = document.createElement('div');\n",
              "        docLink.innerHTML = docLinkHtml;\n",
              "        element.appendChild(docLink);\n",
              "      }\n",
              "    </script>\n",
              "  </div>\n",
              "\n",
              "\n",
              "<div id=\"df-f2aace37-c2a2-4180-95bc-75a2d8ff9201\">\n",
              "  <button class=\"colab-df-quickchart\" onclick=\"quickchart('df-f2aace37-c2a2-4180-95bc-75a2d8ff9201')\"\n",
              "            title=\"Suggest charts\"\n",
              "            style=\"display:none;\">\n",
              "\n",
              "<svg xmlns=\"http://www.w3.org/2000/svg\" height=\"24px\"viewBox=\"0 0 24 24\"\n",
              "     width=\"24px\">\n",
              "    <g>\n",
              "        <path d=\"M19 3H5c-1.1 0-2 .9-2 2v14c0 1.1.9 2 2 2h14c1.1 0 2-.9 2-2V5c0-1.1-.9-2-2-2zM9 17H7v-7h2v7zm4 0h-2V7h2v10zm4 0h-2v-4h2v4z\"/>\n",
              "    </g>\n",
              "</svg>\n",
              "  </button>\n",
              "\n",
              "<style>\n",
              "  .colab-df-quickchart {\n",
              "      --bg-color: #E8F0FE;\n",
              "      --fill-color: #1967D2;\n",
              "      --hover-bg-color: #E2EBFA;\n",
              "      --hover-fill-color: #174EA6;\n",
              "      --disabled-fill-color: #AAA;\n",
              "      --disabled-bg-color: #DDD;\n",
              "  }\n",
              "\n",
              "  [theme=dark] .colab-df-quickchart {\n",
              "      --bg-color: #3B4455;\n",
              "      --fill-color: #D2E3FC;\n",
              "      --hover-bg-color: #434B5C;\n",
              "      --hover-fill-color: #FFFFFF;\n",
              "      --disabled-bg-color: #3B4455;\n",
              "      --disabled-fill-color: #666;\n",
              "  }\n",
              "\n",
              "  .colab-df-quickchart {\n",
              "    background-color: var(--bg-color);\n",
              "    border: none;\n",
              "    border-radius: 50%;\n",
              "    cursor: pointer;\n",
              "    display: none;\n",
              "    fill: var(--fill-color);\n",
              "    height: 32px;\n",
              "    padding: 0;\n",
              "    width: 32px;\n",
              "  }\n",
              "\n",
              "  .colab-df-quickchart:hover {\n",
              "    background-color: var(--hover-bg-color);\n",
              "    box-shadow: 0 1px 2px rgba(60, 64, 67, 0.3), 0 1px 3px 1px rgba(60, 64, 67, 0.15);\n",
              "    fill: var(--button-hover-fill-color);\n",
              "  }\n",
              "\n",
              "  .colab-df-quickchart-complete:disabled,\n",
              "  .colab-df-quickchart-complete:disabled:hover {\n",
              "    background-color: var(--disabled-bg-color);\n",
              "    fill: var(--disabled-fill-color);\n",
              "    box-shadow: none;\n",
              "  }\n",
              "\n",
              "  .colab-df-spinner {\n",
              "    border: 2px solid var(--fill-color);\n",
              "    border-color: transparent;\n",
              "    border-bottom-color: var(--fill-color);\n",
              "    animation:\n",
              "      spin 1s steps(1) infinite;\n",
              "  }\n",
              "\n",
              "  @keyframes spin {\n",
              "    0% {\n",
              "      border-color: transparent;\n",
              "      border-bottom-color: var(--fill-color);\n",
              "      border-left-color: var(--fill-color);\n",
              "    }\n",
              "    20% {\n",
              "      border-color: transparent;\n",
              "      border-left-color: var(--fill-color);\n",
              "      border-top-color: var(--fill-color);\n",
              "    }\n",
              "    30% {\n",
              "      border-color: transparent;\n",
              "      border-left-color: var(--fill-color);\n",
              "      border-top-color: var(--fill-color);\n",
              "      border-right-color: var(--fill-color);\n",
              "    }\n",
              "    40% {\n",
              "      border-color: transparent;\n",
              "      border-right-color: var(--fill-color);\n",
              "      border-top-color: var(--fill-color);\n",
              "    }\n",
              "    60% {\n",
              "      border-color: transparent;\n",
              "      border-right-color: var(--fill-color);\n",
              "    }\n",
              "    80% {\n",
              "      border-color: transparent;\n",
              "      border-right-color: var(--fill-color);\n",
              "      border-bottom-color: var(--fill-color);\n",
              "    }\n",
              "    90% {\n",
              "      border-color: transparent;\n",
              "      border-bottom-color: var(--fill-color);\n",
              "    }\n",
              "  }\n",
              "</style>\n",
              "\n",
              "  <script>\n",
              "    async function quickchart(key) {\n",
              "      const quickchartButtonEl =\n",
              "        document.querySelector('#' + key + ' button');\n",
              "      quickchartButtonEl.disabled = true;  // To prevent multiple clicks.\n",
              "      quickchartButtonEl.classList.add('colab-df-spinner');\n",
              "      try {\n",
              "        const charts = await google.colab.kernel.invokeFunction(\n",
              "            'suggestCharts', [key], {});\n",
              "      } catch (error) {\n",
              "        console.error('Error during call to suggestCharts:', error);\n",
              "      }\n",
              "      quickchartButtonEl.classList.remove('colab-df-spinner');\n",
              "      quickchartButtonEl.classList.add('colab-df-quickchart-complete');\n",
              "    }\n",
              "    (() => {\n",
              "      let quickchartButtonEl =\n",
              "        document.querySelector('#df-f2aace37-c2a2-4180-95bc-75a2d8ff9201 button');\n",
              "      quickchartButtonEl.style.display =\n",
              "        google.colab.kernel.accessAllowed ? 'block' : 'none';\n",
              "    })();\n",
              "  </script>\n",
              "</div>\n",
              "\n",
              "    </div>\n",
              "  </div>\n"
            ]
          },
          "metadata": {},
          "execution_count": 3
        }
      ]
    },
    {
      "cell_type": "code",
      "source": [
        "y.head()"
      ],
      "metadata": {
        "colab": {
          "base_uri": "https://localhost:8080/",
          "height": 206
        },
        "id": "4FVCtrC_WFOL",
        "outputId": "57636148-3070-43d9-973d-3588cdb70bf4"
      },
      "execution_count": null,
      "outputs": [
        {
          "output_type": "execute_result",
          "data": {
            "text/plain": [
              "   conversion\n",
              "0           0\n",
              "1           1\n",
              "2           1\n",
              "3           0\n",
              "4           1"
            ],
            "text/html": [
              "\n",
              "  <div id=\"df-b68304ad-2017-4bcf-aaa6-ffcd30ae39c2\" class=\"colab-df-container\">\n",
              "    <div>\n",
              "<style scoped>\n",
              "    .dataframe tbody tr th:only-of-type {\n",
              "        vertical-align: middle;\n",
              "    }\n",
              "\n",
              "    .dataframe tbody tr th {\n",
              "        vertical-align: top;\n",
              "    }\n",
              "\n",
              "    .dataframe thead th {\n",
              "        text-align: right;\n",
              "    }\n",
              "</style>\n",
              "<table border=\"1\" class=\"dataframe\">\n",
              "  <thead>\n",
              "    <tr style=\"text-align: right;\">\n",
              "      <th></th>\n",
              "      <th>conversion</th>\n",
              "    </tr>\n",
              "  </thead>\n",
              "  <tbody>\n",
              "    <tr>\n",
              "      <th>0</th>\n",
              "      <td>0</td>\n",
              "    </tr>\n",
              "    <tr>\n",
              "      <th>1</th>\n",
              "      <td>1</td>\n",
              "    </tr>\n",
              "    <tr>\n",
              "      <th>2</th>\n",
              "      <td>1</td>\n",
              "    </tr>\n",
              "    <tr>\n",
              "      <th>3</th>\n",
              "      <td>0</td>\n",
              "    </tr>\n",
              "    <tr>\n",
              "      <th>4</th>\n",
              "      <td>1</td>\n",
              "    </tr>\n",
              "  </tbody>\n",
              "</table>\n",
              "</div>\n",
              "    <div class=\"colab-df-buttons\">\n",
              "\n",
              "  <div class=\"colab-df-container\">\n",
              "    <button class=\"colab-df-convert\" onclick=\"convertToInteractive('df-b68304ad-2017-4bcf-aaa6-ffcd30ae39c2')\"\n",
              "            title=\"Convert this dataframe to an interactive table.\"\n",
              "            style=\"display:none;\">\n",
              "\n",
              "  <svg xmlns=\"http://www.w3.org/2000/svg\" height=\"24px\" viewBox=\"0 -960 960 960\">\n",
              "    <path d=\"M120-120v-720h720v720H120Zm60-500h600v-160H180v160Zm220 220h160v-160H400v160Zm0 220h160v-160H400v160ZM180-400h160v-160H180v160Zm440 0h160v-160H620v160ZM180-180h160v-160H180v160Zm440 0h160v-160H620v160Z\"/>\n",
              "  </svg>\n",
              "    </button>\n",
              "\n",
              "  <style>\n",
              "    .colab-df-container {\n",
              "      display:flex;\n",
              "      gap: 12px;\n",
              "    }\n",
              "\n",
              "    .colab-df-convert {\n",
              "      background-color: #E8F0FE;\n",
              "      border: none;\n",
              "      border-radius: 50%;\n",
              "      cursor: pointer;\n",
              "      display: none;\n",
              "      fill: #1967D2;\n",
              "      height: 32px;\n",
              "      padding: 0 0 0 0;\n",
              "      width: 32px;\n",
              "    }\n",
              "\n",
              "    .colab-df-convert:hover {\n",
              "      background-color: #E2EBFA;\n",
              "      box-shadow: 0px 1px 2px rgba(60, 64, 67, 0.3), 0px 1px 3px 1px rgba(60, 64, 67, 0.15);\n",
              "      fill: #174EA6;\n",
              "    }\n",
              "\n",
              "    .colab-df-buttons div {\n",
              "      margin-bottom: 4px;\n",
              "    }\n",
              "\n",
              "    [theme=dark] .colab-df-convert {\n",
              "      background-color: #3B4455;\n",
              "      fill: #D2E3FC;\n",
              "    }\n",
              "\n",
              "    [theme=dark] .colab-df-convert:hover {\n",
              "      background-color: #434B5C;\n",
              "      box-shadow: 0px 1px 3px 1px rgba(0, 0, 0, 0.15);\n",
              "      filter: drop-shadow(0px 1px 2px rgba(0, 0, 0, 0.3));\n",
              "      fill: #FFFFFF;\n",
              "    }\n",
              "  </style>\n",
              "\n",
              "    <script>\n",
              "      const buttonEl =\n",
              "        document.querySelector('#df-b68304ad-2017-4bcf-aaa6-ffcd30ae39c2 button.colab-df-convert');\n",
              "      buttonEl.style.display =\n",
              "        google.colab.kernel.accessAllowed ? 'block' : 'none';\n",
              "\n",
              "      async function convertToInteractive(key) {\n",
              "        const element = document.querySelector('#df-b68304ad-2017-4bcf-aaa6-ffcd30ae39c2');\n",
              "        const dataTable =\n",
              "          await google.colab.kernel.invokeFunction('convertToInteractive',\n",
              "                                                    [key], {});\n",
              "        if (!dataTable) return;\n",
              "\n",
              "        const docLinkHtml = 'Like what you see? Visit the ' +\n",
              "          '<a target=\"_blank\" href=https://colab.research.google.com/notebooks/data_table.ipynb>data table notebook</a>'\n",
              "          + ' to learn more about interactive tables.';\n",
              "        element.innerHTML = '';\n",
              "        dataTable['output_type'] = 'display_data';\n",
              "        await google.colab.output.renderOutput(dataTable, element);\n",
              "        const docLink = document.createElement('div');\n",
              "        docLink.innerHTML = docLinkHtml;\n",
              "        element.appendChild(docLink);\n",
              "      }\n",
              "    </script>\n",
              "  </div>\n",
              "\n",
              "\n",
              "<div id=\"df-71e4fa14-fd7f-422f-9426-3b15328bfac8\">\n",
              "  <button class=\"colab-df-quickchart\" onclick=\"quickchart('df-71e4fa14-fd7f-422f-9426-3b15328bfac8')\"\n",
              "            title=\"Suggest charts\"\n",
              "            style=\"display:none;\">\n",
              "\n",
              "<svg xmlns=\"http://www.w3.org/2000/svg\" height=\"24px\"viewBox=\"0 0 24 24\"\n",
              "     width=\"24px\">\n",
              "    <g>\n",
              "        <path d=\"M19 3H5c-1.1 0-2 .9-2 2v14c0 1.1.9 2 2 2h14c1.1 0 2-.9 2-2V5c0-1.1-.9-2-2-2zM9 17H7v-7h2v7zm4 0h-2V7h2v10zm4 0h-2v-4h2v4z\"/>\n",
              "    </g>\n",
              "</svg>\n",
              "  </button>\n",
              "\n",
              "<style>\n",
              "  .colab-df-quickchart {\n",
              "      --bg-color: #E8F0FE;\n",
              "      --fill-color: #1967D2;\n",
              "      --hover-bg-color: #E2EBFA;\n",
              "      --hover-fill-color: #174EA6;\n",
              "      --disabled-fill-color: #AAA;\n",
              "      --disabled-bg-color: #DDD;\n",
              "  }\n",
              "\n",
              "  [theme=dark] .colab-df-quickchart {\n",
              "      --bg-color: #3B4455;\n",
              "      --fill-color: #D2E3FC;\n",
              "      --hover-bg-color: #434B5C;\n",
              "      --hover-fill-color: #FFFFFF;\n",
              "      --disabled-bg-color: #3B4455;\n",
              "      --disabled-fill-color: #666;\n",
              "  }\n",
              "\n",
              "  .colab-df-quickchart {\n",
              "    background-color: var(--bg-color);\n",
              "    border: none;\n",
              "    border-radius: 50%;\n",
              "    cursor: pointer;\n",
              "    display: none;\n",
              "    fill: var(--fill-color);\n",
              "    height: 32px;\n",
              "    padding: 0;\n",
              "    width: 32px;\n",
              "  }\n",
              "\n",
              "  .colab-df-quickchart:hover {\n",
              "    background-color: var(--hover-bg-color);\n",
              "    box-shadow: 0 1px 2px rgba(60, 64, 67, 0.3), 0 1px 3px 1px rgba(60, 64, 67, 0.15);\n",
              "    fill: var(--button-hover-fill-color);\n",
              "  }\n",
              "\n",
              "  .colab-df-quickchart-complete:disabled,\n",
              "  .colab-df-quickchart-complete:disabled:hover {\n",
              "    background-color: var(--disabled-bg-color);\n",
              "    fill: var(--disabled-fill-color);\n",
              "    box-shadow: none;\n",
              "  }\n",
              "\n",
              "  .colab-df-spinner {\n",
              "    border: 2px solid var(--fill-color);\n",
              "    border-color: transparent;\n",
              "    border-bottom-color: var(--fill-color);\n",
              "    animation:\n",
              "      spin 1s steps(1) infinite;\n",
              "  }\n",
              "\n",
              "  @keyframes spin {\n",
              "    0% {\n",
              "      border-color: transparent;\n",
              "      border-bottom-color: var(--fill-color);\n",
              "      border-left-color: var(--fill-color);\n",
              "    }\n",
              "    20% {\n",
              "      border-color: transparent;\n",
              "      border-left-color: var(--fill-color);\n",
              "      border-top-color: var(--fill-color);\n",
              "    }\n",
              "    30% {\n",
              "      border-color: transparent;\n",
              "      border-left-color: var(--fill-color);\n",
              "      border-top-color: var(--fill-color);\n",
              "      border-right-color: var(--fill-color);\n",
              "    }\n",
              "    40% {\n",
              "      border-color: transparent;\n",
              "      border-right-color: var(--fill-color);\n",
              "      border-top-color: var(--fill-color);\n",
              "    }\n",
              "    60% {\n",
              "      border-color: transparent;\n",
              "      border-right-color: var(--fill-color);\n",
              "    }\n",
              "    80% {\n",
              "      border-color: transparent;\n",
              "      border-right-color: var(--fill-color);\n",
              "      border-bottom-color: var(--fill-color);\n",
              "    }\n",
              "    90% {\n",
              "      border-color: transparent;\n",
              "      border-bottom-color: var(--fill-color);\n",
              "    }\n",
              "  }\n",
              "</style>\n",
              "\n",
              "  <script>\n",
              "    async function quickchart(key) {\n",
              "      const quickchartButtonEl =\n",
              "        document.querySelector('#' + key + ' button');\n",
              "      quickchartButtonEl.disabled = true;  // To prevent multiple clicks.\n",
              "      quickchartButtonEl.classList.add('colab-df-spinner');\n",
              "      try {\n",
              "        const charts = await google.colab.kernel.invokeFunction(\n",
              "            'suggestCharts', [key], {});\n",
              "      } catch (error) {\n",
              "        console.error('Error during call to suggestCharts:', error);\n",
              "      }\n",
              "      quickchartButtonEl.classList.remove('colab-df-spinner');\n",
              "      quickchartButtonEl.classList.add('colab-df-quickchart-complete');\n",
              "    }\n",
              "    (() => {\n",
              "      let quickchartButtonEl =\n",
              "        document.querySelector('#df-71e4fa14-fd7f-422f-9426-3b15328bfac8 button');\n",
              "      quickchartButtonEl.style.display =\n",
              "        google.colab.kernel.accessAllowed ? 'block' : 'none';\n",
              "    })();\n",
              "  </script>\n",
              "</div>\n",
              "\n",
              "    </div>\n",
              "  </div>\n"
            ]
          },
          "metadata": {},
          "execution_count": 4
        }
      ]
    },
    {
      "cell_type": "code",
      "execution_count": null,
      "metadata": {
        "colab": {
          "base_uri": "https://localhost:8080/",
          "height": 409
        },
        "id": "YjX1sMm92bA0",
        "outputId": "8434a5c3-6e8e-4e2f-e846-ce92196f0004"
      },
      "outputs": [
        {
          "output_type": "execute_result",
          "data": {
            "text/plain": [
              "Text(0.5, 1.0, 'conversion number of this marketing')"
            ]
          },
          "metadata": {},
          "execution_count": 5
        },
        {
          "output_type": "display_data",
          "data": {
            "text/plain": [
              "<Figure size 400x400 with 1 Axes>"
            ],
            "image/png": "[encoded data removed]"
          },
          "metadata": {}
        }
      ],
      "source": [
        "plt.figure(figsize=(4,4))\n",
        "plt.bar(y['conversion'].value_counts().index, y['conversion'].value_counts())\n",
        "plt.title(\"conversion number of this marketing\")"
      ]
    },
    {
      "cell_type": "code",
      "execution_count": null,
      "metadata": {
        "colab": {
          "base_uri": "https://localhost:8080/",
          "height": 385
        },
        "id": "KNdY5Mp230If",
        "outputId": "a8d5e575-9528-4fac-eb9b-64aaeb2a7eb7"
      },
      "outputs": [
        {
          "output_type": "execute_result",
          "data": {
            "text/plain": [
              "Text(0.5, 1.0, 'conversion rate of this marketing')"
            ]
          },
          "metadata": {},
          "execution_count": 6
        },
        {
          "output_type": "display_data",
          "data": {
            "text/plain": [
              "<Figure size 400x400 with 1 Axes>"
            ],
            "image/png": "[encoded data removed]"
          },
          "metadata": {}
        }
      ],
      "source": [
        "plt.figure(figsize=(4,4))\n",
        "y['conversion'].value_counts().plot.pie(autopct='%1.1f%%')\n",
        "plt.title(\"conversion rate of this marketing\")"
      ]
    },
    {
      "cell_type": "markdown",
      "source": [
        "conversion rate for previous marketing was around 22.8%"
      ],
      "metadata": {
        "id": "xSWfRBvJnQh1"
      }
    },
    {
      "cell_type": "markdown",
      "source": [
        "#### **Categorical data encoding**"
      ],
      "metadata": {
        "id": "yQQeIurUJHyY"
      }
    },
    {
      "cell_type": "markdown",
      "metadata": {
        "id": "niMW6WAz1OA-"
      },
      "source": [
        "converting categorical data to numerical. I'm using label encoding for ordinal and binary data, and one-hot encoding for nominal data.\n",
        "\n",
        "\n"
      ]
    },
    {
      "cell_type": "code",
      "execution_count": null,
      "metadata": {
        "id": "Nk36jqWd81LV",
        "colab": {
          "base_uri": "https://localhost:8080/",
          "height": 256
        },
        "outputId": "f5e74230-3dd6-40a2-b3aa-24e6632d1cac"
      },
      "outputs": [
        {
          "output_type": "execute_result",
          "data": {
            "text/plain": [
              "   age  education  default  balance  day_of_week  month  campaign  pdays  \\\n",
              "0   33          3        0      882           21     10         1    151   \n",
              "1   42          2        0     -247           21     10         1    166   \n",
              "2   33          2        0     3444           21     10         1     91   \n",
              "3   36          3        0     2415           22     10         1     86   \n",
              "4   36          3        0        0           23     10         1    143   \n",
              "\n",
              "   previous  job_admin.  ...  job_technician  job_unemployed  \\\n",
              "0         3           1  ...               0               0   \n",
              "1         1           1  ...               0               0   \n",
              "2         4           0  ...               0               0   \n",
              "3         4           0  ...               0               0   \n",
              "4         3           0  ...               0               0   \n",
              "\n",
              "   marital_divorced  marital_married  marital_single  contact_cellular  \\\n",
              "0                 0                1               0                 0   \n",
              "1                 0                0               1                 0   \n",
              "2                 0                1               0                 0   \n",
              "3                 0                1               0                 0   \n",
              "4                 0                1               0                 0   \n",
              "\n",
              "   contact_telephone  poutcome_failure  poutcome_other  poutcome_success  \n",
              "0                  1                 1               0                 0  \n",
              "1                  1                 0               1                 0  \n",
              "2                  1                 1               0                 0  \n",
              "3                  1                 0               1                 0  \n",
              "4                  1                 1               0                 0  \n",
              "\n",
              "[5 rows x 28 columns]"
            ],
            "text/html": [
              "\n",
              "  <div id=\"df-25122c9a-f592-437a-a0cb-00d32997dd43\" class=\"colab-df-container\">\n",
              "    <div>\n",
              "<style scoped>\n",
              "    .dataframe tbody tr th:only-of-type {\n",
              "        vertical-align: middle;\n",
              "    }\n",
              "\n",
              "    .dataframe tbody tr th {\n",
              "        vertical-align: top;\n",
              "    }\n",
              "\n",
              "    .dataframe thead th {\n",
              "        text-align: right;\n",
              "    }\n",
              "</style>\n",
              "<table border=\"1\" class=\"dataframe\">\n",
              "  <thead>\n",
              "    <tr style=\"text-align: right;\">\n",
              "      <th></th>\n",
              "      <th>age</th>\n",
              "      <th>education</th>\n",
              "      <th>default</th>\n",
              "      <th>balance</th>\n",
              "      <th>day_of_week</th>\n",
              "      <th>month</th>\n",
              "      <th>campaign</th>\n",
              "      <th>pdays</th>\n",
              "      <th>previous</th>\n",
              "      <th>job_admin.</th>\n",
              "      <th>...</th>\n",
              "      <th>job_technician</th>\n",
              "      <th>job_unemployed</th>\n",
              "      <th>marital_divorced</th>\n",
              "      <th>marital_married</th>\n",
              "      <th>marital_single</th>\n",
              "      <th>contact_cellular</th>\n",
              "      <th>contact_telephone</th>\n",
              "      <th>poutcome_failure</th>\n",
              "      <th>poutcome_other</th>\n",
              "      <th>poutcome_success</th>\n",
              "    </tr>\n",
              "  </thead>\n",
              "  <tbody>\n",
              "    <tr>\n",
              "      <th>0</th>\n",
              "      <td>33</td>\n",
              "      <td>3</td>\n",
              "      <td>0</td>\n",
              "      <td>882</td>\n",
              "      <td>21</td>\n",
              "      <td>10</td>\n",
              "      <td>1</td>\n",
              "      <td>151</td>\n",
              "      <td>3</td>\n",
              "      <td>1</td>\n",
              "      <td>...</td>\n",
              "      <td>0</td>\n",
              "      <td>0</td>\n",
              "      <td>0</td>\n",
              "      <td>1</td>\n",
              "      <td>0</td>\n",
              "      <td>0</td>\n",
              "      <td>1</td>\n",
              "      <td>1</td>\n",
              "      <td>0</td>\n",
              "      <td>0</td>\n",
              "    </tr>\n",
              "    <tr>\n",
              "      <th>1</th>\n",
              "      <td>42</td>\n",
              "      <td>2</td>\n",
              "      <td>0</td>\n",
              "      <td>-247</td>\n",
              "      <td>21</td>\n",
              "      <td>10</td>\n",
              "      <td>1</td>\n",
              "      <td>166</td>\n",
              "      <td>1</td>\n",
              "      <td>1</td>\n",
              "      <td>...</td>\n",
              "      <td>0</td>\n",
              "      <td>0</td>\n",
              "      <td>0</td>\n",
              "      <td>0</td>\n",
              "      <td>1</td>\n",
              "      <td>0</td>\n",
              "      <td>1</td>\n",
              "      <td>0</td>\n",
              "      <td>1</td>\n",
              "      <td>0</td>\n",
              "    </tr>\n",
              "    <tr>\n",
              "      <th>2</th>\n",
              "      <td>33</td>\n",
              "      <td>2</td>\n",
              "      <td>0</td>\n",
              "      <td>3444</td>\n",
              "      <td>21</td>\n",
              "      <td>10</td>\n",
              "      <td>1</td>\n",
              "      <td>91</td>\n",
              "      <td>4</td>\n",
              "      <td>0</td>\n",
              "      <td>...</td>\n",
              "      <td>0</td>\n",
              "      <td>0</td>\n",
              "      <td>0</td>\n",
              "      <td>1</td>\n",
              "      <td>0</td>\n",
              "      <td>0</td>\n",
              "      <td>1</td>\n",
              "      <td>1</td>\n",
              "      <td>0</td>\n",
              "      <td>0</td>\n",
              "    </tr>\n",
              "    <tr>\n",
              "      <th>3</th>\n",
              "      <td>36</td>\n",
              "      <td>3</td>\n",
              "      <td>0</td>\n",
              "      <td>2415</td>\n",
              "      <td>22</td>\n",
              "      <td>10</td>\n",
              "      <td>1</td>\n",
              "      <td>86</td>\n",
              "      <td>4</td>\n",
              "      <td>0</td>\n",
              "      <td>...</td>\n",
              "      <td>0</td>\n",
              "      <td>0</td>\n",
              "      <td>0</td>\n",
              "      <td>1</td>\n",
              "      <td>0</td>\n",
              "      <td>0</td>\n",
              "      <td>1</td>\n",
              "      <td>0</td>\n",
              "      <td>1</td>\n",
              "      <td>0</td>\n",
              "    </tr>\n",
              "    <tr>\n",
              "      <th>4</th>\n",
              "      <td>36</td>\n",
              "      <td>3</td>\n",
              "      <td>0</td>\n",
              "      <td>0</td>\n",
              "      <td>23</td>\n",
              "      <td>10</td>\n",
              "      <td>1</td>\n",
              "      <td>143</td>\n",
              "      <td>3</td>\n",
              "      <td>0</td>\n",
              "      <td>...</td>\n",
              "      <td>0</td>\n",
              "      <td>0</td>\n",
              "      <td>0</td>\n",
              "      <td>1</td>\n",
              "      <td>0</td>\n",
              "      <td>0</td>\n",
              "      <td>1</td>\n",
              "      <td>1</td>\n",
              "      <td>0</td>\n",
              "      <td>0</td>\n",
              "    </tr>\n",
              "  </tbody>\n",
              "</table>\n",
              "<p>5 rows × 28 columns</p>\n",
              "</div>\n",
              "    <div class=\"colab-df-buttons\">\n",
              "\n",
              "  <div class=\"colab-df-container\">\n",
              "    <button class=\"colab-df-convert\" onclick=\"convertToInteractive('df-25122c9a-f592-437a-a0cb-00d32997dd43')\"\n",
              "            title=\"Convert this dataframe to an interactive table.\"\n",
              "            style=\"display:none;\">\n",
              "\n",
              "  <svg xmlns=\"http://www.w3.org/2000/svg\" height=\"24px\" viewBox=\"0 -960 960 960\">\n",
              "    <path d=\"M120-120v-720h720v720H120Zm60-500h600v-160H180v160Zm220 220h160v-160H400v160Zm0 220h160v-160H400v160ZM180-400h160v-160H180v160Zm440 0h160v-160H620v160ZM180-180h160v-160H180v160Zm440 0h160v-160H620v160Z\"/>\n",
              "  </svg>\n",
              "    </button>\n",
              "\n",
              "  <style>\n",
              "    .colab-df-container {\n",
              "      display:flex;\n",
              "      gap: 12px;\n",
              "    }\n",
              "\n",
              "    .colab-df-convert {\n",
              "      background-color: #E8F0FE;\n",
              "      border: none;\n",
              "      border-radius: 50%;\n",
              "      cursor: pointer;\n",
              "      display: none;\n",
              "      fill: #1967D2;\n",
              "      height: 32px;\n",
              "      padding: 0 0 0 0;\n",
              "      width: 32px;\n",
              "    }\n",
              "\n",
              "    .colab-df-convert:hover {\n",
              "      background-color: #E2EBFA;\n",
              "      box-shadow: 0px 1px 2px rgba(60, 64, 67, 0.3), 0px 1px 3px 1px rgba(60, 64, 67, 0.15);\n",
              "      fill: #174EA6;\n",
              "    }\n",
              "\n",
              "    .colab-df-buttons div {\n",
              "      margin-bottom: 4px;\n",
              "    }\n",
              "\n",
              "    [theme=dark] .colab-df-convert {\n",
              "      background-color: #3B4455;\n",
              "      fill: #D2E3FC;\n",
              "    }\n",
              "\n",
              "    [theme=dark] .colab-df-convert:hover {\n",
              "      background-color: #434B5C;\n",
              "      box-shadow: 0px 1px 3px 1px rgba(0, 0, 0, 0.15);\n",
              "      filter: drop-shadow(0px 1px 2px rgba(0, 0, 0, 0.3));\n",
              "      fill: #FFFFFF;\n",
              "    }\n",
              "  </style>\n",
              "\n",
              "    <script>\n",
              "      const buttonEl =\n",
              "        document.querySelector('#df-25122c9a-f592-437a-a0cb-00d32997dd43 button.colab-df-convert');\n",
              "      buttonEl.style.display =\n",
              "        google.colab.kernel.accessAllowed ? 'block' : 'none';\n",
              "\n",
              "      async function convertToInteractive(key) {\n",
              "        const element = document.querySelector('#df-25122c9a-f592-437a-a0cb-00d32997dd43');\n",
              "        const dataTable =\n",
              "          await google.colab.kernel.invokeFunction('convertToInteractive',\n",
              "                                                    [key], {});\n",
              "        if (!dataTable) return;\n",
              "\n",
              "        const docLinkHtml = 'Like what you see? Visit the ' +\n",
              "          '<a target=\"_blank\" href=https://colab.research.google.com/notebooks/data_table.ipynb>data table notebook</a>'\n",
              "          + ' to learn more about interactive tables.';\n",
              "        element.innerHTML = '';\n",
              "        dataTable['output_type'] = 'display_data';\n",
              "        await google.colab.output.renderOutput(dataTable, element);\n",
              "        const docLink = document.createElement('div');\n",
              "        docLink.innerHTML = docLinkHtml;\n",
              "        element.appendChild(docLink);\n",
              "      }\n",
              "    </script>\n",
              "  </div>\n",
              "\n",
              "\n",
              "<div id=\"df-8b455615-0645-41e3-8243-2cd1b0d0ba7d\">\n",
              "  <button class=\"colab-df-quickchart\" onclick=\"quickchart('df-8b455615-0645-41e3-8243-2cd1b0d0ba7d')\"\n",
              "            title=\"Suggest charts\"\n",
              "            style=\"display:none;\">\n",
              "\n",
              "<svg xmlns=\"http://www.w3.org/2000/svg\" height=\"24px\"viewBox=\"0 0 24 24\"\n",
              "     width=\"24px\">\n",
              "    <g>\n",
              "        <path d=\"M19 3H5c-1.1 0-2 .9-2 2v14c0 1.1.9 2 2 2h14c1.1 0 2-.9 2-2V5c0-1.1-.9-2-2-2zM9 17H7v-7h2v7zm4 0h-2V7h2v10zm4 0h-2v-4h2v4z\"/>\n",
              "    </g>\n",
              "</svg>\n",
              "  </button>\n",
              "\n",
              "<style>\n",
              "  .colab-df-quickchart {\n",
              "      --bg-color: #E8F0FE;\n",
              "      --fill-color: #1967D2;\n",
              "      --hover-bg-color: #E2EBFA;\n",
              "      --hover-fill-color: #174EA6;\n",
              "      --disabled-fill-color: #AAA;\n",
              "      --disabled-bg-color: #DDD;\n",
              "  }\n",
              "\n",
              "  [theme=dark] .colab-df-quickchart {\n",
              "      --bg-color: #3B4455;\n",
              "      --fill-color: #D2E3FC;\n",
              "      --hover-bg-color: #434B5C;\n",
              "      --hover-fill-color: #FFFFFF;\n",
              "      --disabled-bg-color: #3B4455;\n",
              "      --disabled-fill-color: #666;\n",
              "  }\n",
              "\n",
              "  .colab-df-quickchart {\n",
              "    background-color: var(--bg-color);\n",
              "    border: none;\n",
              "    border-radius: 50%;\n",
              "    cursor: pointer;\n",
              "    display: none;\n",
              "    fill: var(--fill-color);\n",
              "    height: 32px;\n",
              "    padding: 0;\n",
              "    width: 32px;\n",
              "  }\n",
              "\n",
              "  .colab-df-quickchart:hover {\n",
              "    background-color: var(--hover-bg-color);\n",
              "    box-shadow: 0 1px 2px rgba(60, 64, 67, 0.3), 0 1px 3px 1px rgba(60, 64, 67, 0.15);\n",
              "    fill: var(--button-hover-fill-color);\n",
              "  }\n",
              "\n",
              "  .colab-df-quickchart-complete:disabled,\n",
              "  .colab-df-quickchart-complete:disabled:hover {\n",
              "    background-color: var(--disabled-bg-color);\n",
              "    fill: var(--disabled-fill-color);\n",
              "    box-shadow: none;\n",
              "  }\n",
              "\n",
              "  .colab-df-spinner {\n",
              "    border: 2px solid var(--fill-color);\n",
              "    border-color: transparent;\n",
              "    border-bottom-color: var(--fill-color);\n",
              "    animation:\n",
              "      spin 1s steps(1) infinite;\n",
              "  }\n",
              "\n",
              "  @keyframes spin {\n",
              "    0% {\n",
              "      border-color: transparent;\n",
              "      border-bottom-color: var(--fill-color);\n",
              "      border-left-color: var(--fill-color);\n",
              "    }\n",
              "    20% {\n",
              "      border-color: transparent;\n",
              "      border-left-color: var(--fill-color);\n",
              "      border-top-color: var(--fill-color);\n",
              "    }\n",
              "    30% {\n",
              "      border-color: transparent;\n",
              "      border-left-color: var(--fill-color);\n",
              "      border-top-color: var(--fill-color);\n",
              "      border-right-color: var(--fill-color);\n",
              "    }\n",
              "    40% {\n",
              "      border-color: transparent;\n",
              "      border-right-color: var(--fill-color);\n",
              "      border-top-color: var(--fill-color);\n",
              "    }\n",
              "    60% {\n",
              "      border-color: transparent;\n",
              "      border-right-color: var(--fill-color);\n",
              "    }\n",
              "    80% {\n",
              "      border-color: transparent;\n",
              "      border-right-color: var(--fill-color);\n",
              "      border-bottom-color: var(--fill-color);\n",
              "    }\n",
              "    90% {\n",
              "      border-color: transparent;\n",
              "      border-bottom-color: var(--fill-color);\n",
              "    }\n",
              "  }\n",
              "</style>\n",
              "\n",
              "  <script>\n",
              "    async function quickchart(key) {\n",
              "      const quickchartButtonEl =\n",
              "        document.querySelector('#' + key + ' button');\n",
              "      quickchartButtonEl.disabled = true;  // To prevent multiple clicks.\n",
              "      quickchartButtonEl.classList.add('colab-df-spinner');\n",
              "      try {\n",
              "        const charts = await google.colab.kernel.invokeFunction(\n",
              "            'suggestCharts', [key], {});\n",
              "      } catch (error) {\n",
              "        console.error('Error during call to suggestCharts:', error);\n",
              "      }\n",
              "      quickchartButtonEl.classList.remove('colab-df-spinner');\n",
              "      quickchartButtonEl.classList.add('colab-df-quickchart-complete');\n",
              "    }\n",
              "    (() => {\n",
              "      let quickchartButtonEl =\n",
              "        document.querySelector('#df-8b455615-0645-41e3-8243-2cd1b0d0ba7d button');\n",
              "      quickchartButtonEl.style.display =\n",
              "        google.colab.kernel.accessAllowed ? 'block' : 'none';\n",
              "    })();\n",
              "  </script>\n",
              "</div>\n",
              "\n",
              "    </div>\n",
              "  </div>\n"
            ]
          },
          "metadata": {},
          "execution_count": 7
        }
      ],
      "source": [
        "#ordinal\n",
        "educations = {'primary': 1, 'secondary': 2, 'tertiary': 3, 'unknown': 4}\n",
        "months = {'oct':10, 'may':5, 'apr':4, 'jun':6, 'feb':2, 'aug':8, 'jan':1, 'jul':7, 'nov':11,\n",
        "       'sep':9, 'mar':3, 'dec':12}\n",
        "#binary\n",
        "defaults = {'yes':1, 'no':0}\n",
        "\n",
        "#label encoding\n",
        "X['education'] = X['education'].map(educations)\n",
        "X['month'] = X['month'].map(months)\n",
        "X['default'] = X['default'].map(defaults)\n",
        "\n",
        "#nominal\n",
        "nominal_columns = ['job', 'marital', 'contact', 'poutcome']\n",
        "\n",
        "#one hot encoding\n",
        "one_hot_encoded_data = pd.get_dummies(X, columns = nominal_columns)\n",
        "one_hot_encoded_data.head()"
      ]
    },
    {
      "cell_type": "markdown",
      "source": [
        "Now it seems that all columns are numerical data."
      ],
      "metadata": {
        "id": "yBVYrvlcnuAV"
      }
    },
    {
      "cell_type": "markdown",
      "source": [
        "#### **alleviate multicollinearity**"
      ],
      "metadata": {
        "id": "GmAGIR_JJTnW"
      }
    },
    {
      "cell_type": "markdown",
      "source": [
        "make sure that each columns should not be correlated"
      ],
      "metadata": {
        "id": "8Eyo72MvG5uo"
      }
    },
    {
      "cell_type": "code",
      "execution_count": null,
      "metadata": {
        "colab": {
          "base_uri": "https://localhost:8080/",
          "height": 584
        },
        "id": "GsdrfBj-Eq5Y",
        "outputId": "a4ec2f32-d03e-4eb1-99a2-a2a7b4e61884"
      },
      "outputs": [
        {
          "output_type": "execute_result",
          "data": {
            "text/plain": [
              "<Axes: >"
            ]
          },
          "metadata": {},
          "execution_count": 8
        },
        {
          "output_type": "display_data",
          "data": {
            "text/plain": [
              "<Figure size 500x500 with 2 Axes>"
            ],
            "image/png": "[encoded data removed]"
          },
          "metadata": {}
        }
      ],
      "source": [
        "import seaborn as sns\n",
        "plt.figure(figsize=(5,5))\n",
        "sns.heatmap(one_hot_encoded_data.corr())"
      ]
    },
    {
      "cell_type": "code",
      "source": [
        "absolute_corr = one_hot_encoded_data.corr().abs()\n",
        "absolute_corr_tbl = absolute_corr.unstack()\n",
        "absolute_corr_tbl_rank = absolute_corr_tbl.sort_values(kind=\"quicksort\", ascending=False)\n",
        "absolute_corr_tbl_rank[30:50]"
      ],
      "metadata": {
        "colab": {
          "base_uri": "https://localhost:8080/"
        },
        "id": "RvLew1Eoqrj9",
        "outputId": "d2a93203-f860-4483-977f-5746d6cea410"
      },
      "execution_count": null,
      "outputs": [
        {
          "output_type": "execute_result",
          "data": {
            "text/plain": [
              "marital_married   marital_single      0.783321\n",
              "marital_single    marital_married     0.783321\n",
              "poutcome_other    poutcome_failure    0.651878\n",
              "poutcome_failure  poutcome_other      0.651878\n",
              "poutcome_success  poutcome_failure    0.570199\n",
              "poutcome_failure  poutcome_success    0.570199\n",
              "job_retired       age                 0.551188\n",
              "age               job_retired         0.551188\n",
              "job_management    education           0.529381\n",
              "education         job_management      0.529381\n",
              "age               marital_single      0.439504\n",
              "marital_single    age                 0.439504\n",
              "education         job_blue-collar     0.418163\n",
              "job_blue-collar   education           0.418163\n",
              "marital_married   marital_divorced    0.414505\n",
              "marital_divorced  marital_married     0.414505\n",
              "marital_married   age                 0.303761\n",
              "age               marital_married     0.303761\n",
              "job_blue-collar   job_management      0.264919\n",
              "job_management    job_blue-collar     0.264919\n",
              "dtype: float64"
            ]
          },
          "metadata": {},
          "execution_count": 9
        }
      ]
    },
    {
      "cell_type": "markdown",
      "source": [
        "columns \"marital_married\" and \"marital_single\", \"poutcome_other\" and \"poutcome_failure\" are highly correlated. thus, I remove \"marital_married\" and \"poutcome_failure\" to reduce the effect of multicollinearity for regression analysis"
      ],
      "metadata": {
        "id": "aLtCI_SSMrjd"
      }
    },
    {
      "cell_type": "code",
      "source": [
        "one_hot_encoded_data = one_hot_encoded_data.drop([\"marital_married\", \"poutcome_failure\"], axis=1)"
      ],
      "metadata": {
        "id": "3Gv-kjCIsqSq"
      },
      "execution_count": null,
      "outputs": []
    },
    {
      "cell_type": "markdown",
      "source": [
        "Finally, I have completed preprocessing the data and am now ready to begin regression analysis"
      ],
      "metadata": {
        "id": "f4F_V2YutZJK"
      }
    },
    {
      "cell_type": "markdown",
      "source": [
        "#### **Logistic regression analysis with only continuous data**"
      ],
      "metadata": {
        "id": "YFEF9IsHJubd"
      }
    },
    {
      "cell_type": "markdown",
      "source": [
        "First off, let's focus on continuous data for simplicity"
      ],
      "metadata": {
        "id": "b81PRvmntiHE"
      }
    },
    {
      "cell_type": "code",
      "source": [
        "X.head()"
      ],
      "metadata": {
        "colab": {
          "base_uri": "https://localhost:8080/",
          "height": 206
        },
        "id": "9JyyMWaJW05V",
        "outputId": "a7009d30-501f-433d-aea6-a2e2027e0f40"
      },
      "execution_count": null,
      "outputs": [
        {
          "output_type": "execute_result",
          "data": {
            "text/plain": [
              "   age         job  marital  education  default  balance    contact  \\\n",
              "0   33      admin.  married          3        0      882  telephone   \n",
              "1   42      admin.   single          2        0     -247  telephone   \n",
              "2   33    services  married          2        0     3444  telephone   \n",
              "3   36  management  married          3        0     2415  telephone   \n",
              "4   36  management  married          3        0        0  telephone   \n",
              "\n",
              "   day_of_week  month  campaign  pdays  previous poutcome  \n",
              "0           21     10         1    151         3  failure  \n",
              "1           21     10         1    166         1    other  \n",
              "2           21     10         1     91         4  failure  \n",
              "3           22     10         1     86         4    other  \n",
              "4           23     10         1    143         3  failure  "
            ],
            "text/html": [
              "\n",
              "  <div id=\"df-3d6d569f-c56e-4451-8059-1c8506778aef\" class=\"colab-df-container\">\n",
              "    <div>\n",
              "<style scoped>\n",
              "    .dataframe tbody tr th:only-of-type {\n",
              "        vertical-align: middle;\n",
              "    }\n",
              "\n",
              "    .dataframe tbody tr th {\n",
              "        vertical-align: top;\n",
              "    }\n",
              "\n",
              "    .dataframe thead th {\n",
              "        text-align: right;\n",
              "    }\n",
              "</style>\n",
              "<table border=\"1\" class=\"dataframe\">\n",
              "  <thead>\n",
              "    <tr style=\"text-align: right;\">\n",
              "      <th></th>\n",
              "      <th>age</th>\n",
              "      <th>job</th>\n",
              "      <th>marital</th>\n",
              "      <th>education</th>\n",
              "      <th>default</th>\n",
              "      <th>balance</th>\n",
              "      <th>contact</th>\n",
              "      <th>day_of_week</th>\n",
              "      <th>month</th>\n",
              "      <th>campaign</th>\n",
              "      <th>pdays</th>\n",
              "      <th>previous</th>\n",
              "      <th>poutcome</th>\n",
              "    </tr>\n",
              "  </thead>\n",
              "  <tbody>\n",
              "    <tr>\n",
              "      <th>0</th>\n",
              "      <td>33</td>\n",
              "      <td>admin.</td>\n",
              "      <td>married</td>\n",
              "      <td>3</td>\n",
              "      <td>0</td>\n",
              "      <td>882</td>\n",
              "      <td>telephone</td>\n",
              "      <td>21</td>\n",
              "      <td>10</td>\n",
              "      <td>1</td>\n",
              "      <td>151</td>\n",
              "      <td>3</td>\n",
              "      <td>failure</td>\n",
              "    </tr>\n",
              "    <tr>\n",
              "      <th>1</th>\n",
              "      <td>42</td>\n",
              "      <td>admin.</td>\n",
              "      <td>single</td>\n",
              "      <td>2</td>\n",
              "      <td>0</td>\n",
              "      <td>-247</td>\n",
              "      <td>telephone</td>\n",
              "      <td>21</td>\n",
              "      <td>10</td>\n",
              "      <td>1</td>\n",
              "      <td>166</td>\n",
              "      <td>1</td>\n",
              "      <td>other</td>\n",
              "    </tr>\n",
              "    <tr>\n",
              "      <th>2</th>\n",
              "      <td>33</td>\n",
              "      <td>services</td>\n",
              "      <td>married</td>\n",
              "      <td>2</td>\n",
              "      <td>0</td>\n",
              "      <td>3444</td>\n",
              "      <td>telephone</td>\n",
              "      <td>21</td>\n",
              "      <td>10</td>\n",
              "      <td>1</td>\n",
              "      <td>91</td>\n",
              "      <td>4</td>\n",
              "      <td>failure</td>\n",
              "    </tr>\n",
              "    <tr>\n",
              "      <th>3</th>\n",
              "      <td>36</td>\n",
              "      <td>management</td>\n",
              "      <td>married</td>\n",
              "      <td>3</td>\n",
              "      <td>0</td>\n",
              "      <td>2415</td>\n",
              "      <td>telephone</td>\n",
              "      <td>22</td>\n",
              "      <td>10</td>\n",
              "      <td>1</td>\n",
              "      <td>86</td>\n",
              "      <td>4</td>\n",
              "      <td>other</td>\n",
              "    </tr>\n",
              "    <tr>\n",
              "      <th>4</th>\n",
              "      <td>36</td>\n",
              "      <td>management</td>\n",
              "      <td>married</td>\n",
              "      <td>3</td>\n",
              "      <td>0</td>\n",
              "      <td>0</td>\n",
              "      <td>telephone</td>\n",
              "      <td>23</td>\n",
              "      <td>10</td>\n",
              "      <td>1</td>\n",
              "      <td>143</td>\n",
              "      <td>3</td>\n",
              "      <td>failure</td>\n",
              "    </tr>\n",
              "  </tbody>\n",
              "</table>\n",
              "</div>\n",
              "    <div class=\"colab-df-buttons\">\n",
              "\n",
              "  <div class=\"colab-df-container\">\n",
              "    <button class=\"colab-df-convert\" onclick=\"convertToInteractive('df-3d6d569f-c56e-4451-8059-1c8506778aef')\"\n",
              "            title=\"Convert this dataframe to an interactive table.\"\n",
              "            style=\"display:none;\">\n",
              "\n",
              "  <svg xmlns=\"http://www.w3.org/2000/svg\" height=\"24px\" viewBox=\"0 -960 960 960\">\n",
              "    <path d=\"M120-120v-720h720v720H120Zm60-500h600v-160H180v160Zm220 220h160v-160H400v160Zm0 220h160v-160H400v160ZM180-400h160v-160H180v160Zm440 0h160v-160H620v160ZM180-180h160v-160H180v160Zm440 0h160v-160H620v160Z\"/>\n",
              "  </svg>\n",
              "    </button>\n",
              "\n",
              "  <style>\n",
              "    .colab-df-container {\n",
              "      display:flex;\n",
              "      gap: 12px;\n",
              "    }\n",
              "\n",
              "    .colab-df-convert {\n",
              "      background-color: #E8F0FE;\n",
              "      border: none;\n",
              "      border-radius: 50%;\n",
              "      cursor: pointer;\n",
              "      display: none;\n",
              "      fill: #1967D2;\n",
              "      height: 32px;\n",
              "      padding: 0 0 0 0;\n",
              "      width: 32px;\n",
              "    }\n",
              "\n",
              "    .colab-df-convert:hover {\n",
              "      background-color: #E2EBFA;\n",
              "      box-shadow: 0px 1px 2px rgba(60, 64, 67, 0.3), 0px 1px 3px 1px rgba(60, 64, 67, 0.15);\n",
              "      fill: #174EA6;\n",
              "    }\n",
              "\n",
              "    .colab-df-buttons div {\n",
              "      margin-bottom: 4px;\n",
              "    }\n",
              "\n",
              "    [theme=dark] .colab-df-convert {\n",
              "      background-color: #3B4455;\n",
              "      fill: #D2E3FC;\n",
              "    }\n",
              "\n",
              "    [theme=dark] .colab-df-convert:hover {\n",
              "      background-color: #434B5C;\n",
              "      box-shadow: 0px 1px 3px 1px rgba(0, 0, 0, 0.15);\n",
              "      filter: drop-shadow(0px 1px 2px rgba(0, 0, 0, 0.3));\n",
              "      fill: #FFFFFF;\n",
              "    }\n",
              "  </style>\n",
              "\n",
              "    <script>\n",
              "      const buttonEl =\n",
              "        document.querySelector('#df-3d6d569f-c56e-4451-8059-1c8506778aef button.colab-df-convert');\n",
              "      buttonEl.style.display =\n",
              "        google.colab.kernel.accessAllowed ? 'block' : 'none';\n",
              "\n",
              "      async function convertToInteractive(key) {\n",
              "        const element = document.querySelector('#df-3d6d569f-c56e-4451-8059-1c8506778aef');\n",
              "        const dataTable =\n",
              "          await google.colab.kernel.invokeFunction('convertToInteractive',\n",
              "                                                    [key], {});\n",
              "        if (!dataTable) return;\n",
              "\n",
              "        const docLinkHtml = 'Like what you see? Visit the ' +\n",
              "          '<a target=\"_blank\" href=https://colab.research.google.com/notebooks/data_table.ipynb>data table notebook</a>'\n",
              "          + ' to learn more about interactive tables.';\n",
              "        element.innerHTML = '';\n",
              "        dataTable['output_type'] = 'display_data';\n",
              "        await google.colab.output.renderOutput(dataTable, element);\n",
              "        const docLink = document.createElement('div');\n",
              "        docLink.innerHTML = docLinkHtml;\n",
              "        element.appendChild(docLink);\n",
              "      }\n",
              "    </script>\n",
              "  </div>\n",
              "\n",
              "\n",
              "<div id=\"df-b0e82f8d-8d8c-4975-9f38-2affd2e848f1\">\n",
              "  <button class=\"colab-df-quickchart\" onclick=\"quickchart('df-b0e82f8d-8d8c-4975-9f38-2affd2e848f1')\"\n",
              "            title=\"Suggest charts\"\n",
              "            style=\"display:none;\">\n",
              "\n",
              "<svg xmlns=\"http://www.w3.org/2000/svg\" height=\"24px\"viewBox=\"0 0 24 24\"\n",
              "     width=\"24px\">\n",
              "    <g>\n",
              "        <path d=\"M19 3H5c-1.1 0-2 .9-2 2v14c0 1.1.9 2 2 2h14c1.1 0 2-.9 2-2V5c0-1.1-.9-2-2-2zM9 17H7v-7h2v7zm4 0h-2V7h2v10zm4 0h-2v-4h2v4z\"/>\n",
              "    </g>\n",
              "</svg>\n",
              "  </button>\n",
              "\n",
              "<style>\n",
              "  .colab-df-quickchart {\n",
              "      --bg-color: #E8F0FE;\n",
              "      --fill-color: #1967D2;\n",
              "      --hover-bg-color: #E2EBFA;\n",
              "      --hover-fill-color: #174EA6;\n",
              "      --disabled-fill-color: #AAA;\n",
              "      --disabled-bg-color: #DDD;\n",
              "  }\n",
              "\n",
              "  [theme=dark] .colab-df-quickchart {\n",
              "      --bg-color: #3B4455;\n",
              "      --fill-color: #D2E3FC;\n",
              "      --hover-bg-color: #434B5C;\n",
              "      --hover-fill-color: #FFFFFF;\n",
              "      --disabled-bg-color: #3B4455;\n",
              "      --disabled-fill-color: #666;\n",
              "  }\n",
              "\n",
              "  .colab-df-quickchart {\n",
              "    background-color: var(--bg-color);\n",
              "    border: none;\n",
              "    border-radius: 50%;\n",
              "    cursor: pointer;\n",
              "    display: none;\n",
              "    fill: var(--fill-color);\n",
              "    height: 32px;\n",
              "    padding: 0;\n",
              "    width: 32px;\n",
              "  }\n",
              "\n",
              "  .colab-df-quickchart:hover {\n",
              "    background-color: var(--hover-bg-color);\n",
              "    box-shadow: 0 1px 2px rgba(60, 64, 67, 0.3), 0 1px 3px 1px rgba(60, 64, 67, 0.15);\n",
              "    fill: var(--button-hover-fill-color);\n",
              "  }\n",
              "\n",
              "  .colab-df-quickchart-complete:disabled,\n",
              "  .colab-df-quickchart-complete:disabled:hover {\n",
              "    background-color: var(--disabled-bg-color);\n",
              "    fill: var(--disabled-fill-color);\n",
              "    box-shadow: none;\n",
              "  }\n",
              "\n",
              "  .colab-df-spinner {\n",
              "    border: 2px solid var(--fill-color);\n",
              "    border-color: transparent;\n",
              "    border-bottom-color: var(--fill-color);\n",
              "    animation:\n",
              "      spin 1s steps(1) infinite;\n",
              "  }\n",
              "\n",
              "  @keyframes spin {\n",
              "    0% {\n",
              "      border-color: transparent;\n",
              "      border-bottom-color: var(--fill-color);\n",
              "      border-left-color: var(--fill-color);\n",
              "    }\n",
              "    20% {\n",
              "      border-color: transparent;\n",
              "      border-left-color: var(--fill-color);\n",
              "      border-top-color: var(--fill-color);\n",
              "    }\n",
              "    30% {\n",
              "      border-color: transparent;\n",
              "      border-left-color: var(--fill-color);\n",
              "      border-top-color: var(--fill-color);\n",
              "      border-right-color: var(--fill-color);\n",
              "    }\n",
              "    40% {\n",
              "      border-color: transparent;\n",
              "      border-right-color: var(--fill-color);\n",
              "      border-top-color: var(--fill-color);\n",
              "    }\n",
              "    60% {\n",
              "      border-color: transparent;\n",
              "      border-right-color: var(--fill-color);\n",
              "    }\n",
              "    80% {\n",
              "      border-color: transparent;\n",
              "      border-right-color: var(--fill-color);\n",
              "      border-bottom-color: var(--fill-color);\n",
              "    }\n",
              "    90% {\n",
              "      border-color: transparent;\n",
              "      border-bottom-color: var(--fill-color);\n",
              "    }\n",
              "  }\n",
              "</style>\n",
              "\n",
              "  <script>\n",
              "    async function quickchart(key) {\n",
              "      const quickchartButtonEl =\n",
              "        document.querySelector('#' + key + ' button');\n",
              "      quickchartButtonEl.disabled = true;  // To prevent multiple clicks.\n",
              "      quickchartButtonEl.classList.add('colab-df-spinner');\n",
              "      try {\n",
              "        const charts = await google.colab.kernel.invokeFunction(\n",
              "            'suggestCharts', [key], {});\n",
              "      } catch (error) {\n",
              "        console.error('Error during call to suggestCharts:', error);\n",
              "      }\n",
              "      quickchartButtonEl.classList.remove('colab-df-spinner');\n",
              "      quickchartButtonEl.classList.add('colab-df-quickchart-complete');\n",
              "    }\n",
              "    (() => {\n",
              "      let quickchartButtonEl =\n",
              "        document.querySelector('#df-b0e82f8d-8d8c-4975-9f38-2affd2e848f1 button');\n",
              "      quickchartButtonEl.style.display =\n",
              "        google.colab.kernel.accessAllowed ? 'block' : 'none';\n",
              "    })();\n",
              "  </script>\n",
              "</div>\n",
              "\n",
              "    </div>\n",
              "  </div>\n"
            ]
          },
          "metadata": {},
          "execution_count": 11
        }
      ]
    },
    {
      "cell_type": "code",
      "source": [
        "continuous_table = X.drop(['job', 'marital', 'contact', 'poutcome'], axis=1)"
      ],
      "metadata": {
        "id": "A9U53AeOIlMb"
      },
      "execution_count": null,
      "outputs": []
    },
    {
      "cell_type": "code",
      "source": [
        "sm.Logit(y['conversion'], continuous_table).fit().summary()"
      ],
      "metadata": {
        "colab": {
          "base_uri": "https://localhost:8080/",
          "height": 455
        },
        "id": "lex6uusRJ50f",
        "outputId": "be11f8d0-7346-4b08-b267-5de31b051bba"
      },
      "execution_count": null,
      "outputs": [
        {
          "output_type": "stream",
          "name": "stdout",
          "text": [
            "Optimization terminated successfully.\n",
            "         Current function value: 0.517879\n",
            "         Iterations 7\n"
          ]
        },
        {
          "output_type": "execute_result",
          "data": {
            "text/plain": [
              "<class 'statsmodels.iolib.summary.Summary'>\n",
              "\"\"\"\n",
              "                           Logit Regression Results                           \n",
              "==============================================================================\n",
              "Dep. Variable:             conversion   No. Observations:                 7842\n",
              "Model:                          Logit   Df Residuals:                     7833\n",
              "Method:                           MLE   Df Model:                            8\n",
              "Date:                Fri, 05 Jan 2024   Pseudo R-squ.:                 0.03478\n",
              "Time:                        23:57:42   Log-Likelihood:                -4061.2\n",
              "converged:                       True   LL-Null:                       -4207.6\n",
              "Covariance Type:            nonrobust   LLR p-value:                 1.481e-58\n",
              "===============================================================================\n",
              "                  coef    std err          z      P>|z|      [0.025      0.975]\n",
              "-------------------------------------------------------------------------------\n",
              "age            -0.0040      0.002     -2.126      0.034      -0.008      -0.000\n",
              "education       0.0334      0.033      1.005      0.315      -0.032       0.098\n",
              "default        -1.1737      0.524     -2.239      0.025      -2.201      -0.146\n",
              "balance      3.402e-05   8.44e-06      4.033      0.000    1.75e-05    5.06e-05\n",
              "day_of_week    -0.0078      0.003     -2.362      0.018      -0.014      -0.001\n",
              "month           0.0280      0.008      3.336      0.001       0.012       0.044\n",
              "campaign       -0.2127      0.022     -9.596      0.000      -0.256      -0.169\n",
              "pdays          -0.0038      0.000    -15.881      0.000      -0.004      -0.003\n",
              "previous        0.0054      0.006      0.972      0.331      -0.005       0.016\n",
              "===============================================================================\n",
              "\"\"\""
            ],
            "text/html": [
              "<table class=\"simpletable\">\n",
              "<caption>Logit Regression Results</caption>\n",
              "<tr>\n",
              "  <th>Dep. Variable:</th>      <td>conversion</td>    <th>  No. Observations:  </th>  <td>  7842</td>  \n",
              "</tr>\n",
              "<tr>\n",
              "  <th>Model:</th>                 <td>Logit</td>      <th>  Df Residuals:      </th>  <td>  7833</td>  \n",
              "</tr>\n",
              "<tr>\n",
              "  <th>Method:</th>                 <td>MLE</td>       <th>  Df Model:          </th>  <td>     8</td>  \n",
              "</tr>\n",
              "<tr>\n",
              "  <th>Date:</th>            <td>Fri, 05 Jan 2024</td> <th>  Pseudo R-squ.:     </th>  <td>0.03478</td> \n",
              "</tr>\n",
              "<tr>\n",
              "  <th>Time:</th>                <td>23:57:42</td>     <th>  Log-Likelihood:    </th> <td> -4061.2</td> \n",
              "</tr>\n",
              "<tr>\n",
              "  <th>converged:</th>             <td>True</td>       <th>  LL-Null:           </th> <td> -4207.6</td> \n",
              "</tr>\n",
              "<tr>\n",
              "  <th>Covariance Type:</th>     <td>nonrobust</td>    <th>  LLR p-value:       </th> <td>1.481e-58</td>\n",
              "</tr>\n",
              "</table>\n",
              "<table class=\"simpletable\">\n",
              "<tr>\n",
              "       <td></td>          <th>coef</th>     <th>std err</th>      <th>z</th>      <th>P>|z|</th>  <th>[0.025</th>    <th>0.975]</th>  \n",
              "</tr>\n",
              "<tr>\n",
              "  <th>age</th>         <td>   -0.0040</td> <td>    0.002</td> <td>   -2.126</td> <td> 0.034</td> <td>   -0.008</td> <td>   -0.000</td>\n",
              "</tr>\n",
              "<tr>\n",
              "  <th>education</th>   <td>    0.0334</td> <td>    0.033</td> <td>    1.005</td> <td> 0.315</td> <td>   -0.032</td> <td>    0.098</td>\n",
              "</tr>\n",
              "<tr>\n",
              "  <th>default</th>     <td>   -1.1737</td> <td>    0.524</td> <td>   -2.239</td> <td> 0.025</td> <td>   -2.201</td> <td>   -0.146</td>\n",
              "</tr>\n",
              "<tr>\n",
              "  <th>balance</th>     <td> 3.402e-05</td> <td> 8.44e-06</td> <td>    4.033</td> <td> 0.000</td> <td> 1.75e-05</td> <td> 5.06e-05</td>\n",
              "</tr>\n",
              "<tr>\n",
              "  <th>day_of_week</th> <td>   -0.0078</td> <td>    0.003</td> <td>   -2.362</td> <td> 0.018</td> <td>   -0.014</td> <td>   -0.001</td>\n",
              "</tr>\n",
              "<tr>\n",
              "  <th>month</th>       <td>    0.0280</td> <td>    0.008</td> <td>    3.336</td> <td> 0.001</td> <td>    0.012</td> <td>    0.044</td>\n",
              "</tr>\n",
              "<tr>\n",
              "  <th>campaign</th>    <td>   -0.2127</td> <td>    0.022</td> <td>   -9.596</td> <td> 0.000</td> <td>   -0.256</td> <td>   -0.169</td>\n",
              "</tr>\n",
              "<tr>\n",
              "  <th>pdays</th>       <td>   -0.0038</td> <td>    0.000</td> <td>  -15.881</td> <td> 0.000</td> <td>   -0.004</td> <td>   -0.003</td>\n",
              "</tr>\n",
              "<tr>\n",
              "  <th>previous</th>    <td>    0.0054</td> <td>    0.006</td> <td>    0.972</td> <td> 0.331</td> <td>   -0.005</td> <td>    0.016</td>\n",
              "</tr>\n",
              "</table>"
            ],
            "text/latex": "\\begin{center}\n\\begin{tabular}{lclc}\n\\toprule\n\\textbf{Dep. Variable:}   &    conversion    & \\textbf{  No. Observations:  } &     7842    \\\\\n\\textbf{Model:}           &      Logit       & \\textbf{  Df Residuals:      } &     7833    \\\\\n\\textbf{Method:}          &       MLE        & \\textbf{  Df Model:          } &        8    \\\\\n\\textbf{Date:}            & Fri, 05 Jan 2024 & \\textbf{  Pseudo R-squ.:     } &  0.03478    \\\\\n\\textbf{Time:}            &     23:57:42     & \\textbf{  Log-Likelihood:    } &   -4061.2   \\\\\n\\textbf{converged:}       &       True       & \\textbf{  LL-Null:           } &   -4207.6   \\\\\n\\textbf{Covariance Type:} &    nonrobust     & \\textbf{  LLR p-value:       } & 1.481e-58   \\\\\n\\bottomrule\n\\end{tabular}\n\\begin{tabular}{lcccccc}\n                       & \\textbf{coef} & \\textbf{std err} & \\textbf{z} & \\textbf{P$> |$z$|$} & \\textbf{[0.025} & \\textbf{0.975]}  \\\\\n\\midrule\n\\textbf{age}           &      -0.0040  &        0.002     &    -2.126  &         0.034        &       -0.008    &       -0.000     \\\\\n\\textbf{education}     &       0.0334  &        0.033     &     1.005  &         0.315        &       -0.032    &        0.098     \\\\\n\\textbf{default}       &      -1.1737  &        0.524     &    -2.239  &         0.025        &       -2.201    &       -0.146     \\\\\n\\textbf{balance}       &    3.402e-05  &     8.44e-06     &     4.033  &         0.000        &     1.75e-05    &     5.06e-05     \\\\\n\\textbf{day\\_of\\_week} &      -0.0078  &        0.003     &    -2.362  &         0.018        &       -0.014    &       -0.001     \\\\\n\\textbf{month}         &       0.0280  &        0.008     &     3.336  &         0.001        &        0.012    &        0.044     \\\\\n\\textbf{campaign}      &      -0.2127  &        0.022     &    -9.596  &         0.000        &       -0.256    &       -0.169     \\\\\n\\textbf{pdays}         &      -0.0038  &        0.000     &   -15.881  &         0.000        &       -0.004    &       -0.003     \\\\\n\\textbf{previous}      &       0.0054  &        0.006     &     0.972  &         0.331        &       -0.005    &        0.016     \\\\\n\\bottomrule\n\\end{tabular}\n%\\caption{Logit Regression Results}\n\\end{center}"
          },
          "metadata": {},
          "execution_count": 13
        }
      ]
    },
    {
      "cell_type": "markdown",
      "source": [
        "R-square is 0.03478. The p-value (P>|z|) is used to test the null hypothesis that the corresponding coefficient is equal to zero. Thus, the above summary describes that with 5% significance, 'age', 'default', 'balance', 'day_of_week', 'month', 'campaign', \"pdays\" coefficiens are not equal to 0 and these customer information might influence the customer's decision for marketing engagement."
      ],
      "metadata": {
        "id": "mSRP1wHEt_wn"
      }
    },
    {
      "cell_type": "markdown",
      "source": [
        "\n",
        "| Column       | Type    | Description                                           |\n",
        "|--------------|---------|-------------------------------------------------------|\n",
        "| age          | Integer | Customer's age                                        |\n",
        "| default      | Binary  | Has credit in default?                                |\n",
        "| balance      | Integer | Average yearly balance (euros)                        |\n",
        "| day_of_week  | Date    | Last contact day of the week                          |\n",
        "| month        | Date    | Last contact month of the year (categorical: 'jan', 'feb', 'mar', ..., 'nov', 'dec') |\n",
        "| campaign     | Integer | Number of contacts performed during this campaign for this client |\n",
        "| pdays        | Integer | Number of days since the client was last contacted from a previous campaign (-1 means not contacted) |\n"
      ],
      "metadata": {
        "id": "bZPKRf40vtrs"
      }
    },
    {
      "cell_type": "markdown",
      "source": [
        "#### **Logistic regression analysis with all type of data**"
      ],
      "metadata": {
        "id": "0lQoctyWJzBj"
      }
    },
    {
      "cell_type": "markdown",
      "source": [
        "Second of all, let's consider both categorical and continuous features to conduct the regression analysis"
      ],
      "metadata": {
        "id": "yxE2GL8svsKG"
      }
    },
    {
      "cell_type": "code",
      "execution_count": null,
      "metadata": {
        "id": "o0Jj2TB-AZ-J",
        "colab": {
          "base_uri": "https://localhost:8080/",
          "height": 818
        },
        "outputId": "ae41c05a-5ad3-45e7-edf2-38f72978957f"
      },
      "outputs": [
        {
          "output_type": "stream",
          "name": "stdout",
          "text": [
            "Optimization terminated successfully.\n",
            "         Current function value: 0.422498\n",
            "         Iterations 7\n"
          ]
        },
        {
          "output_type": "execute_result",
          "data": {
            "text/plain": [
              "<class 'statsmodels.iolib.summary.Summary'>\n",
              "\"\"\"\n",
              "                           Logit Regression Results                           \n",
              "==============================================================================\n",
              "Dep. Variable:             conversion   No. Observations:                 7842\n",
              "Model:                          Logit   Df Residuals:                     7817\n",
              "Method:                           MLE   Df Model:                           24\n",
              "Date:                Fri, 05 Jan 2024   Pseudo R-squ.:                  0.2126\n",
              "Time:                        23:57:42   Log-Likelihood:                -3313.2\n",
              "converged:                       True   LL-Null:                       -4207.6\n",
              "Covariance Type:            nonrobust   LLR p-value:                     0.000\n",
              "=====================================================================================\n",
              "                        coef    std err          z      P>|z|      [0.025      0.975]\n",
              "-------------------------------------------------------------------------------------\n",
              "age                   0.0116      0.004      3.017      0.003       0.004       0.019\n",
              "education             0.1889      0.065      2.924      0.003       0.062       0.315\n",
              "default              -0.7236      0.535     -1.352      0.176      -1.773       0.325\n",
              "balance            2.698e-05   9.68e-06      2.788      0.005    8.01e-06     4.6e-05\n",
              "day_of_week           0.0057      0.004      1.450      0.147      -0.002       0.013\n",
              "month                 0.0556      0.010      5.485      0.000       0.036       0.076\n",
              "campaign             -0.1500      0.024     -6.223      0.000      -0.197      -0.103\n",
              "pdays                 0.0003      0.000      0.891      0.373      -0.000       0.001\n",
              "previous              0.0118      0.007      1.744      0.081      -0.001       0.025\n",
              "job_admin.           -0.5255   2.48e+06  -2.12e-07      1.000   -4.85e+06    4.85e+06\n",
              "job_blue-collar      -1.0321   2.48e+06  -4.17e-07      1.000   -4.85e+06    4.85e+06\n",
              "job_entrepreneur     -1.1717   2.48e+06  -4.73e-07      1.000   -4.85e+06    4.85e+06\n",
              "job_housemaid        -0.6009   2.48e+06  -2.43e-07      1.000   -4.85e+06    4.85e+06\n",
              "job_management       -0.4032   2.48e+06  -1.63e-07      1.000   -4.85e+06    4.85e+06\n",
              "job_retired          -0.0892   2.48e+06   -3.6e-08      1.000   -4.85e+06    4.85e+06\n",
              "job_self-employed    -0.5717   2.48e+06  -2.31e-07      1.000   -4.85e+06    4.85e+06\n",
              "job_services         -0.6984   2.48e+06  -2.82e-07      1.000   -4.85e+06    4.85e+06\n",
              "job_student           0.3144   2.48e+06   1.27e-07      1.000   -4.85e+06    4.85e+06\n",
              "job_technician       -0.6617   2.48e+06  -2.67e-07      1.000   -4.85e+06    4.85e+06\n",
              "job_unemployed        0.0872   2.48e+06   3.52e-08      1.000   -4.85e+06    4.85e+06\n",
              "marital_divorced     -0.2318      0.107     -2.170      0.030      -0.441      -0.022\n",
              "marital_single        0.1792      0.079      2.268      0.023       0.024       0.334\n",
              "contact_cellular     -2.5580   2.48e+06  -1.03e-06      1.000   -4.85e+06    4.85e+06\n",
              "contact_telephone    -2.7947   2.48e+06  -1.13e-06      1.000   -4.85e+06    4.85e+06\n",
              "poutcome_other        0.3877      0.081      4.776      0.000       0.229       0.547\n",
              "poutcome_success      2.4007      0.076     31.768      0.000       2.253       2.549\n",
              "=====================================================================================\n",
              "\"\"\""
            ],
            "text/html": [
              "<table class=\"simpletable\">\n",
              "<caption>Logit Regression Results</caption>\n",
              "<tr>\n",
              "  <th>Dep. Variable:</th>      <td>conversion</td>    <th>  No. Observations:  </th>  <td>  7842</td> \n",
              "</tr>\n",
              "<tr>\n",
              "  <th>Model:</th>                 <td>Logit</td>      <th>  Df Residuals:      </th>  <td>  7817</td> \n",
              "</tr>\n",
              "<tr>\n",
              "  <th>Method:</th>                 <td>MLE</td>       <th>  Df Model:          </th>  <td>    24</td> \n",
              "</tr>\n",
              "<tr>\n",
              "  <th>Date:</th>            <td>Fri, 05 Jan 2024</td> <th>  Pseudo R-squ.:     </th>  <td>0.2126</td> \n",
              "</tr>\n",
              "<tr>\n",
              "  <th>Time:</th>                <td>23:57:42</td>     <th>  Log-Likelihood:    </th> <td> -3313.2</td>\n",
              "</tr>\n",
              "<tr>\n",
              "  <th>converged:</th>             <td>True</td>       <th>  LL-Null:           </th> <td> -4207.6</td>\n",
              "</tr>\n",
              "<tr>\n",
              "  <th>Covariance Type:</th>     <td>nonrobust</td>    <th>  LLR p-value:       </th>  <td> 0.000</td> \n",
              "</tr>\n",
              "</table>\n",
              "<table class=\"simpletable\">\n",
              "<tr>\n",
              "          <td></td>             <th>coef</th>     <th>std err</th>      <th>z</th>      <th>P>|z|</th>  <th>[0.025</th>    <th>0.975]</th>  \n",
              "</tr>\n",
              "<tr>\n",
              "  <th>age</th>               <td>    0.0116</td> <td>    0.004</td> <td>    3.017</td> <td> 0.003</td> <td>    0.004</td> <td>    0.019</td>\n",
              "</tr>\n",
              "<tr>\n",
              "  <th>education</th>         <td>    0.1889</td> <td>    0.065</td> <td>    2.924</td> <td> 0.003</td> <td>    0.062</td> <td>    0.315</td>\n",
              "</tr>\n",
              "<tr>\n",
              "  <th>default</th>           <td>   -0.7236</td> <td>    0.535</td> <td>   -1.352</td> <td> 0.176</td> <td>   -1.773</td> <td>    0.325</td>\n",
              "</tr>\n",
              "<tr>\n",
              "  <th>balance</th>           <td> 2.698e-05</td> <td> 9.68e-06</td> <td>    2.788</td> <td> 0.005</td> <td> 8.01e-06</td> <td>  4.6e-05</td>\n",
              "</tr>\n",
              "<tr>\n",
              "  <th>day_of_week</th>       <td>    0.0057</td> <td>    0.004</td> <td>    1.450</td> <td> 0.147</td> <td>   -0.002</td> <td>    0.013</td>\n",
              "</tr>\n",
              "<tr>\n",
              "  <th>month</th>             <td>    0.0556</td> <td>    0.010</td> <td>    5.485</td> <td> 0.000</td> <td>    0.036</td> <td>    0.076</td>\n",
              "</tr>\n",
              "<tr>\n",
              "  <th>campaign</th>          <td>   -0.1500</td> <td>    0.024</td> <td>   -6.223</td> <td> 0.000</td> <td>   -0.197</td> <td>   -0.103</td>\n",
              "</tr>\n",
              "<tr>\n",
              "  <th>pdays</th>             <td>    0.0003</td> <td>    0.000</td> <td>    0.891</td> <td> 0.373</td> <td>   -0.000</td> <td>    0.001</td>\n",
              "</tr>\n",
              "<tr>\n",
              "  <th>previous</th>          <td>    0.0118</td> <td>    0.007</td> <td>    1.744</td> <td> 0.081</td> <td>   -0.001</td> <td>    0.025</td>\n",
              "</tr>\n",
              "<tr>\n",
              "  <th>job_admin.</th>        <td>   -0.5255</td> <td> 2.48e+06</td> <td>-2.12e-07</td> <td> 1.000</td> <td>-4.85e+06</td> <td> 4.85e+06</td>\n",
              "</tr>\n",
              "<tr>\n",
              "  <th>job_blue-collar</th>   <td>   -1.0321</td> <td> 2.48e+06</td> <td>-4.17e-07</td> <td> 1.000</td> <td>-4.85e+06</td> <td> 4.85e+06</td>\n",
              "</tr>\n",
              "<tr>\n",
              "  <th>job_entrepreneur</th>  <td>   -1.1717</td> <td> 2.48e+06</td> <td>-4.73e-07</td> <td> 1.000</td> <td>-4.85e+06</td> <td> 4.85e+06</td>\n",
              "</tr>\n",
              "<tr>\n",
              "  <th>job_housemaid</th>     <td>   -0.6009</td> <td> 2.48e+06</td> <td>-2.43e-07</td> <td> 1.000</td> <td>-4.85e+06</td> <td> 4.85e+06</td>\n",
              "</tr>\n",
              "<tr>\n",
              "  <th>job_management</th>    <td>   -0.4032</td> <td> 2.48e+06</td> <td>-1.63e-07</td> <td> 1.000</td> <td>-4.85e+06</td> <td> 4.85e+06</td>\n",
              "</tr>\n",
              "<tr>\n",
              "  <th>job_retired</th>       <td>   -0.0892</td> <td> 2.48e+06</td> <td> -3.6e-08</td> <td> 1.000</td> <td>-4.85e+06</td> <td> 4.85e+06</td>\n",
              "</tr>\n",
              "<tr>\n",
              "  <th>job_self-employed</th> <td>   -0.5717</td> <td> 2.48e+06</td> <td>-2.31e-07</td> <td> 1.000</td> <td>-4.85e+06</td> <td> 4.85e+06</td>\n",
              "</tr>\n",
              "<tr>\n",
              "  <th>job_services</th>      <td>   -0.6984</td> <td> 2.48e+06</td> <td>-2.82e-07</td> <td> 1.000</td> <td>-4.85e+06</td> <td> 4.85e+06</td>\n",
              "</tr>\n",
              "<tr>\n",
              "  <th>job_student</th>       <td>    0.3144</td> <td> 2.48e+06</td> <td> 1.27e-07</td> <td> 1.000</td> <td>-4.85e+06</td> <td> 4.85e+06</td>\n",
              "</tr>\n",
              "<tr>\n",
              "  <th>job_technician</th>    <td>   -0.6617</td> <td> 2.48e+06</td> <td>-2.67e-07</td> <td> 1.000</td> <td>-4.85e+06</td> <td> 4.85e+06</td>\n",
              "</tr>\n",
              "<tr>\n",
              "  <th>job_unemployed</th>    <td>    0.0872</td> <td> 2.48e+06</td> <td> 3.52e-08</td> <td> 1.000</td> <td>-4.85e+06</td> <td> 4.85e+06</td>\n",
              "</tr>\n",
              "<tr>\n",
              "  <th>marital_divorced</th>  <td>   -0.2318</td> <td>    0.107</td> <td>   -2.170</td> <td> 0.030</td> <td>   -0.441</td> <td>   -0.022</td>\n",
              "</tr>\n",
              "<tr>\n",
              "  <th>marital_single</th>    <td>    0.1792</td> <td>    0.079</td> <td>    2.268</td> <td> 0.023</td> <td>    0.024</td> <td>    0.334</td>\n",
              "</tr>\n",
              "<tr>\n",
              "  <th>contact_cellular</th>  <td>   -2.5580</td> <td> 2.48e+06</td> <td>-1.03e-06</td> <td> 1.000</td> <td>-4.85e+06</td> <td> 4.85e+06</td>\n",
              "</tr>\n",
              "<tr>\n",
              "  <th>contact_telephone</th> <td>   -2.7947</td> <td> 2.48e+06</td> <td>-1.13e-06</td> <td> 1.000</td> <td>-4.85e+06</td> <td> 4.85e+06</td>\n",
              "</tr>\n",
              "<tr>\n",
              "  <th>poutcome_other</th>    <td>    0.3877</td> <td>    0.081</td> <td>    4.776</td> <td> 0.000</td> <td>    0.229</td> <td>    0.547</td>\n",
              "</tr>\n",
              "<tr>\n",
              "  <th>poutcome_success</th>  <td>    2.4007</td> <td>    0.076</td> <td>   31.768</td> <td> 0.000</td> <td>    2.253</td> <td>    2.549</td>\n",
              "</tr>\n",
              "</table>"
            ],
            "text/latex": "\\begin{center}\n\\begin{tabular}{lclc}\n\\toprule\n\\textbf{Dep. Variable:}     &    conversion    & \\textbf{  No. Observations:  } &     7842    \\\\\n\\textbf{Model:}             &      Logit       & \\textbf{  Df Residuals:      } &     7817    \\\\\n\\textbf{Method:}            &       MLE        & \\textbf{  Df Model:          } &       24    \\\\\n\\textbf{Date:}              & Fri, 05 Jan 2024 & \\textbf{  Pseudo R-squ.:     } &   0.2126    \\\\\n\\textbf{Time:}              &     23:57:42     & \\textbf{  Log-Likelihood:    } &   -3313.2   \\\\\n\\textbf{converged:}         &       True       & \\textbf{  LL-Null:           } &   -4207.6   \\\\\n\\textbf{Covariance Type:}   &    nonrobust     & \\textbf{  LLR p-value:       } &    0.000    \\\\\n\\bottomrule\n\\end{tabular}\n\\begin{tabular}{lcccccc}\n                            & \\textbf{coef} & \\textbf{std err} & \\textbf{z} & \\textbf{P$> |$z$|$} & \\textbf{[0.025} & \\textbf{0.975]}  \\\\\n\\midrule\n\\textbf{age}                &       0.0116  &        0.004     &     3.017  &         0.003        &        0.004    &        0.019     \\\\\n\\textbf{education}          &       0.1889  &        0.065     &     2.924  &         0.003        &        0.062    &        0.315     \\\\\n\\textbf{default}            &      -0.7236  &        0.535     &    -1.352  &         0.176        &       -1.773    &        0.325     \\\\\n\\textbf{balance}            &    2.698e-05  &     9.68e-06     &     2.788  &         0.005        &     8.01e-06    &      4.6e-05     \\\\\n\\textbf{day\\_of\\_week}      &       0.0057  &        0.004     &     1.450  &         0.147        &       -0.002    &        0.013     \\\\\n\\textbf{month}              &       0.0556  &        0.010     &     5.485  &         0.000        &        0.036    &        0.076     \\\\\n\\textbf{campaign}           &      -0.1500  &        0.024     &    -6.223  &         0.000        &       -0.197    &       -0.103     \\\\\n\\textbf{pdays}              &       0.0003  &        0.000     &     0.891  &         0.373        &       -0.000    &        0.001     \\\\\n\\textbf{previous}           &       0.0118  &        0.007     &     1.744  &         0.081        &       -0.001    &        0.025     \\\\\n\\textbf{job\\_admin.}        &      -0.5255  &     2.48e+06     & -2.12e-07  &         1.000        &    -4.85e+06    &     4.85e+06     \\\\\n\\textbf{job\\_blue-collar}   &      -1.0321  &     2.48e+06     & -4.17e-07  &         1.000        &    -4.85e+06    &     4.85e+06     \\\\\n\\textbf{job\\_entrepreneur}  &      -1.1717  &     2.48e+06     & -4.73e-07  &         1.000        &    -4.85e+06    &     4.85e+06     \\\\\n\\textbf{job\\_housemaid}     &      -0.6009  &     2.48e+06     & -2.43e-07  &         1.000        &    -4.85e+06    &     4.85e+06     \\\\\n\\textbf{job\\_management}    &      -0.4032  &     2.48e+06     & -1.63e-07  &         1.000        &    -4.85e+06    &     4.85e+06     \\\\\n\\textbf{job\\_retired}       &      -0.0892  &     2.48e+06     &  -3.6e-08  &         1.000        &    -4.85e+06    &     4.85e+06     \\\\\n\\textbf{job\\_self-employed} &      -0.5717  &     2.48e+06     & -2.31e-07  &         1.000        &    -4.85e+06    &     4.85e+06     \\\\\n\\textbf{job\\_services}      &      -0.6984  &     2.48e+06     & -2.82e-07  &         1.000        &    -4.85e+06    &     4.85e+06     \\\\\n\\textbf{job\\_student}       &       0.3144  &     2.48e+06     &  1.27e-07  &         1.000        &    -4.85e+06    &     4.85e+06     \\\\\n\\textbf{job\\_technician}    &      -0.6617  &     2.48e+06     & -2.67e-07  &         1.000        &    -4.85e+06    &     4.85e+06     \\\\\n\\textbf{job\\_unemployed}    &       0.0872  &     2.48e+06     &  3.52e-08  &         1.000        &    -4.85e+06    &     4.85e+06     \\\\\n\\textbf{marital\\_divorced}  &      -0.2318  &        0.107     &    -2.170  &         0.030        &       -0.441    &       -0.022     \\\\\n\\textbf{marital\\_single}    &       0.1792  &        0.079     &     2.268  &         0.023        &        0.024    &        0.334     \\\\\n\\textbf{contact\\_cellular}  &      -2.5580  &     2.48e+06     & -1.03e-06  &         1.000        &    -4.85e+06    &     4.85e+06     \\\\\n\\textbf{contact\\_telephone} &      -2.7947  &     2.48e+06     & -1.13e-06  &         1.000        &    -4.85e+06    &     4.85e+06     \\\\\n\\textbf{poutcome\\_other}    &       0.3877  &        0.081     &     4.776  &         0.000        &        0.229    &        0.547     \\\\\n\\textbf{poutcome\\_success}  &       2.4007  &        0.076     &    31.768  &         0.000        &        2.253    &        2.549     \\\\\n\\bottomrule\n\\end{tabular}\n%\\caption{Logit Regression Results}\n\\end{center}"
          },
          "metadata": {},
          "execution_count": 14
        }
      ],
      "source": [
        "logit = sm.Logit(y['conversion'], one_hot_encoded_data[[i for i in one_hot_encoded_data.columns if i != 'conversion']])\n",
        "logit.fit().summary()"
      ]
    },
    {
      "cell_type": "markdown",
      "source": [
        "R-square is increased to 0.2126, but this model seems to be encountering numerical issues that the column start with \"job\" are not contributing to inference because of sparseness of the data. howerver, this data is not ordinal, so I would not use label encoding. Therefore, I try to convert these columns into two columns employment_status and retirement_status and compress the information."
      ],
      "metadata": {
        "id": "Rtpb_P3_2zU9"
      }
    },
    {
      "cell_type": "code",
      "source": [
        "one_hot_encoded_data = one_hot_encoded_data.rename(columns={'job_retired':'retirement_status'})\n",
        "sum_columns = ['job_admin.', 'job_blue-collar','job_entrepreneur', 'job_housemaid', 'job_management', 'retirement_status', 'job_self-employed', 'job_services', 'job_student',\n",
        "'job_technician']\n",
        "one_hot_encoded_data['employment-status'] = one_hot_encoded_data[sum_columns].sum(axis=1)\n",
        "one_hot_encoded_data = one_hot_encoded_data.loc[:, ~one_hot_encoded_data.columns.str.startswith('job')]"
      ],
      "metadata": {
        "id": "1Flb6Pfd4TJs"
      },
      "execution_count": null,
      "outputs": []
    },
    {
      "cell_type": "code",
      "source": [
        "one_hot_encoded_data.columns"
      ],
      "metadata": {
        "colab": {
          "base_uri": "https://localhost:8080/"
        },
        "id": "r0mH9BQ-4rzE",
        "outputId": "6a5ac190-175e-41a1-a91d-592fd0a96e4f"
      },
      "execution_count": null,
      "outputs": [
        {
          "output_type": "execute_result",
          "data": {
            "text/plain": [
              "Index(['age', 'education', 'default', 'balance', 'day_of_week', 'month',\n",
              "       'campaign', 'pdays', 'previous', 'retirement_status',\n",
              "       'marital_divorced', 'marital_single', 'contact_cellular',\n",
              "       'contact_telephone', 'poutcome_other', 'poutcome_success',\n",
              "       'employment-status'],\n",
              "      dtype='object')"
            ]
          },
          "metadata": {},
          "execution_count": 16
        }
      ]
    },
    {
      "cell_type": "markdown",
      "source": [
        "#### **Logistic regression analysis after feature engineering**"
      ],
      "metadata": {
        "id": "-DO4i0lZJ9iG"
      }
    },
    {
      "cell_type": "markdown",
      "source": [
        "Standardizing the variables helps make the coefficients comparable and interpretable in terms of effect size, so I use StandardScaler and standarize the each column"
      ],
      "metadata": {
        "id": "rMZSSWyzCsRM"
      }
    },
    {
      "cell_type": "code",
      "source": [
        "scaler = MinMaxScaler()\n",
        "one_hot_encoded_data[one_hot_encoded_data.columns] = scaler.fit_transform(one_hot_encoded_data)\n",
        "one_hot_encoded_data.head()"
      ],
      "metadata": {
        "colab": {
          "base_uri": "https://localhost:8080/",
          "height": 244
        },
        "id": "TLnXAHXwC60A",
        "outputId": "5ff8f264-7d75-4a85-f75c-945888987040"
      },
      "execution_count": null,
      "outputs": [
        {
          "output_type": "execute_result",
          "data": {
            "text/plain": [
              "        age  education  default   balance  day_of_week     month  campaign  \\\n",
              "0  0.211268        1.0      0.0  0.033290     0.666667  0.818182       0.0   \n",
              "1  0.338028        0.5      0.0  0.019702     0.666667  0.818182       0.0   \n",
              "2  0.211268        0.5      0.0  0.064125     0.666667  0.818182       0.0   \n",
              "3  0.253521        1.0      0.0  0.051740     0.700000  0.818182       0.0   \n",
              "4  0.253521        1.0      0.0  0.022675     0.733333  0.818182       0.0   \n",
              "\n",
              "      pdays  previous  retirement_status  marital_divorced  marital_single  \\\n",
              "0  0.172414  0.007299                0.0               0.0             0.0   \n",
              "1  0.189655  0.000000                0.0               0.0             1.0   \n",
              "2  0.103448  0.010949                0.0               0.0             0.0   \n",
              "3  0.097701  0.010949                0.0               0.0             0.0   \n",
              "4  0.163218  0.007299                0.0               0.0             0.0   \n",
              "\n",
              "   contact_cellular  contact_telephone  poutcome_other  poutcome_success  \\\n",
              "0               0.0                1.0             0.0               0.0   \n",
              "1               0.0                1.0             1.0               0.0   \n",
              "2               0.0                1.0             0.0               0.0   \n",
              "3               0.0                1.0             1.0               0.0   \n",
              "4               0.0                1.0             0.0               0.0   \n",
              "\n",
              "   employment-status  \n",
              "0                1.0  \n",
              "1                1.0  \n",
              "2                1.0  \n",
              "3                1.0  \n",
              "4                1.0  "
            ],
            "text/html": [
              "\n",
              "  <div id=\"df-633d5d74-94e0-4d4e-9c71-ab8608f5feaf\" class=\"colab-df-container\">\n",
              "    <div>\n",
              "<style scoped>\n",
              "    .dataframe tbody tr th:only-of-type {\n",
              "        vertical-align: middle;\n",
              "    }\n",
              "\n",
              "    .dataframe tbody tr th {\n",
              "        vertical-align: top;\n",
              "    }\n",
              "\n",
              "    .dataframe thead th {\n",
              "        text-align: right;\n",
              "    }\n",
              "</style>\n",
              "<table border=\"1\" class=\"dataframe\">\n",
              "  <thead>\n",
              "    <tr style=\"text-align: right;\">\n",
              "      <th></th>\n",
              "      <th>age</th>\n",
              "      <th>education</th>\n",
              "      <th>default</th>\n",
              "      <th>balance</th>\n",
              "      <th>day_of_week</th>\n",
              "      <th>month</th>\n",
              "      <th>campaign</th>\n",
              "      <th>pdays</th>\n",
              "      <th>previous</th>\n",
              "      <th>retirement_status</th>\n",
              "      <th>marital_divorced</th>\n",
              "      <th>marital_single</th>\n",
              "      <th>contact_cellular</th>\n",
              "      <th>contact_telephone</th>\n",
              "      <th>poutcome_other</th>\n",
              "      <th>poutcome_success</th>\n",
              "      <th>employment-status</th>\n",
              "    </tr>\n",
              "  </thead>\n",
              "  <tbody>\n",
              "    <tr>\n",
              "      <th>0</th>\n",
              "      <td>0.211268</td>\n",
              "      <td>1.0</td>\n",
              "      <td>0.0</td>\n",
              "      <td>0.033290</td>\n",
              "      <td>0.666667</td>\n",
              "      <td>0.818182</td>\n",
              "      <td>0.0</td>\n",
              "      <td>0.172414</td>\n",
              "      <td>0.007299</td>\n",
              "      <td>0.0</td>\n",
              "      <td>0.0</td>\n",
              "      <td>0.0</td>\n",
              "      <td>0.0</td>\n",
              "      <td>1.0</td>\n",
              "      <td>0.0</td>\n",
              "      <td>0.0</td>\n",
              "      <td>1.0</td>\n",
              "    </tr>\n",
              "    <tr>\n",
              "      <th>1</th>\n",
              "      <td>0.338028</td>\n",
              "      <td>0.5</td>\n",
              "      <td>0.0</td>\n",
              "      <td>0.019702</td>\n",
              "      <td>0.666667</td>\n",
              "      <td>0.818182</td>\n",
              "      <td>0.0</td>\n",
              "      <td>0.189655</td>\n",
              "      <td>0.000000</td>\n",
              "      <td>0.0</td>\n",
              "      <td>0.0</td>\n",
              "      <td>1.0</td>\n",
              "      <td>0.0</td>\n",
              "      <td>1.0</td>\n",
              "      <td>1.0</td>\n",
              "      <td>0.0</td>\n",
              "      <td>1.0</td>\n",
              "    </tr>\n",
              "    <tr>\n",
              "      <th>2</th>\n",
              "      <td>0.211268</td>\n",
              "      <td>0.5</td>\n",
              "      <td>0.0</td>\n",
              "      <td>0.064125</td>\n",
              "      <td>0.666667</td>\n",
              "      <td>0.818182</td>\n",
              "      <td>0.0</td>\n",
              "      <td>0.103448</td>\n",
              "      <td>0.010949</td>\n",
              "      <td>0.0</td>\n",
              "      <td>0.0</td>\n",
              "      <td>0.0</td>\n",
              "      <td>0.0</td>\n",
              "      <td>1.0</td>\n",
              "      <td>0.0</td>\n",
              "      <td>0.0</td>\n",
              "      <td>1.0</td>\n",
              "    </tr>\n",
              "    <tr>\n",
              "      <th>3</th>\n",
              "      <td>0.253521</td>\n",
              "      <td>1.0</td>\n",
              "      <td>0.0</td>\n",
              "      <td>0.051740</td>\n",
              "      <td>0.700000</td>\n",
              "      <td>0.818182</td>\n",
              "      <td>0.0</td>\n",
              "      <td>0.097701</td>\n",
              "      <td>0.010949</td>\n",
              "      <td>0.0</td>\n",
              "      <td>0.0</td>\n",
              "      <td>0.0</td>\n",
              "      <td>0.0</td>\n",
              "      <td>1.0</td>\n",
              "      <td>1.0</td>\n",
              "      <td>0.0</td>\n",
              "      <td>1.0</td>\n",
              "    </tr>\n",
              "    <tr>\n",
              "      <th>4</th>\n",
              "      <td>0.253521</td>\n",
              "      <td>1.0</td>\n",
              "      <td>0.0</td>\n",
              "      <td>0.022675</td>\n",
              "      <td>0.733333</td>\n",
              "      <td>0.818182</td>\n",
              "      <td>0.0</td>\n",
              "      <td>0.163218</td>\n",
              "      <td>0.007299</td>\n",
              "      <td>0.0</td>\n",
              "      <td>0.0</td>\n",
              "      <td>0.0</td>\n",
              "      <td>0.0</td>\n",
              "      <td>1.0</td>\n",
              "      <td>0.0</td>\n",
              "      <td>0.0</td>\n",
              "      <td>1.0</td>\n",
              "    </tr>\n",
              "  </tbody>\n",
              "</table>\n",
              "</div>\n",
              "    <div class=\"colab-df-buttons\">\n",
              "\n",
              "  <div class=\"colab-df-container\">\n",
              "    <button class=\"colab-df-convert\" onclick=\"convertToInteractive('df-633d5d74-94e0-4d4e-9c71-ab8608f5feaf')\"\n",
              "            title=\"Convert this dataframe to an interactive table.\"\n",
              "            style=\"display:none;\">\n",
              "\n",
              "  <svg xmlns=\"http://www.w3.org/2000/svg\" height=\"24px\" viewBox=\"0 -960 960 960\">\n",
              "    <path d=\"M120-120v-720h720v720H120Zm60-500h600v-160H180v160Zm220 220h160v-160H400v160Zm0 220h160v-160H400v160ZM180-400h160v-160H180v160Zm440 0h160v-160H620v160ZM180-180h160v-160H180v160Zm440 0h160v-160H620v160Z\"/>\n",
              "  </svg>\n",
              "    </button>\n",
              "\n",
              "  <style>\n",
              "    .colab-df-container {\n",
              "      display:flex;\n",
              "      gap: 12px;\n",
              "    }\n",
              "\n",
              "    .colab-df-convert {\n",
              "      background-color: #E8F0FE;\n",
              "      border: none;\n",
              "      border-radius: 50%;\n",
              "      cursor: pointer;\n",
              "      display: none;\n",
              "      fill: #1967D2;\n",
              "      height: 32px;\n",
              "      padding: 0 0 0 0;\n",
              "      width: 32px;\n",
              "    }\n",
              "\n",
              "    .colab-df-convert:hover {\n",
              "      background-color: #E2EBFA;\n",
              "      box-shadow: 0px 1px 2px rgba(60, 64, 67, 0.3), 0px 1px 3px 1px rgba(60, 64, 67, 0.15);\n",
              "      fill: #174EA6;\n",
              "    }\n",
              "\n",
              "    .colab-df-buttons div {\n",
              "      margin-bottom: 4px;\n",
              "    }\n",
              "\n",
              "    [theme=dark] .colab-df-convert {\n",
              "      background-color: #3B4455;\n",
              "      fill: #D2E3FC;\n",
              "    }\n",
              "\n",
              "    [theme=dark] .colab-df-convert:hover {\n",
              "      background-color: #434B5C;\n",
              "      box-shadow: 0px 1px 3px 1px rgba(0, 0, 0, 0.15);\n",
              "      filter: drop-shadow(0px 1px 2px rgba(0, 0, 0, 0.3));\n",
              "      fill: #FFFFFF;\n",
              "    }\n",
              "  </style>\n",
              "\n",
              "    <script>\n",
              "      const buttonEl =\n",
              "        document.querySelector('#df-633d5d74-94e0-4d4e-9c71-ab8608f5feaf button.colab-df-convert');\n",
              "      buttonEl.style.display =\n",
              "        google.colab.kernel.accessAllowed ? 'block' : 'none';\n",
              "\n",
              "      async function convertToInteractive(key) {\n",
              "        const element = document.querySelector('#df-633d5d74-94e0-4d4e-9c71-ab8608f5feaf');\n",
              "        const dataTable =\n",
              "          await google.colab.kernel.invokeFunction('convertToInteractive',\n",
              "                                                    [key], {});\n",
              "        if (!dataTable) return;\n",
              "\n",
              "        const docLinkHtml = 'Like what you see? Visit the ' +\n",
              "          '<a target=\"_blank\" href=https://colab.research.google.com/notebooks/data_table.ipynb>data table notebook</a>'\n",
              "          + ' to learn more about interactive tables.';\n",
              "        element.innerHTML = '';\n",
              "        dataTable['output_type'] = 'display_data';\n",
              "        await google.colab.output.renderOutput(dataTable, element);\n",
              "        const docLink = document.createElement('div');\n",
              "        docLink.innerHTML = docLinkHtml;\n",
              "        element.appendChild(docLink);\n",
              "      }\n",
              "    </script>\n",
              "  </div>\n",
              "\n",
              "\n",
              "<div id=\"df-518df6c6-d041-4cc6-baa8-767fecdb0376\">\n",
              "  <button class=\"colab-df-quickchart\" onclick=\"quickchart('df-518df6c6-d041-4cc6-baa8-767fecdb0376')\"\n",
              "            title=\"Suggest charts\"\n",
              "            style=\"display:none;\">\n",
              "\n",
              "<svg xmlns=\"http://www.w3.org/2000/svg\" height=\"24px\"viewBox=\"0 0 24 24\"\n",
              "     width=\"24px\">\n",
              "    <g>\n",
              "        <path d=\"M19 3H5c-1.1 0-2 .9-2 2v14c0 1.1.9 2 2 2h14c1.1 0 2-.9 2-2V5c0-1.1-.9-2-2-2zM9 17H7v-7h2v7zm4 0h-2V7h2v10zm4 0h-2v-4h2v4z\"/>\n",
              "    </g>\n",
              "</svg>\n",
              "  </button>\n",
              "\n",
              "<style>\n",
              "  .colab-df-quickchart {\n",
              "      --bg-color: #E8F0FE;\n",
              "      --fill-color: #1967D2;\n",
              "      --hover-bg-color: #E2EBFA;\n",
              "      --hover-fill-color: #174EA6;\n",
              "      --disabled-fill-color: #AAA;\n",
              "      --disabled-bg-color: #DDD;\n",
              "  }\n",
              "\n",
              "  [theme=dark] .colab-df-quickchart {\n",
              "      --bg-color: #3B4455;\n",
              "      --fill-color: #D2E3FC;\n",
              "      --hover-bg-color: #434B5C;\n",
              "      --hover-fill-color: #FFFFFF;\n",
              "      --disabled-bg-color: #3B4455;\n",
              "      --disabled-fill-color: #666;\n",
              "  }\n",
              "\n",
              "  .colab-df-quickchart {\n",
              "    background-color: var(--bg-color);\n",
              "    border: none;\n",
              "    border-radius: 50%;\n",
              "    cursor: pointer;\n",
              "    display: none;\n",
              "    fill: var(--fill-color);\n",
              "    height: 32px;\n",
              "    padding: 0;\n",
              "    width: 32px;\n",
              "  }\n",
              "\n",
              "  .colab-df-quickchart:hover {\n",
              "    background-color: var(--hover-bg-color);\n",
              "    box-shadow: 0 1px 2px rgba(60, 64, 67, 0.3), 0 1px 3px 1px rgba(60, 64, 67, 0.15);\n",
              "    fill: var(--button-hover-fill-color);\n",
              "  }\n",
              "\n",
              "  .colab-df-quickchart-complete:disabled,\n",
              "  .colab-df-quickchart-complete:disabled:hover {\n",
              "    background-color: var(--disabled-bg-color);\n",
              "    fill: var(--disabled-fill-color);\n",
              "    box-shadow: none;\n",
              "  }\n",
              "\n",
              "  .colab-df-spinner {\n",
              "    border: 2px solid var(--fill-color);\n",
              "    border-color: transparent;\n",
              "    border-bottom-color: var(--fill-color);\n",
              "    animation:\n",
              "      spin 1s steps(1) infinite;\n",
              "  }\n",
              "\n",
              "  @keyframes spin {\n",
              "    0% {\n",
              "      border-color: transparent;\n",
              "      border-bottom-color: var(--fill-color);\n",
              "      border-left-color: var(--fill-color);\n",
              "    }\n",
              "    20% {\n",
              "      border-color: transparent;\n",
              "      border-left-color: var(--fill-color);\n",
              "      border-top-color: var(--fill-color);\n",
              "    }\n",
              "    30% {\n",
              "      border-color: transparent;\n",
              "      border-left-color: var(--fill-color);\n",
              "      border-top-color: var(--fill-color);\n",
              "      border-right-color: var(--fill-color);\n",
              "    }\n",
              "    40% {\n",
              "      border-color: transparent;\n",
              "      border-right-color: var(--fill-color);\n",
              "      border-top-color: var(--fill-color);\n",
              "    }\n",
              "    60% {\n",
              "      border-color: transparent;\n",
              "      border-right-color: var(--fill-color);\n",
              "    }\n",
              "    80% {\n",
              "      border-color: transparent;\n",
              "      border-right-color: var(--fill-color);\n",
              "      border-bottom-color: var(--fill-color);\n",
              "    }\n",
              "    90% {\n",
              "      border-color: transparent;\n",
              "      border-bottom-color: var(--fill-color);\n",
              "    }\n",
              "  }\n",
              "</style>\n",
              "\n",
              "  <script>\n",
              "    async function quickchart(key) {\n",
              "      const quickchartButtonEl =\n",
              "        document.querySelector('#' + key + ' button');\n",
              "      quickchartButtonEl.disabled = true;  // To prevent multiple clicks.\n",
              "      quickchartButtonEl.classList.add('colab-df-spinner');\n",
              "      try {\n",
              "        const charts = await google.colab.kernel.invokeFunction(\n",
              "            'suggestCharts', [key], {});\n",
              "      } catch (error) {\n",
              "        console.error('Error during call to suggestCharts:', error);\n",
              "      }\n",
              "      quickchartButtonEl.classList.remove('colab-df-spinner');\n",
              "      quickchartButtonEl.classList.add('colab-df-quickchart-complete');\n",
              "    }\n",
              "    (() => {\n",
              "      let quickchartButtonEl =\n",
              "        document.querySelector('#df-518df6c6-d041-4cc6-baa8-767fecdb0376 button');\n",
              "      quickchartButtonEl.style.display =\n",
              "        google.colab.kernel.accessAllowed ? 'block' : 'none';\n",
              "    })();\n",
              "  </script>\n",
              "</div>\n",
              "\n",
              "    </div>\n",
              "  </div>\n"
            ]
          },
          "metadata": {},
          "execution_count": 17
        }
      ]
    },
    {
      "cell_type": "markdown",
      "source": [
        "Now, I have the data format that I expected. Let's give it try again"
      ],
      "metadata": {
        "id": "SQRFSGsQ659k"
      }
    },
    {
      "cell_type": "code",
      "source": [
        "logit = sm.Logit(y['conversion'], one_hot_encoded_data[[i for i in one_hot_encoded_data.columns if i != 'conversion']])\n",
        "logit.fit().summary()"
      ],
      "metadata": {
        "colab": {
          "base_uri": "https://localhost:8080/",
          "height": 626
        },
        "id": "P0NftzFT1smo",
        "outputId": "afdb5d46-2039-4208-c7f7-59bb3eacf2a1"
      },
      "execution_count": null,
      "outputs": [
        {
          "output_type": "stream",
          "name": "stdout",
          "text": [
            "Optimization terminated successfully.\n",
            "         Current function value: 0.426802\n",
            "         Iterations 7\n"
          ]
        },
        {
          "output_type": "execute_result",
          "data": {
            "text/plain": [
              "<class 'statsmodels.iolib.summary.Summary'>\n",
              "\"\"\"\n",
              "                           Logit Regression Results                           \n",
              "==============================================================================\n",
              "Dep. Variable:             conversion   No. Observations:                 7842\n",
              "Model:                          Logit   Df Residuals:                     7825\n",
              "Method:                           MLE   Df Model:                           16\n",
              "Date:                Fri, 05 Jan 2024   Pseudo R-squ.:                  0.2045\n",
              "Time:                        23:57:43   Log-Likelihood:                -3347.0\n",
              "converged:                       True   LL-Null:                       -4207.6\n",
              "Covariance Type:            nonrobust   LLR p-value:                     0.000\n",
              "=====================================================================================\n",
              "                        coef    std err          z      P>|z|      [0.025      0.975]\n",
              "-------------------------------------------------------------------------------------\n",
              "age                   0.6305      0.264      2.392      0.017       0.114       1.147\n",
              "education             0.6418      0.102      6.304      0.000       0.442       0.841\n",
              "default              -0.8395      0.548     -1.531      0.126      -1.914       0.235\n",
              "balance               2.4378      0.805      3.027      0.002       0.859       4.016\n",
              "day_of_week           0.1865      0.118      1.586      0.113      -0.044       0.417\n",
              "month                 0.6338      0.111      5.712      0.000       0.416       0.851\n",
              "campaign             -2.2176      0.357     -6.206      0.000      -2.918      -1.517\n",
              "pdays                 0.0728      0.258      0.282      0.778      -0.433       0.578\n",
              "previous              3.4693      1.868      1.857      0.063      -0.192       7.130\n",
              "retirement_status     0.6481      0.148      4.383      0.000       0.358       0.938\n",
              "marital_divorced     -0.1909      0.106     -1.796      0.072      -0.399       0.017\n",
              "marital_single        0.2702      0.077      3.513      0.000       0.119       0.421\n",
              "contact_cellular     -2.3405      0.237     -9.867      0.000      -2.805      -1.876\n",
              "contact_telephone    -2.5333      0.271     -9.354      0.000      -3.064      -2.002\n",
              "poutcome_other        0.4049      0.081      5.019      0.000       0.247       0.563\n",
              "poutcome_success      2.4245      0.075     32.282      0.000       2.277       2.572\n",
              "employment-status    -0.7008      0.170     -4.117      0.000      -1.034      -0.367\n",
              "=====================================================================================\n",
              "\"\"\""
            ],
            "text/html": [
              "<table class=\"simpletable\">\n",
              "<caption>Logit Regression Results</caption>\n",
              "<tr>\n",
              "  <th>Dep. Variable:</th>      <td>conversion</td>    <th>  No. Observations:  </th>  <td>  7842</td> \n",
              "</tr>\n",
              "<tr>\n",
              "  <th>Model:</th>                 <td>Logit</td>      <th>  Df Residuals:      </th>  <td>  7825</td> \n",
              "</tr>\n",
              "<tr>\n",
              "  <th>Method:</th>                 <td>MLE</td>       <th>  Df Model:          </th>  <td>    16</td> \n",
              "</tr>\n",
              "<tr>\n",
              "  <th>Date:</th>            <td>Fri, 05 Jan 2024</td> <th>  Pseudo R-squ.:     </th>  <td>0.2045</td> \n",
              "</tr>\n",
              "<tr>\n",
              "  <th>Time:</th>                <td>23:57:43</td>     <th>  Log-Likelihood:    </th> <td> -3347.0</td>\n",
              "</tr>\n",
              "<tr>\n",
              "  <th>converged:</th>             <td>True</td>       <th>  LL-Null:           </th> <td> -4207.6</td>\n",
              "</tr>\n",
              "<tr>\n",
              "  <th>Covariance Type:</th>     <td>nonrobust</td>    <th>  LLR p-value:       </th>  <td> 0.000</td> \n",
              "</tr>\n",
              "</table>\n",
              "<table class=\"simpletable\">\n",
              "<tr>\n",
              "          <td></td>             <th>coef</th>     <th>std err</th>      <th>z</th>      <th>P>|z|</th>  <th>[0.025</th>    <th>0.975]</th>  \n",
              "</tr>\n",
              "<tr>\n",
              "  <th>age</th>               <td>    0.6305</td> <td>    0.264</td> <td>    2.392</td> <td> 0.017</td> <td>    0.114</td> <td>    1.147</td>\n",
              "</tr>\n",
              "<tr>\n",
              "  <th>education</th>         <td>    0.6418</td> <td>    0.102</td> <td>    6.304</td> <td> 0.000</td> <td>    0.442</td> <td>    0.841</td>\n",
              "</tr>\n",
              "<tr>\n",
              "  <th>default</th>           <td>   -0.8395</td> <td>    0.548</td> <td>   -1.531</td> <td> 0.126</td> <td>   -1.914</td> <td>    0.235</td>\n",
              "</tr>\n",
              "<tr>\n",
              "  <th>balance</th>           <td>    2.4378</td> <td>    0.805</td> <td>    3.027</td> <td> 0.002</td> <td>    0.859</td> <td>    4.016</td>\n",
              "</tr>\n",
              "<tr>\n",
              "  <th>day_of_week</th>       <td>    0.1865</td> <td>    0.118</td> <td>    1.586</td> <td> 0.113</td> <td>   -0.044</td> <td>    0.417</td>\n",
              "</tr>\n",
              "<tr>\n",
              "  <th>month</th>             <td>    0.6338</td> <td>    0.111</td> <td>    5.712</td> <td> 0.000</td> <td>    0.416</td> <td>    0.851</td>\n",
              "</tr>\n",
              "<tr>\n",
              "  <th>campaign</th>          <td>   -2.2176</td> <td>    0.357</td> <td>   -6.206</td> <td> 0.000</td> <td>   -2.918</td> <td>   -1.517</td>\n",
              "</tr>\n",
              "<tr>\n",
              "  <th>pdays</th>             <td>    0.0728</td> <td>    0.258</td> <td>    0.282</td> <td> 0.778</td> <td>   -0.433</td> <td>    0.578</td>\n",
              "</tr>\n",
              "<tr>\n",
              "  <th>previous</th>          <td>    3.4693</td> <td>    1.868</td> <td>    1.857</td> <td> 0.063</td> <td>   -0.192</td> <td>    7.130</td>\n",
              "</tr>\n",
              "<tr>\n",
              "  <th>retirement_status</th> <td>    0.6481</td> <td>    0.148</td> <td>    4.383</td> <td> 0.000</td> <td>    0.358</td> <td>    0.938</td>\n",
              "</tr>\n",
              "<tr>\n",
              "  <th>marital_divorced</th>  <td>   -0.1909</td> <td>    0.106</td> <td>   -1.796</td> <td> 0.072</td> <td>   -0.399</td> <td>    0.017</td>\n",
              "</tr>\n",
              "<tr>\n",
              "  <th>marital_single</th>    <td>    0.2702</td> <td>    0.077</td> <td>    3.513</td> <td> 0.000</td> <td>    0.119</td> <td>    0.421</td>\n",
              "</tr>\n",
              "<tr>\n",
              "  <th>contact_cellular</th>  <td>   -2.3405</td> <td>    0.237</td> <td>   -9.867</td> <td> 0.000</td> <td>   -2.805</td> <td>   -1.876</td>\n",
              "</tr>\n",
              "<tr>\n",
              "  <th>contact_telephone</th> <td>   -2.5333</td> <td>    0.271</td> <td>   -9.354</td> <td> 0.000</td> <td>   -3.064</td> <td>   -2.002</td>\n",
              "</tr>\n",
              "<tr>\n",
              "  <th>poutcome_other</th>    <td>    0.4049</td> <td>    0.081</td> <td>    5.019</td> <td> 0.000</td> <td>    0.247</td> <td>    0.563</td>\n",
              "</tr>\n",
              "<tr>\n",
              "  <th>poutcome_success</th>  <td>    2.4245</td> <td>    0.075</td> <td>   32.282</td> <td> 0.000</td> <td>    2.277</td> <td>    2.572</td>\n",
              "</tr>\n",
              "<tr>\n",
              "  <th>employment-status</th> <td>   -0.7008</td> <td>    0.170</td> <td>   -4.117</td> <td> 0.000</td> <td>   -1.034</td> <td>   -0.367</td>\n",
              "</tr>\n",
              "</table>"
            ],
            "text/latex": "\\begin{center}\n\\begin{tabular}{lclc}\n\\toprule\n\\textbf{Dep. Variable:}     &    conversion    & \\textbf{  No. Observations:  } &     7842    \\\\\n\\textbf{Model:}             &      Logit       & \\textbf{  Df Residuals:      } &     7825    \\\\\n\\textbf{Method:}            &       MLE        & \\textbf{  Df Model:          } &       16    \\\\\n\\textbf{Date:}              & Fri, 05 Jan 2024 & \\textbf{  Pseudo R-squ.:     } &   0.2045    \\\\\n\\textbf{Time:}              &     23:57:43     & \\textbf{  Log-Likelihood:    } &   -3347.0   \\\\\n\\textbf{converged:}         &       True       & \\textbf{  LL-Null:           } &   -4207.6   \\\\\n\\textbf{Covariance Type:}   &    nonrobust     & \\textbf{  LLR p-value:       } &    0.000    \\\\\n\\bottomrule\n\\end{tabular}\n\\begin{tabular}{lcccccc}\n                            & \\textbf{coef} & \\textbf{std err} & \\textbf{z} & \\textbf{P$> |$z$|$} & \\textbf{[0.025} & \\textbf{0.975]}  \\\\\n\\midrule\n\\textbf{age}                &       0.6305  &        0.264     &     2.392  &         0.017        &        0.114    &        1.147     \\\\\n\\textbf{education}          &       0.6418  &        0.102     &     6.304  &         0.000        &        0.442    &        0.841     \\\\\n\\textbf{default}            &      -0.8395  &        0.548     &    -1.531  &         0.126        &       -1.914    &        0.235     \\\\\n\\textbf{balance}            &       2.4378  &        0.805     &     3.027  &         0.002        &        0.859    &        4.016     \\\\\n\\textbf{day\\_of\\_week}      &       0.1865  &        0.118     &     1.586  &         0.113        &       -0.044    &        0.417     \\\\\n\\textbf{month}              &       0.6338  &        0.111     &     5.712  &         0.000        &        0.416    &        0.851     \\\\\n\\textbf{campaign}           &      -2.2176  &        0.357     &    -6.206  &         0.000        &       -2.918    &       -1.517     \\\\\n\\textbf{pdays}              &       0.0728  &        0.258     &     0.282  &         0.778        &       -0.433    &        0.578     \\\\\n\\textbf{previous}           &       3.4693  &        1.868     &     1.857  &         0.063        &       -0.192    &        7.130     \\\\\n\\textbf{retirement\\_status} &       0.6481  &        0.148     &     4.383  &         0.000        &        0.358    &        0.938     \\\\\n\\textbf{marital\\_divorced}  &      -0.1909  &        0.106     &    -1.796  &         0.072        &       -0.399    &        0.017     \\\\\n\\textbf{marital\\_single}    &       0.2702  &        0.077     &     3.513  &         0.000        &        0.119    &        0.421     \\\\\n\\textbf{contact\\_cellular}  &      -2.3405  &        0.237     &    -9.867  &         0.000        &       -2.805    &       -1.876     \\\\\n\\textbf{contact\\_telephone} &      -2.5333  &        0.271     &    -9.354  &         0.000        &       -3.064    &       -2.002     \\\\\n\\textbf{poutcome\\_other}    &       0.4049  &        0.081     &     5.019  &         0.000        &        0.247    &        0.563     \\\\\n\\textbf{poutcome\\_success}  &       2.4245  &        0.075     &    32.282  &         0.000        &        2.277    &        2.572     \\\\\n\\textbf{employment-status}  &      -0.7008  &        0.170     &    -4.117  &         0.000        &       -1.034    &       -0.367     \\\\\n\\bottomrule\n\\end{tabular}\n%\\caption{Logit Regression Results}\n\\end{center}"
          },
          "metadata": {},
          "execution_count": 18
        }
      ]
    },
    {
      "cell_type": "markdown",
      "source": [
        "The R-squared value has decreased to 0.2045, but based on the summary of the logistic regression, each row contains valid values."
      ],
      "metadata": {
        "id": "QjYtpEru7BlZ"
      }
    },
    {
      "cell_type": "markdown",
      "source": [
        "The columns contributing to the inference are the ones below."
      ],
      "metadata": {
        "id": "JkmrlUsF_gsD"
      }
    },
    {
      "cell_type": "markdown",
      "source": [
        "| Column      | Type    | Description                                           |\n",
        "|-------------|---------|-------------------------------------------------------|\n",
        "| age         | Integer | Age                                                   |\n",
        "| marital     | Categorical | Marital Status                                        |\n",
        "| education   | Categorical | Education Level                                       |\n",
        "| balance     | Integer | Average yearly balance (euros)                        |\n",
        "| contact     | Categorical | Contact communication type                           |\n",
        "| month       | Date    | Last contact month of the year                        |\n",
        "| campaign    | Integer | Number of contacts performed during this campaign for this client |\n",
        "| poutcome    | Categorical | Outcome of Previous Campaign                          |\n",
        "| employment-status    | Integer | if they are employed 1, if not 0                           |\n",
        "| retirement_status    | Integer | if they are retired 1, if not 0                          |\n",
        "\n"
      ],
      "metadata": {
        "id": "ot46zbQW_dwo"
      }
    },
    {
      "cell_type": "markdown",
      "source": [
        "#### **Results from the above analysis**\n",
        "\n",
        "- Individuals with higher levels of education show a stronger inclination towards investment banking and are more likely to purchase our product.\n",
        "- Jobless or retired individuals tend to consider investing for the future, making them a valuable target demographic.\n",
        "- Singles display a higher interest in investing compared to divorced individuals.\n",
        "- Respondents from previous marketing efforts are likely to engage in future campaigns.\n"
      ],
      "metadata": {
        "id": "h5lZmUUt8ZGj"
      }
    },
    {
      "cell_type": "markdown",
      "source": [
        "When we call people more often (\"campaign\"), the chance of them saying yes goes down. This could be because constant calling might annoy them.\n",
        "We want to find the sweet spot where we call just enough times. If we call too little, we might miss a potential deal, but if we call too much, we risk annoying them. We need to figure out the right number."
      ],
      "metadata": {
        "id": "8rrMXLG7JYBn"
      }
    },
    {
      "cell_type": "code",
      "source": [
        "combined_data = pd.concat([y, X], axis=1)\n",
        "converted_data = combined_data.loc[combined_data['conversion'] == 1]\n",
        "plt.figure(figsize=(5,5))\n",
        "plt.hist(converted_data['campaign'], bins=30, alpha=0.3, range=(0,15), density=True, cumulative=True)\n",
        "plt.title('the number of contacts among converted and non-converted customers')\n",
        "plt.xlabel('number of contacts')\n",
        "plt.ylabel('ratio of customers per bin')"
      ],
      "metadata": {
        "colab": {
          "base_uri": "https://localhost:8080/",
          "height": 505
        },
        "id": "QNN995gHGUIx",
        "outputId": "fa3f1897-714c-493a-e326-3a949bee13ae"
      },
      "execution_count": null,
      "outputs": [
        {
          "output_type": "execute_result",
          "data": {
            "text/plain": [
              "Text(0, 0.5, 'ratio of customers per bin')"
            ]
          },
          "metadata": {},
          "execution_count": 19
        },
        {
          "output_type": "display_data",
          "data": {
            "text/plain": [
              "<Figure size 500x500 with 1 Axes>"
            ],
            "image/png": "[encoded data removed]"
          },
          "metadata": {}
        }
      ]
    },
    {
      "cell_type": "markdown",
      "source": [
        "Looking at the graph, it seems that the maximum number of phone calls should be around 4 times. This is the point where we need to stop calling."
      ],
      "metadata": {
        "id": "iNTG4WsVMdo2"
      }
    },
    {
      "cell_type": "markdown",
      "source": [
        "\n",
        "\n",
        "---\n",
        "\n"
      ],
      "metadata": {
        "id": "0QxacnD6ZG5L"
      }
    },
    {
      "cell_type": "markdown",
      "source": [
        "### **2. Predicting the Likelihood of Marketing Engagement (Machine Learning Modeling):**"
      ],
      "metadata": {
        "id": "Fe006FeCeM2p"
      }
    },
    {
      "cell_type": "markdown",
      "source": [
        "In Section 1, we identified the types of individuals we should target for direct marketing. However, we still lack specific details on whom to approach and the likelihood of them answering our phone calls. In Section 2, I employ machine learning models to predict the probability of a positive response based on their characteristics."
      ],
      "metadata": {
        "id": "aS2No5_GSC7-"
      }
    },
    {
      "cell_type": "markdown",
      "source": [
        "Firstly, I create new features and apply five different models to observe the results."
      ],
      "metadata": {
        "id": "jMFPKhoaSoBs"
      }
    },
    {
      "cell_type": "code",
      "source": [
        "one_hot_encoded_data_dummy = one_hot_encoded_data.copy()\n",
        "X_train, X_test, y_train, y_test = train_test_split(\n",
        "  one_hot_encoded_data,y , random_state=104,test_size=0.25, shuffle=True)"
      ],
      "metadata": {
        "id": "nHw_LaMROour"
      },
      "execution_count": null,
      "outputs": []
    },
    {
      "cell_type": "code",
      "source": [
        "X_train.head()"
      ],
      "metadata": {
        "colab": {
          "base_uri": "https://localhost:8080/",
          "height": 244
        },
        "id": "zh8fCdcecPiS",
        "outputId": "43c1d5e0-872c-4a8c-9104-2d99f936bdb4"
      },
      "execution_count": null,
      "outputs": [
        {
          "output_type": "execute_result",
          "data": {
            "text/plain": [
              "           age  education  default   balance  day_of_week     month  campaign  \\\n",
              "1110  0.183099        0.5      0.0  0.026334     0.933333  0.000000  0.066667   \n",
              "5393  0.126761        1.0      0.0  0.104407     0.133333  0.636364  0.066667   \n",
              "3476  0.183099        0.5      0.0  0.022771     0.233333  0.363636  0.066667   \n",
              "6870  0.591549        0.0      0.0  0.024865     0.833333  0.272727  0.266667   \n",
              "5918  0.309859        0.5      0.0  0.049947     0.500000  0.818182  0.000000   \n",
              "\n",
              "         pdays  previous  retirement_status  marital_divorced  marital_single  \\\n",
              "1110  0.182759  0.003650                0.0               0.0             1.0   \n",
              "5393  0.078161  0.091241                0.0               0.0             1.0   \n",
              "3476  0.194253  0.000000                0.0               0.0             0.0   \n",
              "6870  0.206897  0.014599                0.0               0.0             0.0   \n",
              "5918  0.167816  0.014599                0.0               0.0             0.0   \n",
              "\n",
              "      contact_cellular  contact_telephone  poutcome_other  poutcome_success  \\\n",
              "1110               1.0                0.0             1.0               0.0   \n",
              "5393               1.0                0.0             1.0               0.0   \n",
              "3476               1.0                0.0             0.0               0.0   \n",
              "6870               1.0                0.0             0.0               0.0   \n",
              "5918               1.0                0.0             0.0               0.0   \n",
              "\n",
              "      employment-status  \n",
              "1110                1.0  \n",
              "5393                1.0  \n",
              "3476                1.0  \n",
              "6870                1.0  \n",
              "5918                1.0  "
            ],
            "text/html": [
              "\n",
              "  <div id=\"df-68030b0f-eaca-40e1-a7ba-7b0ff94eb6ef\" class=\"colab-df-container\">\n",
              "    <div>\n",
              "<style scoped>\n",
              "    .dataframe tbody tr th:only-of-type {\n",
              "        vertical-align: middle;\n",
              "    }\n",
              "\n",
              "    .dataframe tbody tr th {\n",
              "        vertical-align: top;\n",
              "    }\n",
              "\n",
              "    .dataframe thead th {\n",
              "        text-align: right;\n",
              "    }\n",
              "</style>\n",
              "<table border=\"1\" class=\"dataframe\">\n",
              "  <thead>\n",
              "    <tr style=\"text-align: right;\">\n",
              "      <th></th>\n",
              "      <th>age</th>\n",
              "      <th>education</th>\n",
              "      <th>default</th>\n",
              "      <th>balance</th>\n",
              "      <th>day_of_week</th>\n",
              "      <th>month</th>\n",
              "      <th>campaign</th>\n",
              "      <th>pdays</th>\n",
              "      <th>previous</th>\n",
              "      <th>retirement_status</th>\n",
              "      <th>marital_divorced</th>\n",
              "      <th>marital_single</th>\n",
              "      <th>contact_cellular</th>\n",
              "      <th>contact_telephone</th>\n",
              "      <th>poutcome_other</th>\n",
              "      <th>poutcome_success</th>\n",
              "      <th>employment-status</th>\n",
              "    </tr>\n",
              "  </thead>\n",
              "  <tbody>\n",
              "    <tr>\n",
              "      <th>1110</th>\n",
              "      <td>0.183099</td>\n",
              "      <td>0.5</td>\n",
              "      <td>0.0</td>\n",
              "      <td>0.026334</td>\n",
              "      <td>0.933333</td>\n",
              "      <td>0.000000</td>\n",
              "      <td>0.066667</td>\n",
              "      <td>0.182759</td>\n",
              "      <td>0.003650</td>\n",
              "      <td>0.0</td>\n",
              "      <td>0.0</td>\n",
              "      <td>1.0</td>\n",
              "      <td>1.0</td>\n",
              "      <td>0.0</td>\n",
              "      <td>1.0</td>\n",
              "      <td>0.0</td>\n",
              "      <td>1.0</td>\n",
              "    </tr>\n",
              "    <tr>\n",
              "      <th>5393</th>\n",
              "      <td>0.126761</td>\n",
              "      <td>1.0</td>\n",
              "      <td>0.0</td>\n",
              "      <td>0.104407</td>\n",
              "      <td>0.133333</td>\n",
              "      <td>0.636364</td>\n",
              "      <td>0.066667</td>\n",
              "      <td>0.078161</td>\n",
              "      <td>0.091241</td>\n",
              "      <td>0.0</td>\n",
              "      <td>0.0</td>\n",
              "      <td>1.0</td>\n",
              "      <td>1.0</td>\n",
              "      <td>0.0</td>\n",
              "      <td>1.0</td>\n",
              "      <td>0.0</td>\n",
              "      <td>1.0</td>\n",
              "    </tr>\n",
              "    <tr>\n",
              "      <th>3476</th>\n",
              "      <td>0.183099</td>\n",
              "      <td>0.5</td>\n",
              "      <td>0.0</td>\n",
              "      <td>0.022771</td>\n",
              "      <td>0.233333</td>\n",
              "      <td>0.363636</td>\n",
              "      <td>0.066667</td>\n",
              "      <td>0.194253</td>\n",
              "      <td>0.000000</td>\n",
              "      <td>0.0</td>\n",
              "      <td>0.0</td>\n",
              "      <td>0.0</td>\n",
              "      <td>1.0</td>\n",
              "      <td>0.0</td>\n",
              "      <td>0.0</td>\n",
              "      <td>0.0</td>\n",
              "      <td>1.0</td>\n",
              "    </tr>\n",
              "    <tr>\n",
              "      <th>6870</th>\n",
              "      <td>0.591549</td>\n",
              "      <td>0.0</td>\n",
              "      <td>0.0</td>\n",
              "      <td>0.024865</td>\n",
              "      <td>0.833333</td>\n",
              "      <td>0.272727</td>\n",
              "      <td>0.266667</td>\n",
              "      <td>0.206897</td>\n",
              "      <td>0.014599</td>\n",
              "      <td>0.0</td>\n",
              "      <td>0.0</td>\n",
              "      <td>0.0</td>\n",
              "      <td>1.0</td>\n",
              "      <td>0.0</td>\n",
              "      <td>0.0</td>\n",
              "      <td>0.0</td>\n",
              "      <td>1.0</td>\n",
              "    </tr>\n",
              "    <tr>\n",
              "      <th>5918</th>\n",
              "      <td>0.309859</td>\n",
              "      <td>0.5</td>\n",
              "      <td>0.0</td>\n",
              "      <td>0.049947</td>\n",
              "      <td>0.500000</td>\n",
              "      <td>0.818182</td>\n",
              "      <td>0.000000</td>\n",
              "      <td>0.167816</td>\n",
              "      <td>0.014599</td>\n",
              "      <td>0.0</td>\n",
              "      <td>0.0</td>\n",
              "      <td>0.0</td>\n",
              "      <td>1.0</td>\n",
              "      <td>0.0</td>\n",
              "      <td>0.0</td>\n",
              "      <td>0.0</td>\n",
              "      <td>1.0</td>\n",
              "    </tr>\n",
              "  </tbody>\n",
              "</table>\n",
              "</div>\n",
              "    <div class=\"colab-df-buttons\">\n",
              "\n",
              "  <div class=\"colab-df-container\">\n",
              "    <button class=\"colab-df-convert\" onclick=\"convertToInteractive('df-68030b0f-eaca-40e1-a7ba-7b0ff94eb6ef')\"\n",
              "            title=\"Convert this dataframe to an interactive table.\"\n",
              "            style=\"display:none;\">\n",
              "\n",
              "  <svg xmlns=\"http://www.w3.org/2000/svg\" height=\"24px\" viewBox=\"0 -960 960 960\">\n",
              "    <path d=\"M120-120v-720h720v720H120Zm60-500h600v-160H180v160Zm220 220h160v-160H400v160Zm0 220h160v-160H400v160ZM180-400h160v-160H180v160Zm440 0h160v-160H620v160ZM180-180h160v-160H180v160Zm440 0h160v-160H620v160Z\"/>\n",
              "  </svg>\n",
              "    </button>\n",
              "\n",
              "  <style>\n",
              "    .colab-df-container {\n",
              "      display:flex;\n",
              "      gap: 12px;\n",
              "    }\n",
              "\n",
              "    .colab-df-convert {\n",
              "      background-color: #E8F0FE;\n",
              "      border: none;\n",
              "      border-radius: 50%;\n",
              "      cursor: pointer;\n",
              "      display: none;\n",
              "      fill: #1967D2;\n",
              "      height: 32px;\n",
              "      padding: 0 0 0 0;\n",
              "      width: 32px;\n",
              "    }\n",
              "\n",
              "    .colab-df-convert:hover {\n",
              "      background-color: #E2EBFA;\n",
              "      box-shadow: 0px 1px 2px rgba(60, 64, 67, 0.3), 0px 1px 3px 1px rgba(60, 64, 67, 0.15);\n",
              "      fill: #174EA6;\n",
              "    }\n",
              "\n",
              "    .colab-df-buttons div {\n",
              "      margin-bottom: 4px;\n",
              "    }\n",
              "\n",
              "    [theme=dark] .colab-df-convert {\n",
              "      background-color: #3B4455;\n",
              "      fill: #D2E3FC;\n",
              "    }\n",
              "\n",
              "    [theme=dark] .colab-df-convert:hover {\n",
              "      background-color: #434B5C;\n",
              "      box-shadow: 0px 1px 3px 1px rgba(0, 0, 0, 0.15);\n",
              "      filter: drop-shadow(0px 1px 2px rgba(0, 0, 0, 0.3));\n",
              "      fill: #FFFFFF;\n",
              "    }\n",
              "  </style>\n",
              "\n",
              "    <script>\n",
              "      const buttonEl =\n",
              "        document.querySelector('#df-68030b0f-eaca-40e1-a7ba-7b0ff94eb6ef button.colab-df-convert');\n",
              "      buttonEl.style.display =\n",
              "        google.colab.kernel.accessAllowed ? 'block' : 'none';\n",
              "\n",
              "      async function convertToInteractive(key) {\n",
              "        const element = document.querySelector('#df-68030b0f-eaca-40e1-a7ba-7b0ff94eb6ef');\n",
              "        const dataTable =\n",
              "          await google.colab.kernel.invokeFunction('convertToInteractive',\n",
              "                                                    [key], {});\n",
              "        if (!dataTable) return;\n",
              "\n",
              "        const docLinkHtml = 'Like what you see? Visit the ' +\n",
              "          '<a target=\"_blank\" href=https://colab.research.google.com/notebooks/data_table.ipynb>data table notebook</a>'\n",
              "          + ' to learn more about interactive tables.';\n",
              "        element.innerHTML = '';\n",
              "        dataTable['output_type'] = 'display_data';\n",
              "        await google.colab.output.renderOutput(dataTable, element);\n",
              "        const docLink = document.createElement('div');\n",
              "        docLink.innerHTML = docLinkHtml;\n",
              "        element.appendChild(docLink);\n",
              "      }\n",
              "    </script>\n",
              "  </div>\n",
              "\n",
              "\n",
              "<div id=\"df-f2c73875-336f-4e7c-9a1f-2eb705c1210b\">\n",
              "  <button class=\"colab-df-quickchart\" onclick=\"quickchart('df-f2c73875-336f-4e7c-9a1f-2eb705c1210b')\"\n",
              "            title=\"Suggest charts\"\n",
              "            style=\"display:none;\">\n",
              "\n",
              "<svg xmlns=\"http://www.w3.org/2000/svg\" height=\"24px\"viewBox=\"0 0 24 24\"\n",
              "     width=\"24px\">\n",
              "    <g>\n",
              "        <path d=\"M19 3H5c-1.1 0-2 .9-2 2v14c0 1.1.9 2 2 2h14c1.1 0 2-.9 2-2V5c0-1.1-.9-2-2-2zM9 17H7v-7h2v7zm4 0h-2V7h2v10zm4 0h-2v-4h2v4z\"/>\n",
              "    </g>\n",
              "</svg>\n",
              "  </button>\n",
              "\n",
              "<style>\n",
              "  .colab-df-quickchart {\n",
              "      --bg-color: #E8F0FE;\n",
              "      --fill-color: #1967D2;\n",
              "      --hover-bg-color: #E2EBFA;\n",
              "      --hover-fill-color: #174EA6;\n",
              "      --disabled-fill-color: #AAA;\n",
              "      --disabled-bg-color: #DDD;\n",
              "  }\n",
              "\n",
              "  [theme=dark] .colab-df-quickchart {\n",
              "      --bg-color: #3B4455;\n",
              "      --fill-color: #D2E3FC;\n",
              "      --hover-bg-color: #434B5C;\n",
              "      --hover-fill-color: #FFFFFF;\n",
              "      --disabled-bg-color: #3B4455;\n",
              "      --disabled-fill-color: #666;\n",
              "  }\n",
              "\n",
              "  .colab-df-quickchart {\n",
              "    background-color: var(--bg-color);\n",
              "    border: none;\n",
              "    border-radius: 50%;\n",
              "    cursor: pointer;\n",
              "    display: none;\n",
              "    fill: var(--fill-color);\n",
              "    height: 32px;\n",
              "    padding: 0;\n",
              "    width: 32px;\n",
              "  }\n",
              "\n",
              "  .colab-df-quickchart:hover {\n",
              "    background-color: var(--hover-bg-color);\n",
              "    box-shadow: 0 1px 2px rgba(60, 64, 67, 0.3), 0 1px 3px 1px rgba(60, 64, 67, 0.15);\n",
              "    fill: var(--button-hover-fill-color);\n",
              "  }\n",
              "\n",
              "  .colab-df-quickchart-complete:disabled,\n",
              "  .colab-df-quickchart-complete:disabled:hover {\n",
              "    background-color: var(--disabled-bg-color);\n",
              "    fill: var(--disabled-fill-color);\n",
              "    box-shadow: none;\n",
              "  }\n",
              "\n",
              "  .colab-df-spinner {\n",
              "    border: 2px solid var(--fill-color);\n",
              "    border-color: transparent;\n",
              "    border-bottom-color: var(--fill-color);\n",
              "    animation:\n",
              "      spin 1s steps(1) infinite;\n",
              "  }\n",
              "\n",
              "  @keyframes spin {\n",
              "    0% {\n",
              "      border-color: transparent;\n",
              "      border-bottom-color: var(--fill-color);\n",
              "      border-left-color: var(--fill-color);\n",
              "    }\n",
              "    20% {\n",
              "      border-color: transparent;\n",
              "      border-left-color: var(--fill-color);\n",
              "      border-top-color: var(--fill-color);\n",
              "    }\n",
              "    30% {\n",
              "      border-color: transparent;\n",
              "      border-left-color: var(--fill-color);\n",
              "      border-top-color: var(--fill-color);\n",
              "      border-right-color: var(--fill-color);\n",
              "    }\n",
              "    40% {\n",
              "      border-color: transparent;\n",
              "      border-right-color: var(--fill-color);\n",
              "      border-top-color: var(--fill-color);\n",
              "    }\n",
              "    60% {\n",
              "      border-color: transparent;\n",
              "      border-right-color: var(--fill-color);\n",
              "    }\n",
              "    80% {\n",
              "      border-color: transparent;\n",
              "      border-right-color: var(--fill-color);\n",
              "      border-bottom-color: var(--fill-color);\n",
              "    }\n",
              "    90% {\n",
              "      border-color: transparent;\n",
              "      border-bottom-color: var(--fill-color);\n",
              "    }\n",
              "  }\n",
              "</style>\n",
              "\n",
              "  <script>\n",
              "    async function quickchart(key) {\n",
              "      const quickchartButtonEl =\n",
              "        document.querySelector('#' + key + ' button');\n",
              "      quickchartButtonEl.disabled = true;  // To prevent multiple clicks.\n",
              "      quickchartButtonEl.classList.add('colab-df-spinner');\n",
              "      try {\n",
              "        const charts = await google.colab.kernel.invokeFunction(\n",
              "            'suggestCharts', [key], {});\n",
              "      } catch (error) {\n",
              "        console.error('Error during call to suggestCharts:', error);\n",
              "      }\n",
              "      quickchartButtonEl.classList.remove('colab-df-spinner');\n",
              "      quickchartButtonEl.classList.add('colab-df-quickchart-complete');\n",
              "    }\n",
              "    (() => {\n",
              "      let quickchartButtonEl =\n",
              "        document.querySelector('#df-f2c73875-336f-4e7c-9a1f-2eb705c1210b button');\n",
              "      quickchartButtonEl.style.display =\n",
              "        google.colab.kernel.accessAllowed ? 'block' : 'none';\n",
              "    })();\n",
              "  </script>\n",
              "</div>\n",
              "\n",
              "    </div>\n",
              "  </div>\n"
            ]
          },
          "metadata": {},
          "execution_count": 21
        }
      ]
    },
    {
      "cell_type": "markdown",
      "source": [
        "#### **Random Forest Model**"
      ],
      "metadata": {
        "id": "6YR4gb_OfQ6c"
      }
    },
    {
      "cell_type": "code",
      "source": [
        "model = RandomForestClassifier(n_estimators=100, random_state=0).fit(X_train, y_train)\n",
        "importances = model.feature_importances_\n",
        "indices = np.argsort(importances)\n",
        "features = X_train.columns\n",
        "plt.figure(1)\n",
        "plt.title('Feature Importances')\n",
        "plt.barh(range(len(indices)), importances[indices], color='b', align='center')\n",
        "plt.yticks(range(len(indices)), features[indices])\n",
        "plt.xlabel('Relative Importance')"
      ],
      "metadata": {
        "colab": {
          "base_uri": "https://localhost:8080/",
          "height": 490
        },
        "id": "cQd_uzE8dn-e",
        "outputId": "3eced346-585f-42d2-97c6-4b44d6de2944"
      },
      "execution_count": null,
      "outputs": [
        {
          "output_type": "execute_result",
          "data": {
            "text/plain": [
              "Text(0.5, 0, 'Relative Importance')"
            ]
          },
          "metadata": {},
          "execution_count": 22
        },
        {
          "output_type": "display_data",
          "data": {
            "text/plain": [
              "<Figure size 640x480 with 1 Axes>"
            ],
            "image/png": "[encoded data removed]"
          },
          "metadata": {}
        }
      ]
    },
    {
      "cell_type": "code",
      "source": [
        "y_pred = model.predict(X_test)\n",
        "print(classification_report(y_test, y_pred))"
      ],
      "metadata": {
        "colab": {
          "base_uri": "https://localhost:8080/"
        },
        "id": "H5uqnnYAeOil",
        "outputId": "13af28a6-7732-4c5a-cefd-012245117456"
      },
      "execution_count": null,
      "outputs": [
        {
          "output_type": "stream",
          "name": "stdout",
          "text": [
            "              precision    recall  f1-score   support\n",
            "\n",
            "           0       0.85      0.93      0.89      1493\n",
            "           1       0.68      0.48      0.56       468\n",
            "\n",
            "    accuracy                           0.82      1961\n",
            "   macro avg       0.76      0.71      0.73      1961\n",
            "weighted avg       0.81      0.82      0.81      1961\n",
            "\n"
          ]
        }
      ]
    },
    {
      "cell_type": "markdown",
      "source": [
        "From the feature importances derived from the random forest model, it seems that pdays, poutcome, balance, age, day_of_week, month, previous, campaign, and education play crucial roles in determining the engagement rate. This slightly deviates from my earlier regression analysis results."
      ],
      "metadata": {
        "id": "7fp3FZkyHmzH"
      }
    },
    {
      "cell_type": "markdown",
      "source": [
        "#### **Support Vector Model**"
      ],
      "metadata": {
        "id": "UDRh1o6Mfciy"
      }
    },
    {
      "cell_type": "code",
      "source": [
        "svc = SVC(random_state=42)\n",
        "model2 = svc.fit(X_train, y_train)\n",
        "y_pred2 = model2.predict(X_test)\n",
        "print(classification_report(y_test, y_pred2))"
      ],
      "metadata": {
        "colab": {
          "base_uri": "https://localhost:8080/"
        },
        "id": "3HAFQzQdgP1Z",
        "outputId": "d88b8b5c-3817-4db8-8f1c-c593fdd34d56"
      },
      "execution_count": null,
      "outputs": [
        {
          "output_type": "stream",
          "name": "stdout",
          "text": [
            "              precision    recall  f1-score   support\n",
            "\n",
            "           0       0.86      0.91      0.88      1493\n",
            "           1       0.65      0.53      0.58       468\n",
            "\n",
            "    accuracy                           0.82      1961\n",
            "   macro avg       0.75      0.72      0.73      1961\n",
            "weighted avg       0.81      0.82      0.81      1961\n",
            "\n"
          ]
        }
      ]
    },
    {
      "cell_type": "markdown",
      "source": [
        "#### **Logistic Regression model**"
      ],
      "metadata": {
        "id": "tv3BaKqRgqlS"
      }
    },
    {
      "cell_type": "code",
      "source": [
        "model3 = LogisticRegression(random_state=0, solver='newton-cholesky').fit(X_train, y_train)\n",
        "y_pred3 = model3.predict(X_test)\n",
        "print(classification_report(y_test, y_pred3))"
      ],
      "metadata": {
        "colab": {
          "base_uri": "https://localhost:8080/"
        },
        "id": "DXMWcYZCguec",
        "outputId": "9476cdb8-2da1-496f-a0bf-bdaa3cc00d8d"
      },
      "execution_count": null,
      "outputs": [
        {
          "output_type": "stream",
          "name": "stdout",
          "text": [
            "              precision    recall  f1-score   support\n",
            "\n",
            "           0       0.86      0.92      0.89      1493\n",
            "           1       0.66      0.51      0.57       468\n",
            "\n",
            "    accuracy                           0.82      1961\n",
            "   macro avg       0.76      0.71      0.73      1961\n",
            "weighted avg       0.81      0.82      0.81      1961\n",
            "\n"
          ]
        }
      ]
    },
    {
      "cell_type": "markdown",
      "source": [
        "#### **KNeighbors model**"
      ],
      "metadata": {
        "id": "P2EJDOwoTPDM"
      }
    },
    {
      "cell_type": "code",
      "source": [
        "model4 = KNeighborsClassifier(n_neighbors=5).fit(X_train, y_train)\n",
        "y_pred4 = model4.predict(X_test)\n",
        "print(classification_report(y_test, y_pred4))"
      ],
      "metadata": {
        "colab": {
          "base_uri": "https://localhost:8080/"
        },
        "id": "SYo-tBR8TSVD",
        "outputId": "a7443ee5-d1a2-4f83-dea9-e2cf614af5c1"
      },
      "execution_count": null,
      "outputs": [
        {
          "output_type": "stream",
          "name": "stdout",
          "text": [
            "              precision    recall  f1-score   support\n",
            "\n",
            "           0       0.84      0.92      0.88      1493\n",
            "           1       0.62      0.43      0.51       468\n",
            "\n",
            "    accuracy                           0.80      1961\n",
            "   macro avg       0.73      0.68      0.69      1961\n",
            "weighted avg       0.79      0.80      0.79      1961\n",
            "\n"
          ]
        }
      ]
    },
    {
      "cell_type": "markdown",
      "source": [
        "#### **LightGBM Classifier**"
      ],
      "metadata": {
        "id": "dnqLNYz5oUs-"
      }
    },
    {
      "cell_type": "code",
      "source": [
        "model5 = lgb.LGBMClassifier(random_state=42)\n",
        "model5.fit(X_train, y_train)\n",
        "y_pred5 = model5.predict(X_test)\n",
        "print(classification_report(y_test, y_pred5))"
      ],
      "metadata": {
        "colab": {
          "base_uri": "https://localhost:8080/"
        },
        "id": "Gcoz-hQfoaos",
        "outputId": "236f2cf5-5ec0-4697-9022-78e1c37a3e61"
      },
      "execution_count": null,
      "outputs": [
        {
          "output_type": "stream",
          "name": "stdout",
          "text": [
            "[LightGBM] [Info] Number of positive: 1318, number of negative: 4563\n",
            "[LightGBM] [Info] Auto-choosing row-wise multi-threading, the overhead of testing was 0.001274 seconds.\n",
            "You can set `force_row_wise=true` to remove the overhead.\n",
            "And if memory is not enough, you can set `force_col_wise=true`.\n",
            "[LightGBM] [Info] Total Bins 681\n",
            "[LightGBM] [Info] Number of data points in the train set: 5881, number of used features: 17\n",
            "[LightGBM] [Info] [binary:BoostFromScore]: pavg=0.224112 -> initscore=-1.241865\n",
            "[LightGBM] [Info] Start training from score -1.241865\n",
            "              precision    recall  f1-score   support\n",
            "\n",
            "           0       0.86      0.92      0.89      1493\n",
            "           1       0.66      0.51      0.58       468\n",
            "\n",
            "    accuracy                           0.82      1961\n",
            "   macro avg       0.76      0.72      0.73      1961\n",
            "weighted avg       0.81      0.82      0.81      1961\n",
            "\n"
          ]
        }
      ]
    },
    {
      "cell_type": "markdown",
      "source": [
        "#### **Compare these five models**"
      ],
      "metadata": {
        "id": "0oc8ZjizlG9r"
      }
    },
    {
      "cell_type": "code",
      "source": [
        "import matplotlib.pyplot as plt\n",
        "\n",
        "from sklearn.metrics import RocCurveDisplay\n",
        "\n",
        "fig, ax = plt.subplots()\n",
        "\n",
        "models = [\n",
        "    (\"Random Forest\", model),\n",
        "    (\"Support Vector\", model2),\n",
        "    (\"Logistic Regression\", model3),\n",
        "    (\"KNeighbors\", model4),\n",
        "    (\"LightGBM \", model5)\n",
        "]\n",
        "\n",
        "model_displays = {}\n",
        "for name, pipeline in models:\n",
        "    model_displays[name] = RocCurveDisplay.from_estimator(\n",
        "        pipeline, X_test, y_test, ax=ax, name=name\n",
        "    )\n",
        "_ = ax.set_title(\"ROC curve\")"
      ],
      "metadata": {
        "colab": {
          "base_uri": "https://localhost:8080/",
          "height": 472
        },
        "id": "7gIHq_K0a3pY",
        "outputId": "db0078e9-1bb4-4829-a4bf-882344adb6f9"
      },
      "execution_count": null,
      "outputs": [
        {
          "output_type": "display_data",
          "data": {
            "text/plain": [
              "<Figure size 640x480 with 1 Axes>"
            ],
            "image/png": "[encoded data removed]"
          },
          "metadata": {}
        }
      ]
    },
    {
      "cell_type": "markdown",
      "source": [
        "Using the Random Forest model, visualize confusion matrix."
      ],
      "metadata": {
        "id": "1FmGhSETzNpS"
      }
    },
    {
      "cell_type": "code",
      "source": [
        "cm = confusion_matrix(y_test, model.predict(X_test), labels=model.classes_)\n",
        "disp = ConfusionMatrixDisplay(confusion_matrix=cm,\n",
        "                               display_labels=model.classes_)\n",
        "disp.plot()\n",
        "plt.show()"
      ],
      "metadata": {
        "colab": {
          "base_uri": "https://localhost:8080/",
          "height": 449
        },
        "id": "xDQMETTOxRmW",
        "outputId": "994e2d09-9985-4a6c-8834-3df6eb8dc608"
      },
      "execution_count": null,
      "outputs": [
        {
          "output_type": "display_data",
          "data": {
            "text/plain": [
              "<Figure size 640x480 with 2 Axes>"
            ],
            "image/png": "[encoded data removed]"
          },
          "metadata": {}
        }
      ]
    },
    {
      "cell_type": "markdown",
      "source": [
        "#### **Metrics**"
      ],
      "metadata": {
        "id": "GUzm7ZkuITPD"
      }
    },
    {
      "cell_type": "markdown",
      "source": [
        "The Support Vector Machine model's F1-score matches the top-performing Random Forest and LightGBM models, but its AUC trails behind. This indicates that AUC may not be the best metric due to imbalanced data. Therefore, I've opted for F1-score in this section as it considers both precision and recall. We aim to minimize phone calls (measured by precision) and avoid missing potential customers (addressed by recall), making F1-score the suitable metric for our goals."
      ],
      "metadata": {
        "id": "iKeYSR_gzZF4"
      }
    },
    {
      "cell_type": "markdown",
      "source": [
        "#### **Five fold cross validation with f1 score**"
      ],
      "metadata": {
        "id": "C_g7koq7In4t"
      }
    },
    {
      "cell_type": "code",
      "source": [
        "def five_fold_cross_validation(clf, X, y, k=5):\n",
        "  skf = StratifiedKFold(n_splits=k, random_state=42, shuffle=True)\n",
        "  scores = []\n",
        "\n",
        "  for i, (train_index, test_index) in enumerate(skf.split(X, y)):\n",
        "    X_train = X.loc[train_index, :]\n",
        "    y_train = y.loc[train_index, :]\n",
        "    X_test = X.loc[test_index, :]\n",
        "    y_test = y.loc[test_index, :]\n",
        "    model = clf.fit(X_train, y_train)\n",
        "    scores.append(f1_score(y_test, model.predict(X_test)))\n",
        "\n",
        "  mean_score = np.mean(scores)\n",
        "  mean_score = mean_score.item()\n",
        "  print(f\"f1 score : {mean_score}\")\n",
        "  return mean_score"
      ],
      "metadata": {
        "id": "KvR4PB4mInV7"
      },
      "execution_count": null,
      "outputs": []
    },
    {
      "cell_type": "markdown",
      "source": [
        "#### **Combine predictors using stacking**"
      ],
      "metadata": {
        "id": "0nyzTMlSIVW8"
      }
    },
    {
      "cell_type": "markdown",
      "source": [
        "Let's combine the three best models together and see if the model's f1 score improves."
      ],
      "metadata": {
        "id": "26oK0qmC1QIG"
      }
    },
    {
      "cell_type": "code",
      "source": [
        "ensembled_clf = VotingClassifier(estimators = [\n",
        "    ('rf', RandomForestClassifier(n_estimators=100, random_state=0)),\n",
        "    ('lgb', lgb.LGBMClassifier(random_state=42, verbosity = -1)),\n",
        "    ('svc', make_pipeline(StandardScaler(), SVC(random_state=42))),\n",
        "], voting='hard')"
      ],
      "metadata": {
        "id": "1YD4_UdqI1Xo"
      },
      "execution_count": null,
      "outputs": []
    },
    {
      "cell_type": "code",
      "source": [
        "ensembled_clf"
      ],
      "metadata": {
        "colab": {
          "base_uri": "https://localhost:8080/",
          "height": 145
        },
        "id": "gBfvSVaGMUYr",
        "outputId": "c1bc6408-bbd5-46da-f861-16cd472eeb5b"
      },
      "execution_count": null,
      "outputs": [
        {
          "output_type": "execute_result",
          "data": {
            "text/plain": [
              "VotingClassifier(estimators=[('rf', RandomForestClassifier(random_state=0)),\n",
              "                             ('lgb',\n",
              "                              LGBMClassifier(random_state=42, verbosity=-1)),\n",
              "                             ('svc',\n",
              "                              Pipeline(steps=[('standardscaler',\n",
              "                                               StandardScaler()),\n",
              "                                              ('svc', SVC(random_state=42))]))])"
            ],
            "text/html": [
              "<style>#sk-container-id-2 {color: black;background-color: white;}#sk-container-id-2 pre{padding: 0;}#sk-container-id-2 div.sk-toggleable {background-color: white;}#sk-container-id-2 label.sk-toggleable__label {cursor: pointer;display: block;width: 100%;margin-bottom: 0;padding: 0.3em;box-sizing: border-box;text-align: center;}#sk-container-id-2 label.sk-toggleable__label-arrow:before {content: \"▸\";float: left;margin-right: 0.25em;color: #696969;}#sk-container-id-2 label.sk-toggleable__label-arrow:hover:before {color: black;}#sk-container-id-2 div.sk-estimator:hover label.sk-toggleable__label-arrow:before {color: black;}#sk-container-id-2 div.sk-toggleable__content {max-height: 0;max-width: 0;overflow: hidden;text-align: left;background-color: #f0f8ff;}#sk-container-id-2 div.sk-toggleable__content pre {margin: 0.2em;color: black;border-radius: 0.25em;background-color: #f0f8ff;}#sk-container-id-2 input.sk-toggleable__control:checked~div.sk-toggleable__content {max-height: 200px;max-width: 100%;overflow: auto;}#sk-container-id-2 input.sk-toggleable__control:checked~label.sk-toggleable__label-arrow:before {content: \"▾\";}#sk-container-id-2 div.sk-estimator input.sk-toggleable__control:checked~label.sk-toggleable__label {background-color: #d4ebff;}#sk-container-id-2 div.sk-label input.sk-toggleable__control:checked~label.sk-toggleable__label {background-color: #d4ebff;}#sk-container-id-2 input.sk-hidden--visually {border: 0;clip: rect(1px 1px 1px 1px);clip: rect(1px, 1px, 1px, 1px);height: 1px;margin: -1px;overflow: hidden;padding: 0;position: absolute;width: 1px;}#sk-container-id-2 div.sk-estimator {font-family: monospace;background-color: #f0f8ff;border: 1px dotted black;border-radius: 0.25em;box-sizing: border-box;margin-bottom: 0.5em;}#sk-container-id-2 div.sk-estimator:hover {background-color: #d4ebff;}#sk-container-id-2 div.sk-parallel-item::after {content: \"\";width: 100%;border-bottom: 1px solid gray;flex-grow: 1;}#sk-container-id-2 div.sk-label:hover label.sk-toggleable__label {background-color: #d4ebff;}#sk-container-id-2 div.sk-serial::before {content: \"\";position: absolute;border-left: 1px solid gray;box-sizing: border-box;top: 0;bottom: 0;left: 50%;z-index: 0;}#sk-container-id-2 div.sk-serial {display: flex;flex-direction: column;align-items: center;background-color: white;padding-right: 0.2em;padding-left: 0.2em;position: relative;}#sk-container-id-2 div.sk-item {position: relative;z-index: 1;}#sk-container-id-2 div.sk-parallel {display: flex;align-items: stretch;justify-content: center;background-color: white;position: relative;}#sk-container-id-2 div.sk-item::before, #sk-container-id-2 div.sk-parallel-item::before {content: \"\";position: absolute;border-left: 1px solid gray;box-sizing: border-box;top: 0;bottom: 0;left: 50%;z-index: -1;}#sk-container-id-2 div.sk-parallel-item {display: flex;flex-direction: column;z-index: 1;position: relative;background-color: white;}#sk-container-id-2 div.sk-parallel-item:first-child::after {align-self: flex-end;width: 50%;}#sk-container-id-2 div.sk-parallel-item:last-child::after {align-self: flex-start;width: 50%;}#sk-container-id-2 div.sk-parallel-item:only-child::after {width: 0;}#sk-container-id-2 div.sk-dashed-wrapped {border: 1px dashed gray;margin: 0 0.4em 0.5em 0.4em;box-sizing: border-box;padding-bottom: 0.4em;background-color: white;}#sk-container-id-2 div.sk-label label {font-family: monospace;font-weight: bold;display: inline-block;line-height: 1.2em;}#sk-container-id-2 div.sk-label-container {text-align: center;}#sk-container-id-2 div.sk-container {/* jupyter's `normalize.less` sets `[hidden] { display: none; }` but bootstrap.min.css set `[hidden] { display: none !important; }` so we also need the `!important` here to be able to override the default hidden behavior on the sphinx rendered scikit-learn.org. See: https://github.com/scikit-learn/scikit-learn/issues/21755 */display: inline-block !important;position: relative;}#sk-container-id-2 div.sk-text-repr-fallback {display: none;}</style><div id=\"sk-container-id-2\" class=\"sk-top-container\"><div class=\"sk-text-repr-fallback\"><pre>VotingClassifier(estimators=[(&#x27;rf&#x27;, RandomForestClassifier(random_state=0)),\n",
              "                             (&#x27;lgb&#x27;,\n",
              "                              LGBMClassifier(random_state=42, verbosity=-1)),\n",
              "                             (&#x27;svc&#x27;,\n",
              "                              Pipeline(steps=[(&#x27;standardscaler&#x27;,\n",
              "                                               StandardScaler()),\n",
              "                                              (&#x27;svc&#x27;, SVC(random_state=42))]))])</pre><b>In a Jupyter environment, please rerun this cell to show the HTML representation or trust the notebook. <br />On GitHub, the HTML representation is unable to render, please try loading this page with nbviewer.org.</b></div><div class=\"sk-container\" hidden><div class=\"sk-item sk-dashed-wrapped\"><div class=\"sk-label-container\"><div class=\"sk-label sk-toggleable\"><input class=\"sk-toggleable__control sk-hidden--visually\" id=\"sk-estimator-id-6\" type=\"checkbox\" ><label for=\"sk-estimator-id-6\" class=\"sk-toggleable__label sk-toggleable__label-arrow\">VotingClassifier</label><div class=\"sk-toggleable__content\"><pre>VotingClassifier(estimators=[(&#x27;rf&#x27;, RandomForestClassifier(random_state=0)),\n",
              "                             (&#x27;lgb&#x27;,\n",
              "                              LGBMClassifier(random_state=42, verbosity=-1)),\n",
              "                             (&#x27;svc&#x27;,\n",
              "                              Pipeline(steps=[(&#x27;standardscaler&#x27;,\n",
              "                                               StandardScaler()),\n",
              "                                              (&#x27;svc&#x27;, SVC(random_state=42))]))])</pre></div></div></div><div class=\"sk-parallel\"><div class=\"sk-parallel-item\"><div class=\"sk-item\"><div class=\"sk-label-container\"><div class=\"sk-label sk-toggleable\"><label>rf</label></div></div><div class=\"sk-serial\"><div class=\"sk-item\"><div class=\"sk-estimator sk-toggleable\"><input class=\"sk-toggleable__control sk-hidden--visually\" id=\"sk-estimator-id-7\" type=\"checkbox\" ><label for=\"sk-estimator-id-7\" class=\"sk-toggleable__label sk-toggleable__label-arrow\">RandomForestClassifier</label><div class=\"sk-toggleable__content\"><pre>RandomForestClassifier(random_state=0)</pre></div></div></div></div></div></div><div class=\"sk-parallel-item\"><div class=\"sk-item\"><div class=\"sk-label-container\"><div class=\"sk-label sk-toggleable\"><label>lgb</label></div></div><div class=\"sk-serial\"><div class=\"sk-item\"><div class=\"sk-estimator sk-toggleable\"><input class=\"sk-toggleable__control sk-hidden--visually\" id=\"sk-estimator-id-8\" type=\"checkbox\" ><label for=\"sk-estimator-id-8\" class=\"sk-toggleable__label sk-toggleable__label-arrow\">LGBMClassifier</label><div class=\"sk-toggleable__content\"><pre>LGBMClassifier(random_state=42, verbosity=-1)</pre></div></div></div></div></div></div><div class=\"sk-parallel-item\"><div class=\"sk-item\"><div class=\"sk-label-container\"><div class=\"sk-label sk-toggleable\"><label>svc</label></div></div><div class=\"sk-serial\"><div class=\"sk-item\"><div class=\"sk-serial\"><div class=\"sk-item\"><div class=\"sk-estimator sk-toggleable\"><input class=\"sk-toggleable__control sk-hidden--visually\" id=\"sk-estimator-id-9\" type=\"checkbox\" ><label for=\"sk-estimator-id-9\" class=\"sk-toggleable__label sk-toggleable__label-arrow\">StandardScaler</label><div class=\"sk-toggleable__content\"><pre>StandardScaler()</pre></div></div></div><div class=\"sk-item\"><div class=\"sk-estimator sk-toggleable\"><input class=\"sk-toggleable__control sk-hidden--visually\" id=\"sk-estimator-id-10\" type=\"checkbox\" ><label for=\"sk-estimator-id-10\" class=\"sk-toggleable__label sk-toggleable__label-arrow\">SVC</label><div class=\"sk-toggleable__content\"><pre>SVC(random_state=42)</pre></div></div></div></div></div></div></div></div></div></div></div></div>"
            ]
          },
          "metadata": {},
          "execution_count": 39
        }
      ]
    },
    {
      "cell_type": "code",
      "source": [
        "voting_stacked_result = five_fold_cross_validation(ensembled_clf, one_hot_encoded_data, y, 3)"
      ],
      "metadata": {
        "colab": {
          "base_uri": "https://localhost:8080/"
        },
        "id": "b2Mq9gTWdiAD",
        "outputId": "717be73a-851c-4b9f-a5da-ead498c05edd"
      },
      "execution_count": null,
      "outputs": [
        {
          "output_type": "stream",
          "name": "stdout",
          "text": [
            "f1 score : 0.5726133711591653\n"
          ]
        },
        {
          "output_type": "execute_result",
          "data": {
            "text/plain": [
              "0.5726133711591653"
            ]
          },
          "metadata": {},
          "execution_count": 41
        }
      ]
    },
    {
      "cell_type": "markdown",
      "source": [
        "#### **Compare stacked model with other models under the same condition**"
      ],
      "metadata": {
        "id": "q8dFm-EcIx-J"
      }
    },
    {
      "cell_type": "code",
      "source": [
        "clf = LogisticRegression(random_state=0, solver='newton-cholesky')\n",
        "five_fold_cross_validation(clf, one_hot_encoded_data, y)\n",
        "\n",
        "clf = RandomForestClassifier(n_estimators=100, random_state=0)\n",
        "five_fold_cross_validation(clf, one_hot_encoded_data, y)\n",
        "\n",
        "clf = SVC(random_state=42)\n",
        "five_fold_cross_validation(clf, one_hot_encoded_data, y)\n",
        "\n",
        "clf = KNeighborsClassifier(n_neighbors=5)\n",
        "five_fold_cross_validation(clf, one_hot_encoded_data, y)\n",
        "\n",
        "params = {\n",
        "        \"objective\": \"binary\",\n",
        "        \"metric\": \"binary_logloss\",\n",
        "        \"verbosity\": -1,\n",
        "        \"boosting_type\": \"gbdt\",\n",
        "        \"random_state\" : 42}\n",
        "\n",
        "clf = lgb.LGBMClassifier(**params)\n",
        "five_fold_cross_validation(clf, one_hot_encoded_data, y)"
      ],
      "metadata": {
        "colab": {
          "base_uri": "https://localhost:8080/"
        },
        "id": "NndbxwD_RO3m",
        "outputId": "3c884ade-44cc-4c87-a1e6-df989ee16acb"
      },
      "execution_count": null,
      "outputs": [
        {
          "output_type": "stream",
          "name": "stdout",
          "text": [
            "f1 score : 0.5570256000085088\n",
            "f1 score : 0.5617309903603421\n",
            "f1 score : 0.5709267942047336\n",
            "f1 score : 0.5146074683056893\n",
            "f1 score : 0.5803191932118228\n"
          ]
        },
        {
          "output_type": "execute_result",
          "data": {
            "text/plain": [
              "0.5803191932118228"
            ]
          },
          "metadata": {},
          "execution_count": 34
        }
      ]
    },
    {
      "cell_type": "markdown",
      "source": [
        "According to this result, it seems that the performance of the standalone models are higher than that of the stacked model."
      ],
      "metadata": {
        "id": "1dhBSZzOdQaD"
      }
    },
    {
      "cell_type": "markdown",
      "source": [
        "#### **Hyperparameter Tuning of lightGBM Classifier**\n",
        "**Objective:** Improve the performance of the lightGBM Classifier through hyperparameter tuning.\n",
        "\n",
        "**Algorithm:** Bayesian optimization(Optuna)"
      ],
      "metadata": {
        "id": "WkiZ8WnbJx7F"
      }
    },
    {
      "cell_type": "code",
      "source": [
        "def gbm_objective(trial):\n",
        "\n",
        "    params = {\n",
        "        \"objective\": \"binary\",\n",
        "        \"metric\": \"binary_logloss\",\n",
        "        \"verbosity\": -1,\n",
        "        \"boosting_type\": \"gbdt\",\n",
        "        \"lambda_l1\": trial.suggest_float(\"lambda_l1\", 1e-8, 10.0, log=True),\n",
        "        \"lambda_l2\": trial.suggest_float(\"lambda_l2\", 1e-8, 10.0, log=True),\n",
        "        \"num_leaves\": trial.suggest_int(\"num_leaves\", 2, 256),\n",
        "        \"feature_fraction\": trial.suggest_float(\"feature_fraction\", 0.4, 1.0),\n",
        "        \"bagging_fraction\": trial.suggest_float(\"bagging_fraction\", 0.4, 1.0),\n",
        "        \"bagging_freq\": trial.suggest_int(\"bagging_freq\", 1, 7),\n",
        "        \"min_child_samples\": trial.suggest_int(\"min_child_samples\", 5, 100),\n",
        "        \"random_state\" : 42\n",
        "    }\n",
        "\n",
        "    model = lgb.LGBMClassifier(\n",
        "        **params\n",
        "    )\n",
        "\n",
        "    result = five_fold_cross_validation(model, X_train, y_train, 3)\n",
        "\n",
        "    return result\n",
        "\n",
        "# Assuming you have a function five_fold_cross_validation defined\n",
        "\n",
        "X_train, X_eval, y_train, y_eval = train_test_split(\n",
        "    one_hot_encoded_data, y, random_state=104, test_size=0.20, shuffle=True\n",
        ")\n",
        "X_train = X_train.reset_index(drop=True)\n",
        "y_train = y_train.reset_index(drop=True)\n",
        "\n",
        "gbm_study = optuna.create_study(direction='maximize', sampler=RandomSampler(42))\n",
        "gbm_study.optimize(gbm_objective, n_trials=30)\n",
        "\n",
        "optuna.visualization.plot_optimization_history(gbm_study).show()\n",
        "\n",
        "best_gbm_params = gbm_study.best_params\n",
        "\n",
        "best_param_gbm = lgb.LGBMClassifier(\n",
        "    **best_gbm_params\n",
        ")\n",
        "\n",
        "best_param_gbm = best_param_gbm.fit(X_train, y_train)\n",
        "y_pred = best_param_gbm.predict(X_eval)\n",
        "gbm_f1 = f1_score(y_eval, y_pred)\n",
        "\n",
        "print(\"LightGBM Model F1 Score:\", gbm_f1)\n"
      ],
      "metadata": {
        "colab": {
          "base_uri": "https://localhost:8080/",
          "height": 1000
        },
        "id": "qgsArozF4FDq",
        "outputId": "77e61578-54dd-4fd8-9867-da79d403ce3a"
      },
      "execution_count": null,
      "outputs": [
        {
          "output_type": "stream",
          "name": "stderr",
          "text": [
            "[I 2024-01-05 23:58:34,498] A new study created in memory with name: no-name-f95f206c-abcf-41da-8c54-a4b44a678356\n",
            "[I 2024-01-05 23:58:35,309] Trial 0 finished with value: 0.5575863103276627 and parameters: {'lambda_l1': 2.348881295853308e-05, 'lambda_l2': 3.6010467344475403, 'num_leaves': 188, 'feature_fraction': 0.759195090518222, 'bagging_fraction': 0.4936111842654619, 'bagging_freq': 2, 'min_child_samples': 10}. Best is trial 0 with value: 0.5575863103276627.\n"
          ]
        },
        {
          "output_type": "stream",
          "name": "stdout",
          "text": [
            "f1 score : 0.5575863103276627\n"
          ]
        },
        {
          "output_type": "stream",
          "name": "stderr",
          "text": [
            "[I 2024-01-05 23:58:36,092] Trial 1 finished with value: 0.5466843299427366 and parameters: {'lambda_l1': 0.6245760287469893, 'lambda_l2': 0.002570603566117598, 'num_leaves': 182, 'feature_fraction': 0.41235069657748147, 'bagging_fraction': 0.9819459112971965, 'bagging_freq': 6, 'min_child_samples': 25}. Best is trial 0 with value: 0.5575863103276627.\n"
          ]
        },
        {
          "output_type": "stream",
          "name": "stdout",
          "text": [
            "f1 score : 0.5466843299427366\n"
          ]
        },
        {
          "output_type": "stream",
          "name": "stderr",
          "text": [
            "[I 2024-01-05 23:58:36,672] Trial 2 finished with value: 0.5675158892900571 and parameters: {'lambda_l1': 4.329370014459266e-07, 'lambda_l2': 4.4734294104626844e-07, 'num_leaves': 79, 'feature_fraction': 0.7148538589793427, 'bagging_fraction': 0.6591670111852694, 'bagging_freq': 3, 'min_child_samples': 63}. Best is trial 2 with value: 0.5675158892900571.\n"
          ]
        },
        {
          "output_type": "stream",
          "name": "stdout",
          "text": [
            "f1 score : 0.5675158892900571\n"
          ]
        },
        {
          "output_type": "stream",
          "name": "stderr",
          "text": [
            "[I 2024-01-05 23:58:37,400] Trial 3 finished with value: 0.5599211189419738 and parameters: {'lambda_l1': 1.8007140198129195e-07, 'lambda_l2': 4.258943089524393e-06, 'num_leaves': 95, 'feature_fraction': 0.6736419905302216, 'bagging_fraction': 0.8711055768358081, 'bagging_freq': 2, 'min_child_samples': 54}. Best is trial 2 with value: 0.5675158892900571.\n"
          ]
        },
        {
          "output_type": "stream",
          "name": "stdout",
          "text": [
            "f1 score : 0.5599211189419738\n"
          ]
        },
        {
          "output_type": "stream",
          "name": "stderr",
          "text": [
            "[I 2024-01-05 23:58:37,767] Trial 4 finished with value: 0.5694664330860585 and parameters: {'lambda_l1': 0.0021465011216654484, 'lambda_l2': 2.6185068507773707e-08, 'num_leaves': 156, 'feature_fraction': 0.502314474212375, 'bagging_fraction': 0.43903095579116774, 'bagging_freq': 7, 'min_child_samples': 97}. Best is trial 4 with value: 0.5694664330860585.\n"
          ]
        },
        {
          "output_type": "stream",
          "name": "stdout",
          "text": [
            "f1 score : 0.5694664330860585\n"
          ]
        },
        {
          "output_type": "stream",
          "name": "stderr",
          "text": [
            "[I 2024-01-05 23:58:38,259] Trial 5 finished with value: 0.567446134945167 and parameters: {'lambda_l1': 0.18861495878553936, 'lambda_l2': 5.514725787121931e-06, 'num_leaves': 26, 'feature_fraction': 0.8105398159072941, 'bagging_fraction': 0.6640914962437607, 'bagging_freq': 1, 'min_child_samples': 52}. Best is trial 4 with value: 0.5694664330860585.\n"
          ]
        },
        {
          "output_type": "stream",
          "name": "stdout",
          "text": [
            "f1 score : 0.567446134945167\n"
          ]
        },
        {
          "output_type": "stream",
          "name": "stderr",
          "text": [
            "[I 2024-01-05 23:58:38,815] Trial 6 finished with value: 0.5673572991871625 and parameters: {'lambda_l1': 2.039373116525212e-08, 'lambda_l2': 1.527156759251193, 'num_leaves': 67, 'feature_fraction': 0.7975133706123891, 'bagging_fraction': 0.5870266456536466, 'bagging_freq': 4, 'min_child_samples': 57}. Best is trial 4 with value: 0.5694664330860585.\n"
          ]
        },
        {
          "output_type": "stream",
          "name": "stdout",
          "text": [
            "f1 score : 0.5673572991871625\n"
          ]
        },
        {
          "output_type": "stream",
          "name": "stderr",
          "text": [
            "[I 2024-01-05 23:58:39,428] Trial 7 finished with value: 0.5651952541128314 and parameters: {'lambda_l1': 4.609885087947832e-07, 'lambda_l2': 5.324289357128436, 'num_leaves': 199, 'feature_fraction': 0.9636993649385135, 'bagging_fraction': 0.9368964102565893, 'bagging_freq': 5, 'min_child_samples': 93}. Best is trial 4 with value: 0.5694664330860585.\n"
          ]
        },
        {
          "output_type": "stream",
          "name": "stdout",
          "text": [
            "f1 score : 0.5651952541128314\n"
          ]
        },
        {
          "output_type": "stream",
          "name": "stderr",
          "text": [
            "[I 2024-01-05 23:58:39,833] Trial 8 finished with value: 0.5654962890909118 and parameters: {'lambda_l1': 6.257956190096665e-08, 'lambda_l2': 5.805581976088804e-07, 'num_leaves': 13, 'feature_fraction': 0.5951981984579586, 'bagging_fraction': 0.6332063738136893, 'bagging_freq': 2, 'min_child_samples': 84}. Best is trial 4 with value: 0.5694664330860585.\n"
          ]
        },
        {
          "output_type": "stream",
          "name": "stdout",
          "text": [
            "f1 score : 0.5654962890909118\n"
          ]
        },
        {
          "output_type": "stream",
          "name": "stderr",
          "text": [
            "[I 2024-01-05 23:58:40,297] Trial 9 finished with value: 0.5759511909061424 and parameters: {'lambda_l1': 1.6247252885719427e-05, 'lambda_l2': 3.376063348877853e-06, 'num_leaves': 140, 'feature_fraction': 0.4845545349848576, 'bagging_fraction': 0.8813181884524238, 'bagging_freq': 1, 'min_child_samples': 99}. Best is trial 9 with value: 0.5759511909061424.\n"
          ]
        },
        {
          "output_type": "stream",
          "name": "stdout",
          "text": [
            "f1 score : 0.5759511909061424\n"
          ]
        },
        {
          "output_type": "stream",
          "name": "stderr",
          "text": [
            "[I 2024-01-05 23:58:40,548] Trial 10 finished with value: 0.5700992949779121 and parameters: {'lambda_l1': 0.08916674715636537, 'lambda_l2': 6.143857495033091e-07, 'num_leaves': 3, 'feature_fraction': 0.8892768570729005, 'bagging_fraction': 0.8241144063085704, 'bagging_freq': 6, 'min_child_samples': 79}. Best is trial 9 with value: 0.5759511909061424.\n"
          ]
        },
        {
          "output_type": "stream",
          "name": "stdout",
          "text": [
            "f1 score : 0.5700992949779121\n"
          ]
        },
        {
          "output_type": "stream",
          "name": "stderr",
          "text": [
            "[I 2024-01-05 23:58:41,124] Trial 11 finished with value: 0.5573826922233003 and parameters: {'lambda_l1': 4.638759594322625e-08, 'lambda_l2': 1.683416412018213e-05, 'num_leaves': 31, 'feature_fraction': 0.9178620555253562, 'bagging_fraction': 0.7739788760965347, 'bagging_freq': 3, 'min_child_samples': 11}. Best is trial 9 with value: 0.5759511909061424.\n"
          ]
        },
        {
          "output_type": "stream",
          "name": "stdout",
          "text": [
            "f1 score : 0.5573826922233003\n"
          ]
        },
        {
          "output_type": "stream",
          "name": "stderr",
          "text": [
            "[I 2024-01-05 23:58:43,453] Trial 12 finished with value: 0.5365748076936846 and parameters: {'lambda_l1': 6.292756043818863e-06, 'lambda_l2': 8.445977074223802e-06, 'num_leaves': 188, 'feature_fraction': 0.7825344828131279, 'bagging_fraction': 0.932327645545796, 'bagging_freq': 4, 'min_child_samples': 16}. Best is trial 9 with value: 0.5759511909061424.\n"
          ]
        },
        {
          "output_type": "stream",
          "name": "stdout",
          "text": [
            "f1 score : 0.5365748076936846\n"
          ]
        },
        {
          "output_type": "stream",
          "name": "stderr",
          "text": [
            "[I 2024-01-05 23:58:44,431] Trial 13 finished with value: 0.5604460782840794 and parameters: {'lambda_l1': 0.02625445968759339, 'lambda_l2': 0.0703178263660987, 'num_leaves': 145, 'feature_fraction': 0.8625803079727365, 'bagging_fraction': 0.6962773578186345, 'bagging_freq': 4, 'min_child_samples': 46}. Best is trial 9 with value: 0.5759511909061424.\n"
          ]
        },
        {
          "output_type": "stream",
          "name": "stdout",
          "text": [
            "f1 score : 0.5604460782840794\n"
          ]
        },
        {
          "output_type": "stream",
          "name": "stderr",
          "text": [
            "[I 2024-01-05 23:58:44,904] Trial 14 finished with value: 0.5753120153907529 and parameters: {'lambda_l1': 1.6934490731313353e-08, 'lambda_l2': 9.354548757337708e-08, 'num_leaves': 10, 'feature_fraction': 0.7818462467582683, 'bagging_fraction': 0.588613588645796, 'bagging_freq': 4, 'min_child_samples': 92}. Best is trial 9 with value: 0.5759511909061424.\n"
          ]
        },
        {
          "output_type": "stream",
          "name": "stdout",
          "text": [
            "f1 score : 0.5753120153907529\n"
          ]
        },
        {
          "output_type": "stream",
          "name": "stderr",
          "text": [
            "[I 2024-01-05 23:58:45,910] Trial 15 finished with value: 0.5590941836468347 and parameters: {'lambda_l1': 1.7523871598466864e-06, 'lambda_l2': 4.9368087974032924e-05, 'num_leaves': 194, 'feature_fraction': 0.5372788992949735, 'bagging_fraction': 0.44618794589727584, 'bagging_freq': 3, 'min_child_samples': 20}. Best is trial 9 with value: 0.5759511909061424.\n"
          ]
        },
        {
          "output_type": "stream",
          "name": "stdout",
          "text": [
            "f1 score : 0.5590941836468347\n"
          ]
        },
        {
          "output_type": "stream",
          "name": "stderr",
          "text": [
            "[I 2024-01-05 23:58:46,716] Trial 16 finished with value: 0.5758077404262733 and parameters: {'lambda_l1': 2.3295866619309256, 'lambda_l2': 0.18753546777666233, 'num_leaves': 163, 'feature_fraction': 0.9228763541126306, 'bagging_fraction': 0.8822032461394687, 'bagging_freq': 2, 'min_child_samples': 90}. Best is trial 9 with value: 0.5759511909061424.\n"
          ]
        },
        {
          "output_type": "stream",
          "name": "stdout",
          "text": [
            "f1 score : 0.5758077404262733\n"
          ]
        },
        {
          "output_type": "stream",
          "name": "stderr",
          "text": [
            "[I 2024-01-05 23:58:47,301] Trial 17 finished with value: 0.5699040344794378 and parameters: {'lambda_l1': 0.000714628244934021, 'lambda_l2': 0.18491042486838075, 'num_leaves': 230, 'feature_fraction': 0.5908020849831184, 'bagging_fraction': 0.46603115471660606, 'bagging_freq': 2, 'min_child_samples': 46}. Best is trial 9 with value: 0.5759511909061424.\n"
          ]
        },
        {
          "output_type": "stream",
          "name": "stdout",
          "text": [
            "f1 score : 0.5699040344794378\n"
          ]
        },
        {
          "output_type": "stream",
          "name": "stderr",
          "text": [
            "[I 2024-01-05 23:58:47,560] Trial 18 finished with value: 0.572626993645951 and parameters: {'lambda_l1': 0.23021461620759875, 'lambda_l2': 0.557924264150636, 'num_leaves': 3, 'feature_fraction': 0.7064483815465394, 'bagging_fraction': 0.6504466018892674, 'bagging_freq': 2, 'min_child_samples': 16}. Best is trial 9 with value: 0.5759511909061424.\n"
          ]
        },
        {
          "output_type": "stream",
          "name": "stdout",
          "text": [
            "f1 score : 0.572626993645951\n"
          ]
        },
        {
          "output_type": "stream",
          "name": "stderr",
          "text": [
            "[I 2024-01-05 23:58:48,092] Trial 19 finished with value: 0.5734404454300311 and parameters: {'lambda_l1': 1.0927895733904103e-05, 'lambda_l2': 3.0632845126552133, 'num_leaves': 84, 'feature_fraction': 0.7112743730460196, 'bagging_fraction': 0.8218113753371068, 'bagging_freq': 3, 'min_child_samples': 98}. Best is trial 9 with value: 0.5759511909061424.\n"
          ]
        },
        {
          "output_type": "stream",
          "name": "stdout",
          "text": [
            "f1 score : 0.5734404454300311\n"
          ]
        },
        {
          "output_type": "stream",
          "name": "stderr",
          "text": [
            "[I 2024-01-05 23:58:48,465] Trial 20 finished with value: 0.5705537274072539 and parameters: {'lambda_l1': 4.592251392089998, 'lambda_l2': 1.845188173664121e-06, 'num_leaves': 128, 'feature_fraction': 0.5805269858900618, 'bagging_fraction': 0.5709042966264806, 'bagging_freq': 1, 'min_child_samples': 63}. Best is trial 9 with value: 0.5759511909061424.\n"
          ]
        },
        {
          "output_type": "stream",
          "name": "stdout",
          "text": [
            "f1 score : 0.5705537274072539\n"
          ]
        },
        {
          "output_type": "stream",
          "name": "stderr",
          "text": [
            "[I 2024-01-05 23:58:49,071] Trial 21 finished with value: 0.5619188662286176 and parameters: {'lambda_l1': 0.0003342806277473177, 'lambda_l2': 2.906088000706637e-08, 'num_leaves': 73, 'feature_fraction': 0.9449595315799922, 'bagging_fraction': 0.5437371344001835, 'bagging_freq': 2, 'min_child_samples': 51}. Best is trial 9 with value: 0.5759511909061424.\n"
          ]
        },
        {
          "output_type": "stream",
          "name": "stdout",
          "text": [
            "f1 score : 0.5619188662286176\n"
          ]
        },
        {
          "output_type": "stream",
          "name": "stderr",
          "text": [
            "[I 2024-01-05 23:58:49,468] Trial 22 finished with value: 0.5850887613047776 and parameters: {'lambda_l1': 7.427695424061678, 'lambda_l2': 1.5083337319786327e-06, 'num_leaves': 173, 'feature_fraction': 0.8569717691972305, 'bagging_fraction': 0.5425825263954398, 'bagging_freq': 6, 'min_child_samples': 40}. Best is trial 22 with value: 0.5850887613047776.\n"
          ]
        },
        {
          "output_type": "stream",
          "name": "stdout",
          "text": [
            "f1 score : 0.5850887613047776\n"
          ]
        },
        {
          "output_type": "stream",
          "name": "stderr",
          "text": [
            "[I 2024-01-05 23:58:50,503] Trial 23 finished with value: 0.5484208030639582 and parameters: {'lambda_l1': 0.00490628164601872, 'lambda_l2': 0.005032310118297565, 'num_leaves': 138, 'feature_fraction': 0.454173862032645, 'bagging_fraction': 0.9011814973535428, 'bagging_freq': 3, 'min_child_samples': 22}. Best is trial 22 with value: 0.5850887613047776.\n"
          ]
        },
        {
          "output_type": "stream",
          "name": "stdout",
          "text": [
            "f1 score : 0.5484208030639582\n"
          ]
        },
        {
          "output_type": "stream",
          "name": "stderr",
          "text": [
            "[I 2024-01-05 23:58:51,057] Trial 24 finished with value: 0.5669527641336791 and parameters: {'lambda_l1': 2.3279640748356466e-08, 'lambda_l2': 0.0020798714270728416, 'num_leaves': 174, 'feature_fraction': 0.4099526973567137, 'bagging_fraction': 0.7072558349795686, 'bagging_freq': 2, 'min_child_samples': 66}. Best is trial 22 with value: 0.5850887613047776.\n"
          ]
        },
        {
          "output_type": "stream",
          "name": "stdout",
          "text": [
            "f1 score : 0.5669527641336791\n"
          ]
        },
        {
          "output_type": "stream",
          "name": "stderr",
          "text": [
            "[I 2024-01-05 23:58:52,015] Trial 25 finished with value: 0.5336814514823527 and parameters: {'lambda_l1': 3.709350405068891e-07, 'lambda_l2': 0.016536349510675875, 'num_leaves': 100, 'feature_fraction': 0.9620379932420408, 'bagging_fraction': 0.482512566487596, 'bagging_freq': 3, 'min_child_samples': 15}. Best is trial 22 with value: 0.5850887613047776.\n"
          ]
        },
        {
          "output_type": "stream",
          "name": "stdout",
          "text": [
            "f1 score : 0.5336814514823527\n"
          ]
        },
        {
          "output_type": "stream",
          "name": "stderr",
          "text": [
            "[I 2024-01-05 23:58:52,627] Trial 26 finished with value: 0.5655971571865904 and parameters: {'lambda_l1': 2.100112522343288, 'lambda_l2': 0.7871439837551527, 'num_leaves': 67, 'feature_fraction': 0.7959904276205074, 'bagging_fraction': 0.8903333201207295, 'bagging_freq': 4, 'min_child_samples': 55}. Best is trial 22 with value: 0.5850887613047776.\n"
          ]
        },
        {
          "output_type": "stream",
          "name": "stdout",
          "text": [
            "f1 score : 0.5655971571865904\n"
          ]
        },
        {
          "output_type": "stream",
          "name": "stderr",
          "text": [
            "[I 2024-01-05 23:58:53,502] Trial 27 finished with value: 0.5521447125000168 and parameters: {'lambda_l1': 1.5020023705702004e-06, 'lambda_l2': 6.885332382888648e-08, 'num_leaves': 230, 'feature_fraction': 0.9402508342979983, 'bagging_fraction': 0.7798608743639608, 'bagging_freq': 3, 'min_child_samples': 38}. Best is trial 22 with value: 0.5850887613047776.\n"
          ]
        },
        {
          "output_type": "stream",
          "name": "stdout",
          "text": [
            "f1 score : 0.5521447125000168\n"
          ]
        },
        {
          "output_type": "stream",
          "name": "stderr",
          "text": [
            "[I 2024-01-05 23:58:54,402] Trial 28 finished with value: 0.5436905761570744 and parameters: {'lambda_l1': 0.03416654859330391, 'lambda_l2': 1.1857478328321251, 'num_leaves': 228, 'feature_fraction': 0.8679253275145743, 'bagging_fraction': 0.7852189876925726, 'bagging_freq': 1, 'min_child_samples': 20}. Best is trial 22 with value: 0.5850887613047776.\n"
          ]
        },
        {
          "output_type": "stream",
          "name": "stdout",
          "text": [
            "f1 score : 0.5436905761570744\n"
          ]
        },
        {
          "output_type": "stream",
          "name": "stderr",
          "text": [
            "[I 2024-01-05 23:58:54,658] Trial 29 finished with value: 0.5676387713393717 and parameters: {'lambda_l1': 1.2217650479327244, 'lambda_l2': 0.0028698654570754596, 'num_leaves': 4, 'feature_fraction': 0.4608829257196193, 'bagging_fraction': 0.7981010614648335, 'bagging_freq': 1, 'min_child_samples': 20}. Best is trial 22 with value: 0.5850887613047776.\n"
          ]
        },
        {
          "output_type": "stream",
          "name": "stdout",
          "text": [
            "f1 score : 0.5676387713393717\n"
          ]
        },
        {
          "output_type": "display_data",
          "data": {
            "text/html": [
              "<html>\n",
              "<head><meta charset=\"utf-8\" /></head>\n",
              "<body>\n",
              "    <div>            <script src=\"https://cdnjs.cloudflare.com/ajax/libs/mathjax/2.7.5/MathJax.js?config=TeX-AMS-MML_SVG\"></script><script type=\"text/javascript\">if (window.MathJax && window.MathJax.Hub && window.MathJax.Hub.Config) {window.MathJax.Hub.Config({SVG: {font: \"STIX-Web\"}});}</script>                <script type=\"text/javascript\">window.PlotlyConfig = {MathJaxConfig: 'local'};</script>\n",
              "        <script charset=\"utf-8\" src=\"https://cdn.plot.ly/plotly-2.24.1.min.js\"></script>                <div id=\"3e57e555-d031-4d7a-b1ee-a26a08e8d0cc\" class=\"plotly-graph-div\" style=\"height:525px; width:100%;\"></div>            <script type=\"text/javascript\">                                    window.PLOTLYENV=window.PLOTLYENV || {};                                    if (document.getElementById(\"3e57e555-d031-4d7a-b1ee-a26a08e8d0cc\")) {                    Plotly.newPlot(                        \"3e57e555-d031-4d7a-b1ee-a26a08e8d0cc\",                        [{\"mode\":\"markers\",\"name\":\"Objective Value\",\"x\":[0,1,2,3,4,5,6,7,8,9,10,11,12,13,14,15,16,17,18,19,20,21,22,23,24,25,26,27,28,29],\"y\":[0.5575863103276627,0.5466843299427366,0.5675158892900571,0.5599211189419738,0.5694664330860585,0.567446134945167,0.5673572991871625,0.5651952541128314,0.5654962890909118,0.5759511909061424,0.5700992949779121,0.5573826922233003,0.5365748076936846,0.5604460782840794,0.5753120153907529,0.5590941836468347,0.5758077404262733,0.5699040344794378,0.572626993645951,0.5734404454300311,0.5705537274072539,0.5619188662286176,0.5850887613047776,0.5484208030639582,0.5669527641336791,0.5336814514823527,0.5655971571865904,0.5521447125000168,0.5436905761570744,0.5676387713393717],\"type\":\"scatter\"},{\"mode\":\"lines\",\"name\":\"Best Value\",\"x\":[0,1,2,3,4,5,6,7,8,9,10,11,12,13,14,15,16,17,18,19,20,21,22,23,24,25,26,27,28,29],\"y\":[0.5575863103276627,0.5575863103276627,0.5675158892900571,0.5675158892900571,0.5694664330860585,0.5694664330860585,0.5694664330860585,0.5694664330860585,0.5694664330860585,0.5759511909061424,0.5759511909061424,0.5759511909061424,0.5759511909061424,0.5759511909061424,0.5759511909061424,0.5759511909061424,0.5759511909061424,0.5759511909061424,0.5759511909061424,0.5759511909061424,0.5759511909061424,0.5759511909061424,0.5850887613047776,0.5850887613047776,0.5850887613047776,0.5850887613047776,0.5850887613047776,0.5850887613047776,0.5850887613047776,0.5850887613047776],\"type\":\"scatter\"},{\"marker\":{\"color\":\"#cccccc\"},\"mode\":\"markers\",\"name\":\"Infeasible Trial\",\"showlegend\":false,\"x\":[],\"y\":[],\"type\":\"scatter\"}],                        {\"title\":{\"text\":\"Optimization History Plot\"},\"xaxis\":{\"title\":{\"text\":\"Trial\"}},\"yaxis\":{\"title\":{\"text\":\"Objective Value\"}},\"template\":{\"data\":{\"histogram2dcontour\":[{\"type\":\"histogram2dcontour\",\"colorbar\":{\"outlinewidth\":0,\"ticks\":\"\"},\"colorscale\":[[0.0,\"#0d0887\"],[0.1111111111111111,\"#46039f\"],[0.2222222222222222,\"#7201a8\"],[0.3333333333333333,\"#9c179e\"],[0.4444444444444444,\"#bd3786\"],[0.5555555555555556,\"#d8576b\"],[0.6666666666666666,\"#ed7953\"],[0.7777777777777778,\"#fb9f3a\"],[0.8888888888888888,\"#fdca26\"],[1.0,\"#f0f921\"]]}],\"choropleth\":[{\"type\":\"choropleth\",\"colorbar\":{\"outlinewidth\":0,\"ticks\":\"\"}}],\"histogram2d\":[{\"type\":\"histogram2d\",\"colorbar\":{\"outlinewidth\":0,\"ticks\":\"\"},\"colorscale\":[[0.0,\"#0d0887\"],[0.1111111111111111,\"#46039f\"],[0.2222222222222222,\"#7201a8\"],[0.3333333333333333,\"#9c179e\"],[0.4444444444444444,\"#bd3786\"],[0.5555555555555556,\"#d8576b\"],[0.6666666666666666,\"#ed7953\"],[0.7777777777777778,\"#fb9f3a\"],[0.8888888888888888,\"#fdca26\"],[1.0,\"#f0f921\"]]}],\"heatmap\":[{\"type\":\"heatmap\",\"colorbar\":{\"outlinewidth\":0,\"ticks\":\"\"},\"colorscale\":[[0.0,\"#0d0887\"],[0.1111111111111111,\"#46039f\"],[0.2222222222222222,\"#7201a8\"],[0.3333333333333333,\"#9c179e\"],[0.4444444444444444,\"#bd3786\"],[0.5555555555555556,\"#d8576b\"],[0.6666666666666666,\"#ed7953\"],[0.7777777777777778,\"#fb9f3a\"],[0.8888888888888888,\"#fdca26\"],[1.0,\"#f0f921\"]]}],\"heatmapgl\":[{\"type\":\"heatmapgl\",\"colorbar\":{\"outlinewidth\":0,\"ticks\":\"\"},\"colorscale\":[[0.0,\"#0d0887\"],[0.1111111111111111,\"#46039f\"],[0.2222222222222222,\"#7201a8\"],[0.3333333333333333,\"#9c179e\"],[0.4444444444444444,\"#bd3786\"],[0.5555555555555556,\"#d8576b\"],[0.6666666666666666,\"#ed7953\"],[0.7777777777777778,\"#fb9f3a\"],[0.8888888888888888,\"#fdca26\"],[1.0,\"#f0f921\"]]}],\"contourcarpet\":[{\"type\":\"contourcarpet\",\"colorbar\":{\"outlinewidth\":0,\"ticks\":\"\"}}],\"contour\":[{\"type\":\"contour\",\"colorbar\":{\"outlinewidth\":0,\"ticks\":\"\"},\"colorscale\":[[0.0,\"#0d0887\"],[0.1111111111111111,\"#46039f\"],[0.2222222222222222,\"#7201a8\"],[0.3333333333333333,\"#9c179e\"],[0.4444444444444444,\"#bd3786\"],[0.5555555555555556,\"#d8576b\"],[0.6666666666666666,\"#ed7953\"],[0.7777777777777778,\"#fb9f3a\"],[0.8888888888888888,\"#fdca26\"],[1.0,\"#f0f921\"]]}],\"surface\":[{\"type\":\"surface\",\"colorbar\":{\"outlinewidth\":0,\"ticks\":\"\"},\"colorscale\":[[0.0,\"#0d0887\"],[0.1111111111111111,\"#46039f\"],[0.2222222222222222,\"#7201a8\"],[0.3333333333333333,\"#9c179e\"],[0.4444444444444444,\"#bd3786\"],[0.5555555555555556,\"#d8576b\"],[0.6666666666666666,\"#ed7953\"],[0.7777777777777778,\"#fb9f3a\"],[0.8888888888888888,\"#fdca26\"],[1.0,\"#f0f921\"]]}],\"mesh3d\":[{\"type\":\"mesh3d\",\"colorbar\":{\"outlinewidth\":0,\"ticks\":\"\"}}],\"scatter\":[{\"fillpattern\":{\"fillmode\":\"overlay\",\"size\":10,\"solidity\":0.2},\"type\":\"scatter\"}],\"parcoords\":[{\"type\":\"parcoords\",\"line\":{\"colorbar\":{\"outlinewidth\":0,\"ticks\":\"\"}}}],\"scatterpolargl\":[{\"type\":\"scatterpolargl\",\"marker\":{\"colorbar\":{\"outlinewidth\":0,\"ticks\":\"\"}}}],\"bar\":[{\"error_x\":{\"color\":\"#2a3f5f\"},\"error_y\":{\"color\":\"#2a3f5f\"},\"marker\":{\"line\":{\"color\":\"#E5ECF6\",\"width\":0.5},\"pattern\":{\"fillmode\":\"overlay\",\"size\":10,\"solidity\":0.2}},\"type\":\"bar\"}],\"scattergeo\":[{\"type\":\"scattergeo\",\"marker\":{\"colorbar\":{\"outlinewidth\":0,\"ticks\":\"\"}}}],\"scatterpolar\":[{\"type\":\"scatterpolar\",\"marker\":{\"colorbar\":{\"outlinewidth\":0,\"ticks\":\"\"}}}],\"histogram\":[{\"marker\":{\"pattern\":{\"fillmode\":\"overlay\",\"size\":10,\"solidity\":0.2}},\"type\":\"histogram\"}],\"scattergl\":[{\"type\":\"scattergl\",\"marker\":{\"colorbar\":{\"outlinewidth\":0,\"ticks\":\"\"}}}],\"scatter3d\":[{\"type\":\"scatter3d\",\"line\":{\"colorbar\":{\"outlinewidth\":0,\"ticks\":\"\"}},\"marker\":{\"colorbar\":{\"outlinewidth\":0,\"ticks\":\"\"}}}],\"scattermapbox\":[{\"type\":\"scattermapbox\",\"marker\":{\"colorbar\":{\"outlinewidth\":0,\"ticks\":\"\"}}}],\"scatterternary\":[{\"type\":\"scatterternary\",\"marker\":{\"colorbar\":{\"outlinewidth\":0,\"ticks\":\"\"}}}],\"scattercarpet\":[{\"type\":\"scattercarpet\",\"marker\":{\"colorbar\":{\"outlinewidth\":0,\"ticks\":\"\"}}}],\"carpet\":[{\"aaxis\":{\"endlinecolor\":\"#2a3f5f\",\"gridcolor\":\"white\",\"linecolor\":\"white\",\"minorgridcolor\":\"white\",\"startlinecolor\":\"#2a3f5f\"},\"baxis\":{\"endlinecolor\":\"#2a3f5f\",\"gridcolor\":\"white\",\"linecolor\":\"white\",\"minorgridcolor\":\"white\",\"startlinecolor\":\"#2a3f5f\"},\"type\":\"carpet\"}],\"table\":[{\"cells\":{\"fill\":{\"color\":\"#EBF0F8\"},\"line\":{\"color\":\"white\"}},\"header\":{\"fill\":{\"color\":\"#C8D4E3\"},\"line\":{\"color\":\"white\"}},\"type\":\"table\"}],\"barpolar\":[{\"marker\":{\"line\":{\"color\":\"#E5ECF6\",\"width\":0.5},\"pattern\":{\"fillmode\":\"overlay\",\"size\":10,\"solidity\":0.2}},\"type\":\"barpolar\"}],\"pie\":[{\"automargin\":true,\"type\":\"pie\"}]},\"layout\":{\"autotypenumbers\":\"strict\",\"colorway\":[\"#636efa\",\"#EF553B\",\"#00cc96\",\"#ab63fa\",\"#FFA15A\",\"#19d3f3\",\"#FF6692\",\"#B6E880\",\"#FF97FF\",\"#FECB52\"],\"font\":{\"color\":\"#2a3f5f\"},\"hovermode\":\"closest\",\"hoverlabel\":{\"align\":\"left\"},\"paper_bgcolor\":\"white\",\"plot_bgcolor\":\"#E5ECF6\",\"polar\":{\"bgcolor\":\"#E5ECF6\",\"angularaxis\":{\"gridcolor\":\"white\",\"linecolor\":\"white\",\"ticks\":\"\"},\"radialaxis\":{\"gridcolor\":\"white\",\"linecolor\":\"white\",\"ticks\":\"\"}},\"ternary\":{\"bgcolor\":\"#E5ECF6\",\"aaxis\":{\"gridcolor\":\"white\",\"linecolor\":\"white\",\"ticks\":\"\"},\"baxis\":{\"gridcolor\":\"white\",\"linecolor\":\"white\",\"ticks\":\"\"},\"caxis\":{\"gridcolor\":\"white\",\"linecolor\":\"white\",\"ticks\":\"\"}},\"coloraxis\":{\"colorbar\":{\"outlinewidth\":0,\"ticks\":\"\"}},\"colorscale\":{\"sequential\":[[0.0,\"#0d0887\"],[0.1111111111111111,\"#46039f\"],[0.2222222222222222,\"#7201a8\"],[0.3333333333333333,\"#9c179e\"],[0.4444444444444444,\"#bd3786\"],[0.5555555555555556,\"#d8576b\"],[0.6666666666666666,\"#ed7953\"],[0.7777777777777778,\"#fb9f3a\"],[0.8888888888888888,\"#fdca26\"],[1.0,\"#f0f921\"]],\"sequentialminus\":[[0.0,\"#0d0887\"],[0.1111111111111111,\"#46039f\"],[0.2222222222222222,\"#7201a8\"],[0.3333333333333333,\"#9c179e\"],[0.4444444444444444,\"#bd3786\"],[0.5555555555555556,\"#d8576b\"],[0.6666666666666666,\"#ed7953\"],[0.7777777777777778,\"#fb9f3a\"],[0.8888888888888888,\"#fdca26\"],[1.0,\"#f0f921\"]],\"diverging\":[[0,\"#8e0152\"],[0.1,\"#c51b7d\"],[0.2,\"#de77ae\"],[0.3,\"#f1b6da\"],[0.4,\"#fde0ef\"],[0.5,\"#f7f7f7\"],[0.6,\"#e6f5d0\"],[0.7,\"#b8e186\"],[0.8,\"#7fbc41\"],[0.9,\"#4d9221\"],[1,\"#276419\"]]},\"xaxis\":{\"gridcolor\":\"white\",\"linecolor\":\"white\",\"ticks\":\"\",\"title\":{\"standoff\":15},\"zerolinecolor\":\"white\",\"automargin\":true,\"zerolinewidth\":2},\"yaxis\":{\"gridcolor\":\"white\",\"linecolor\":\"white\",\"ticks\":\"\",\"title\":{\"standoff\":15},\"zerolinecolor\":\"white\",\"automargin\":true,\"zerolinewidth\":2},\"scene\":{\"xaxis\":{\"backgroundcolor\":\"#E5ECF6\",\"gridcolor\":\"white\",\"linecolor\":\"white\",\"showbackground\":true,\"ticks\":\"\",\"zerolinecolor\":\"white\",\"gridwidth\":2},\"yaxis\":{\"backgroundcolor\":\"#E5ECF6\",\"gridcolor\":\"white\",\"linecolor\":\"white\",\"showbackground\":true,\"ticks\":\"\",\"zerolinecolor\":\"white\",\"gridwidth\":2},\"zaxis\":{\"backgroundcolor\":\"#E5ECF6\",\"gridcolor\":\"white\",\"linecolor\":\"white\",\"showbackground\":true,\"ticks\":\"\",\"zerolinecolor\":\"white\",\"gridwidth\":2}},\"shapedefaults\":{\"line\":{\"color\":\"#2a3f5f\"}},\"annotationdefaults\":{\"arrowcolor\":\"#2a3f5f\",\"arrowhead\":0,\"arrowwidth\":1},\"geo\":{\"bgcolor\":\"white\",\"landcolor\":\"#E5ECF6\",\"subunitcolor\":\"white\",\"showland\":true,\"showlakes\":true,\"lakecolor\":\"white\"},\"title\":{\"x\":0.05},\"mapbox\":{\"style\":\"light\"}}}},                        {\"responsive\": true}                    ).then(function(){\n",
              "                            \n",
              "var gd = document.getElementById('3e57e555-d031-4d7a-b1ee-a26a08e8d0cc');\n",
              "var x = new MutationObserver(function (mutations, observer) {{\n",
              "        var display = window.getComputedStyle(gd).display;\n",
              "        if (!display || display === 'none') {{\n",
              "            console.log([gd, 'removed!']);\n",
              "            Plotly.purge(gd);\n",
              "            observer.disconnect();\n",
              "        }}\n",
              "}});\n",
              "\n",
              "// Listen for the removal of the full notebook cells\n",
              "var notebookContainer = gd.closest('#notebook-container');\n",
              "if (notebookContainer) {{\n",
              "    x.observe(notebookContainer, {childList: true});\n",
              "}}\n",
              "\n",
              "// Listen for the clearing of the current output cell\n",
              "var outputEl = gd.closest('.output');\n",
              "if (outputEl) {{\n",
              "    x.observe(outputEl, {childList: true});\n",
              "}}\n",
              "\n",
              "                        })                };                            </script>        </div>\n",
              "</body>\n",
              "</html>"
            ]
          },
          "metadata": {}
        },
        {
          "output_type": "stream",
          "name": "stdout",
          "text": [
            "[LightGBM] [Warning] feature_fraction is set=0.8569717691972305, colsample_bytree=1.0 will be ignored. Current value: feature_fraction=0.8569717691972305\n",
            "[LightGBM] [Warning] lambda_l2 is set=1.5083337319786327e-06, reg_lambda=0.0 will be ignored. Current value: lambda_l2=1.5083337319786327e-06\n",
            "[LightGBM] [Warning] lambda_l1 is set=7.427695424061678, reg_alpha=0.0 will be ignored. Current value: lambda_l1=7.427695424061678\n",
            "[LightGBM] [Warning] bagging_fraction is set=0.5425825263954398, subsample=1.0 will be ignored. Current value: bagging_fraction=0.5425825263954398\n",
            "[LightGBM] [Warning] bagging_freq is set=6, subsample_freq=0 will be ignored. Current value: bagging_freq=6\n",
            "[LightGBM] [Warning] feature_fraction is set=0.8569717691972305, colsample_bytree=1.0 will be ignored. Current value: feature_fraction=0.8569717691972305\n",
            "[LightGBM] [Warning] lambda_l2 is set=1.5083337319786327e-06, reg_lambda=0.0 will be ignored. Current value: lambda_l2=1.5083337319786327e-06\n",
            "[LightGBM] [Warning] lambda_l1 is set=7.427695424061678, reg_alpha=0.0 will be ignored. Current value: lambda_l1=7.427695424061678\n",
            "[LightGBM] [Warning] bagging_fraction is set=0.5425825263954398, subsample=1.0 will be ignored. Current value: bagging_fraction=0.5425825263954398\n",
            "[LightGBM] [Warning] bagging_freq is set=6, subsample_freq=0 will be ignored. Current value: bagging_freq=6\n",
            "[LightGBM] [Info] Number of positive: 1419, number of negative: 4854\n",
            "[LightGBM] [Info] Auto-choosing col-wise multi-threading, the overhead of testing was 0.001815 seconds.\n",
            "You can set `force_col_wise=true` to remove the overhead.\n",
            "[LightGBM] [Info] Total Bins 684\n",
            "[LightGBM] [Info] Number of data points in the train set: 6273, number of used features: 17\n",
            "[LightGBM] [Info] [binary:BoostFromScore]: pavg=0.226208 -> initscore=-1.229851\n",
            "[LightGBM] [Info] Start training from score -1.229851\n",
            "[LightGBM] [Warning] No further splits with positive gain, best gain: -inf\n",
            "[LightGBM] [Warning] No further splits with positive gain, best gain: -inf\n",
            "[LightGBM] [Warning] No further splits with positive gain, best gain: -inf\n",
            "[LightGBM] [Warning] No further splits with positive gain, best gain: -inf\n",
            "[LightGBM] [Warning] No further splits with positive gain, best gain: -inf\n",
            "[LightGBM] [Warning] No further splits with positive gain, best gain: -inf\n",
            "[LightGBM] [Warning] No further splits with positive gain, best gain: -inf\n",
            "[LightGBM] [Warning] No further splits with positive gain, best gain: -inf\n",
            "[LightGBM] [Warning] No further splits with positive gain, best gain: -inf\n",
            "[LightGBM] [Warning] No further splits with positive gain, best gain: -inf\n",
            "[LightGBM] [Warning] No further splits with positive gain, best gain: -inf\n",
            "[LightGBM] [Warning] No further splits with positive gain, best gain: -inf\n",
            "[LightGBM] [Warning] No further splits with positive gain, best gain: -inf\n",
            "[LightGBM] [Warning] No further splits with positive gain, best gain: -inf\n",
            "[LightGBM] [Warning] No further splits with positive gain, best gain: -inf\n",
            "[LightGBM] [Warning] No further splits with positive gain, best gain: -inf\n",
            "[LightGBM] [Warning] No further splits with positive gain, best gain: -inf\n",
            "[LightGBM] [Warning] No further splits with positive gain, best gain: -inf\n",
            "[LightGBM] [Warning] No further splits with positive gain, best gain: -inf\n",
            "[LightGBM] [Warning] No further splits with positive gain, best gain: -inf\n",
            "[LightGBM] [Warning] No further splits with positive gain, best gain: -inf\n",
            "[LightGBM] [Warning] No further splits with positive gain, best gain: -inf\n",
            "[LightGBM] [Warning] No further splits with positive gain, best gain: -inf\n",
            "[LightGBM] [Warning] No further splits with positive gain, best gain: -inf\n",
            "[LightGBM] [Warning] No further splits with positive gain, best gain: -inf\n",
            "[LightGBM] [Warning] No further splits with positive gain, best gain: -inf\n",
            "[LightGBM] [Warning] No further splits with positive gain, best gain: -inf\n",
            "[LightGBM] [Warning] No further splits with positive gain, best gain: -inf\n",
            "[LightGBM] [Warning] No further splits with positive gain, best gain: -inf\n",
            "[LightGBM] [Warning] No further splits with positive gain, best gain: -inf\n",
            "[LightGBM] [Warning] No further splits with positive gain, best gain: -inf\n",
            "[LightGBM] [Warning] No further splits with positive gain, best gain: -inf\n",
            "[LightGBM] [Warning] No further splits with positive gain, best gain: -inf\n",
            "[LightGBM] [Warning] No further splits with positive gain, best gain: -inf\n",
            "[LightGBM] [Warning] No further splits with positive gain, best gain: -inf\n",
            "[LightGBM] [Warning] No further splits with positive gain, best gain: -inf\n",
            "[LightGBM] [Warning] No further splits with positive gain, best gain: -inf\n",
            "[LightGBM] [Warning] No further splits with positive gain, best gain: -inf\n",
            "[LightGBM] [Warning] No further splits with positive gain, best gain: -inf\n",
            "[LightGBM] [Warning] No further splits with positive gain, best gain: -inf\n",
            "[LightGBM] [Warning] No further splits with positive gain, best gain: -inf\n",
            "[LightGBM] [Warning] No further splits with positive gain, best gain: -inf\n",
            "[LightGBM] [Warning] No further splits with positive gain, best gain: -inf\n",
            "[LightGBM] [Warning] No further splits with positive gain, best gain: -inf\n",
            "[LightGBM] [Warning] No further splits with positive gain, best gain: -inf\n",
            "[LightGBM] [Warning] No further splits with positive gain, best gain: -inf\n",
            "[LightGBM] [Warning] No further splits with positive gain, best gain: -inf\n",
            "[LightGBM] [Warning] No further splits with positive gain, best gain: -inf\n",
            "[LightGBM] [Warning] No further splits with positive gain, best gain: -inf\n",
            "[LightGBM] [Warning] No further splits with positive gain, best gain: -inf\n",
            "[LightGBM] [Warning] No further splits with positive gain, best gain: -inf\n",
            "[LightGBM] [Warning] No further splits with positive gain, best gain: -inf\n",
            "[LightGBM] [Warning] No further splits with positive gain, best gain: -inf\n",
            "[LightGBM] [Warning] No further splits with positive gain, best gain: -inf\n",
            "[LightGBM] [Warning] No further splits with positive gain, best gain: -inf\n",
            "[LightGBM] [Warning] No further splits with positive gain, best gain: -inf\n",
            "[LightGBM] [Warning] No further splits with positive gain, best gain: -inf\n",
            "[LightGBM] [Warning] No further splits with positive gain, best gain: -inf\n",
            "[LightGBM] [Warning] No further splits with positive gain, best gain: -inf\n",
            "[LightGBM] [Warning] No further splits with positive gain, best gain: -inf\n",
            "[LightGBM] [Warning] No further splits with positive gain, best gain: -inf\n",
            "[LightGBM] [Warning] No further splits with positive gain, best gain: -inf\n",
            "[LightGBM] [Warning] No further splits with positive gain, best gain: -inf\n",
            "[LightGBM] [Warning] No further splits with positive gain, best gain: -inf\n",
            "[LightGBM] [Warning] No further splits with positive gain, best gain: -inf\n",
            "[LightGBM] [Warning] No further splits with positive gain, best gain: -inf\n",
            "[LightGBM] [Warning] No further splits with positive gain, best gain: -inf\n",
            "[LightGBM] [Warning] No further splits with positive gain, best gain: -inf\n",
            "[LightGBM] [Warning] No further splits with positive gain, best gain: -inf\n",
            "[LightGBM] [Warning] No further splits with positive gain, best gain: -inf\n",
            "[LightGBM] [Warning] No further splits with positive gain, best gain: -inf\n",
            "[LightGBM] [Warning] No further splits with positive gain, best gain: -inf\n",
            "[LightGBM] [Warning] No further splits with positive gain, best gain: -inf\n",
            "[LightGBM] [Warning] No further splits with positive gain, best gain: -inf\n",
            "[LightGBM] [Warning] No further splits with positive gain, best gain: -inf\n",
            "[LightGBM] [Warning] No further splits with positive gain, best gain: -inf\n",
            "[LightGBM] [Warning] No further splits with positive gain, best gain: -inf\n",
            "[LightGBM] [Warning] No further splits with positive gain, best gain: -inf\n",
            "[LightGBM] [Warning] No further splits with positive gain, best gain: -inf\n",
            "[LightGBM] [Warning] No further splits with positive gain, best gain: -inf\n",
            "[LightGBM] [Warning] No further splits with positive gain, best gain: -inf\n",
            "[LightGBM] [Warning] No further splits with positive gain, best gain: -inf\n",
            "[LightGBM] [Warning] No further splits with positive gain, best gain: -inf\n",
            "[LightGBM] [Warning] No further splits with positive gain, best gain: -inf\n",
            "[LightGBM] [Warning] No further splits with positive gain, best gain: -inf\n",
            "[LightGBM] [Warning] No further splits with positive gain, best gain: -inf\n",
            "[LightGBM] [Warning] No further splits with positive gain, best gain: -inf\n",
            "[LightGBM] [Warning] No further splits with positive gain, best gain: -inf\n",
            "[LightGBM] [Warning] No further splits with positive gain, best gain: -inf\n",
            "[LightGBM] [Warning] No further splits with positive gain, best gain: -inf\n",
            "[LightGBM] [Warning] No further splits with positive gain, best gain: -inf\n",
            "[LightGBM] [Warning] No further splits with positive gain, best gain: -inf\n",
            "[LightGBM] [Warning] No further splits with positive gain, best gain: -inf\n",
            "[LightGBM] [Warning] No further splits with positive gain, best gain: -inf\n",
            "[LightGBM] [Warning] No further splits with positive gain, best gain: -inf\n",
            "[LightGBM] [Warning] No further splits with positive gain, best gain: -inf\n",
            "[LightGBM] [Warning] No further splits with positive gain, best gain: -inf\n",
            "[LightGBM] [Warning] No further splits with positive gain, best gain: -inf\n",
            "[LightGBM] [Warning] No further splits with positive gain, best gain: -inf\n",
            "[LightGBM] [Warning] No further splits with positive gain, best gain: -inf\n",
            "[LightGBM] [Warning] feature_fraction is set=0.8569717691972305, colsample_bytree=1.0 will be ignored. Current value: feature_fraction=0.8569717691972305\n",
            "[LightGBM] [Warning] lambda_l2 is set=1.5083337319786327e-06, reg_lambda=0.0 will be ignored. Current value: lambda_l2=1.5083337319786327e-06\n",
            "[LightGBM] [Warning] lambda_l1 is set=7.427695424061678, reg_alpha=0.0 will be ignored. Current value: lambda_l1=7.427695424061678\n",
            "[LightGBM] [Warning] bagging_fraction is set=0.5425825263954398, subsample=1.0 will be ignored. Current value: bagging_fraction=0.5425825263954398\n",
            "[LightGBM] [Warning] bagging_freq is set=6, subsample_freq=0 will be ignored. Current value: bagging_freq=6\n",
            "LightGBM Model F1 Score: 0.5923664122137404\n"
          ]
        }
      ]
    },
    {
      "cell_type": "code",
      "source": [
        "cm = confusion_matrix(y_eval, best_param_gbm.predict(X_eval), labels=best_param_gbm.classes_)\n",
        "disp = ConfusionMatrixDisplay(confusion_matrix=cm,\n",
        "                               display_labels=model.classes_)\n",
        "disp.plot()\n",
        "plt.show()"
      ],
      "metadata": {
        "colab": {
          "base_uri": "https://localhost:8080/",
          "height": 538
        },
        "id": "MH0qnwyS-MVT",
        "outputId": "8ed188e6-e97c-4d00-ea06-b8229130a6f4"
      },
      "execution_count": null,
      "outputs": [
        {
          "output_type": "stream",
          "name": "stdout",
          "text": [
            "[LightGBM] [Warning] feature_fraction is set=0.8569717691972305, colsample_bytree=1.0 will be ignored. Current value: feature_fraction=0.8569717691972305\n",
            "[LightGBM] [Warning] lambda_l2 is set=1.5083337319786327e-06, reg_lambda=0.0 will be ignored. Current value: lambda_l2=1.5083337319786327e-06\n",
            "[LightGBM] [Warning] lambda_l1 is set=7.427695424061678, reg_alpha=0.0 will be ignored. Current value: lambda_l1=7.427695424061678\n",
            "[LightGBM] [Warning] bagging_fraction is set=0.5425825263954398, subsample=1.0 will be ignored. Current value: bagging_fraction=0.5425825263954398\n",
            "[LightGBM] [Warning] bagging_freq is set=6, subsample_freq=0 will be ignored. Current value: bagging_freq=6\n"
          ]
        },
        {
          "output_type": "display_data",
          "data": {
            "text/plain": [
              "<Figure size 640x480 with 2 Axes>"
            ],
            "image/png": "[encoded data removed]"
          },
          "metadata": {}
        }
      ]
    },
    {
      "cell_type": "code",
      "source": [
        "194 + 94"
      ],
      "metadata": {
        "colab": {
          "base_uri": "https://localhost:8080/"
        },
        "id": "Gm38RQlKFk2Z",
        "outputId": "73c829db-6cd7-4130-e99a-1e0e67ebe40c"
      },
      "execution_count": null,
      "outputs": [
        {
          "output_type": "execute_result",
          "data": {
            "text/plain": [
              "288"
            ]
          },
          "metadata": {},
          "execution_count": 42
        }
      ]
    },
    {
      "cell_type": "code",
      "source": [
        "print(classification_report(y_eval, best_param_gbm.predict(X_eval)))"
      ],
      "metadata": {
        "colab": {
          "base_uri": "https://localhost:8080/"
        },
        "id": "D69bwq97eWxZ",
        "outputId": "8400f115-6ff0-4226-c635-bcacfe93067c"
      },
      "execution_count": null,
      "outputs": [
        {
          "output_type": "stream",
          "name": "stdout",
          "text": [
            "[LightGBM] [Warning] feature_fraction is set=0.8569717691972305, colsample_bytree=1.0 will be ignored. Current value: feature_fraction=0.8569717691972305\n",
            "[LightGBM] [Warning] lambda_l2 is set=1.5083337319786327e-06, reg_lambda=0.0 will be ignored. Current value: lambda_l2=1.5083337319786327e-06\n",
            "[LightGBM] [Warning] lambda_l1 is set=7.427695424061678, reg_alpha=0.0 will be ignored. Current value: lambda_l1=7.427695424061678\n",
            "[LightGBM] [Warning] bagging_fraction is set=0.5425825263954398, subsample=1.0 will be ignored. Current value: bagging_fraction=0.5425825263954398\n",
            "[LightGBM] [Warning] bagging_freq is set=6, subsample_freq=0 will be ignored. Current value: bagging_freq=6\n",
            "              precision    recall  f1-score   support\n",
            "\n",
            "           0       0.86      0.92      0.89      1202\n",
            "           1       0.67      0.53      0.59       367\n",
            "\n",
            "    accuracy                           0.83      1569\n",
            "   macro avg       0.77      0.73      0.74      1569\n",
            "weighted avg       0.82      0.83      0.82      1569\n",
            "\n"
          ]
        }
      ]
    },
    {
      "cell_type": "markdown",
      "source": [
        "#### **Results from the above modeling**"
      ],
      "metadata": {
        "id": "LmNMeYyHI8jO"
      }
    },
    {
      "cell_type": "markdown",
      "source": [
        "\n",
        "\n",
        "- In the test dataset, our initial approach involved making phone calls to 1569 people, resulting in 367 purchases. With the integration of this model for predictive analysis prior to calling, we only needed to reach out to 288 individuals, and 194 of them made a purchase. This led to a remarkable 80% reduction in our efforts.\n",
        "\n",
        "- The LightGBM classifier, when applied to the test data, successfully pinpointed 53% of individuals who purchased. Following this identification, a 67% purchase rate was observed.\n",
        "\n",
        "- Recognize the potential for a 47% loss in sales opportunities.\n"
      ],
      "metadata": {
        "id": "BB4hA-XF_jMj"
      }
    }
  ]
}